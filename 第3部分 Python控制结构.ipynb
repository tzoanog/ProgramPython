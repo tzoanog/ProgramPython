{
 "cells": [
  {
   "cell_type": "markdown",
   "metadata": {},
   "source": [
    "<table border=0 width=\"100%\"><tr><td><p align=\"left\"><img src=\"Images/logo.png\" align=\"left\" width=300></p></td><td><font size=5><B>Python程序设计与应用</B></font></td></tr></table>"
   ]
  },
  {
   "cell_type": "markdown",
   "metadata": {},
   "source": [
    "# <div align='center'>第三部分 Python控制结构</div>"
   ]
  },
  {
   "cell_type": "markdown",
   "metadata": {},
   "source": [
    "## 知识点\n",
    "- 顺序、选择、循环结构的工作原理。\n",
    "- if、if-else、for和while等语句的格式和功能。\n",
    "- break和continue的作用。\n",
    "- 使用import导入模块。"
   ]
  },
  {
   "cell_type": "markdown",
   "metadata": {},
   "source": [
    "## 预习\n",
    "* 第四章：程序的控制结构"
   ]
  },
  {
   "cell_type": "markdown",
   "metadata": {},
   "source": [
    "程序就是一系列指令。但编程真正的力量不仅在于运行（或“执行”）一条接一\n",
    "条的指令，就像任务清单那样。根据表达式求值的结果，程序可以决定**跳过**指令，**重复**指令，或从条指令中**选择**一条运行。“控制流语句”可以决定在什么条件下执行哪些Python 语句。\n",
    "\n",
    "下图展示了一张流程图，内容是如果下雨怎么办。按照箭头构成的路径，从开始到结束：\n",
    "<img src=\"Images/flowchart.png\" width=70%>"
   ]
  },
  {
   "cell_type": "markdown",
   "metadata": {},
   "source": [
    "## 1. 布尔值\n",
    "“布尔”数据类型只有两种值：<font color=\"blue\">True</font>和<font color=\"blue\">False</font>。Boolean（布尔）的首字母大写，因为这个数据类型是\n",
    "根据数学家George Boole 命名的。在作为Python 代码输入时，***布尔值True 和False\n",
    "不像字符串，两边没有引号，它们总是以大写字母T或F开头，后面的字母小写。***"
   ]
  },
  {
   "cell_type": "code",
   "execution_count": 1,
   "metadata": {},
   "outputs": [
    {
     "data": {
      "text/plain": [
       "False"
      ]
     },
     "execution_count": 1,
     "metadata": {},
     "output_type": "execute_result"
    }
   ],
   "source": [
    "1 == 2"
   ]
  },
  {
   "cell_type": "code",
   "execution_count": 2,
   "metadata": {},
   "outputs": [
    {
     "data": {
      "text/plain": [
       "True"
      ]
     },
     "execution_count": 2,
     "metadata": {},
     "output_type": "execute_result"
    }
   ],
   "source": [
    "1 == 1"
   ]
  },
  {
   "cell_type": "markdown",
   "metadata": {},
   "source": [
    "注意：在Python中**=**用于赋值，**==**用于判断是否相等。"
   ]
  },
  {
   "cell_type": "code",
   "execution_count": 3,
   "metadata": {},
   "outputs": [
    {
     "data": {
      "text/plain": [
       "False"
      ]
     },
     "execution_count": 3,
     "metadata": {},
     "output_type": "execute_result"
    }
   ],
   "source": [
    "hi = \"Hello\"  \n",
    "hi == \"hello\""
   ]
  },
  {
   "cell_type": "code",
   "execution_count": 4,
   "metadata": {},
   "outputs": [
    {
     "ename": "SyntaxError",
     "evalue": "can't assign to keyword (<ipython-input-4-5046aa325f81>, line 1)",
     "output_type": "error",
     "traceback": [
      "\u001b[1;36m  File \u001b[1;32m\"<ipython-input-4-5046aa325f81>\"\u001b[1;36m, line \u001b[1;32m1\u001b[0m\n\u001b[1;33m    True = 1 + 1\u001b[0m\n\u001b[1;37m                ^\u001b[0m\n\u001b[1;31mSyntaxError\u001b[0m\u001b[1;31m:\u001b[0m can't assign to keyword\n"
     ]
    }
   ],
   "source": [
    "True = 1 + 1"
   ]
  },
  {
   "cell_type": "code",
   "execution_count": 6,
   "metadata": {
    "collapsed": true
   },
   "outputs": [],
   "source": [
    "true = 1 + 1 #虽然没有错，但是不建议用这样的变量名"
   ]
  },
  {
   "cell_type": "markdown",
   "metadata": {},
   "source": [
    "## 2. 比较运算符\n",
    "“比较操作符”比较两个值，求值为一个布尔值。下表列出了比较操作符：\n",
    "\n",
    "|操作符|含义|\n",
    "|:----|:---|\n",
    "|==|等于|\n",
    "|!= |不等于|\n",
    "|<| 小于|\n",
    "|>| 大于|\n",
    "|<=| 小于等于|\n",
    "|>=| 大于等于|"
   ]
  },
  {
   "cell_type": "code",
   "execution_count": 7,
   "metadata": {},
   "outputs": [
    {
     "data": {
      "text/plain": [
       "True"
      ]
     },
     "execution_count": 7,
     "metadata": {},
     "output_type": "execute_result"
    }
   ],
   "source": [
    "10 < 20"
   ]
  },
  {
   "cell_type": "code",
   "execution_count": 8,
   "metadata": {},
   "outputs": [
    {
     "data": {
      "text/plain": [
       "False"
      ]
     },
     "execution_count": 8,
     "metadata": {},
     "output_type": "execute_result"
    }
   ],
   "source": [
    "10 >= 20"
   ]
  },
  {
   "cell_type": "code",
   "execution_count": 9,
   "metadata": {},
   "outputs": [
    {
     "data": {
      "text/plain": [
       "True"
      ]
     },
     "execution_count": 9,
     "metadata": {},
     "output_type": "execute_result"
    }
   ],
   "source": [
    "\"abc\" != \"ABC\""
   ]
  },
  {
   "cell_type": "code",
   "execution_count": 10,
   "metadata": {},
   "outputs": [
    {
     "data": {
      "text/plain": [
       "True"
      ]
     },
     "execution_count": 10,
     "metadata": {},
     "output_type": "execute_result"
    }
   ],
   "source": [
    "\"abc\" < \"bcd\""
   ]
  },
  {
   "cell_type": "code",
   "execution_count": 11,
   "metadata": {},
   "outputs": [
    {
     "data": {
      "text/plain": [
       "False"
      ]
     },
     "execution_count": 11,
     "metadata": {},
     "output_type": "execute_result"
    }
   ],
   "source": [
    "100 == \"100\""
   ]
  },
  {
   "cell_type": "code",
   "execution_count": 21,
   "metadata": {},
   "outputs": [
    {
     "data": {
      "text/plain": [
       "True"
      ]
     },
     "execution_count": 21,
     "metadata": {},
     "output_type": "execute_result"
    }
   ],
   "source": [
    "score = 90\n",
    "60 <= score < 100  #只有Python中可以这样用"
   ]
  },
  {
   "cell_type": "markdown",
   "metadata": {},
   "source": [
    "## 3. 布尔操作符\n",
    "Python中3个布尔操作符（and、or 和not）用于比较布尔值。像比较操作符一样，它们将这些表达式求值为一个布尔值。\n",
    "### 3.1 二元布尔操作符\n",
    "and和or操作符总是接受两个布尔值（或表达式），所以它们被认为是“**二元**”操作符。\n",
    "\n",
    "**and**:如果两个布尔值都为True，and操作符就将表达式求值为True，否则求值为False。"
   ]
  },
  {
   "cell_type": "code",
   "execution_count": 12,
   "metadata": {},
   "outputs": [
    {
     "data": {
      "text/plain": [
       "True"
      ]
     },
     "execution_count": 12,
     "metadata": {},
     "output_type": "execute_result"
    }
   ],
   "source": [
    "True and True"
   ]
  },
  {
   "cell_type": "code",
   "execution_count": 13,
   "metadata": {},
   "outputs": [
    {
     "data": {
      "text/plain": [
       "False"
      ]
     },
     "execution_count": 13,
     "metadata": {},
     "output_type": "execute_result"
    }
   ],
   "source": [
    "True and False"
   ]
  },
  {
   "cell_type": "code",
   "execution_count": 14,
   "metadata": {},
   "outputs": [
    {
     "data": {
      "text/plain": [
       "False"
      ]
     },
     "execution_count": 14,
     "metadata": {},
     "output_type": "execute_result"
    }
   ],
   "source": [
    "(1 == 1) and (10 > 100)"
   ]
  },
  {
   "cell_type": "markdown",
   "metadata": {},
   "source": [
    "**or**:只要有一个布尔值为真，or 操作符就将表达式求值为True。如果都是False，所求值为False。"
   ]
  },
  {
   "cell_type": "code",
   "execution_count": 15,
   "metadata": {},
   "outputs": [
    {
     "data": {
      "text/plain": [
       "True"
      ]
     },
     "execution_count": 15,
     "metadata": {},
     "output_type": "execute_result"
    }
   ],
   "source": [
    "False or True"
   ]
  },
  {
   "cell_type": "code",
   "execution_count": 16,
   "metadata": {},
   "outputs": [
    {
     "data": {
      "text/plain": [
       "False"
      ]
     },
     "execution_count": 16,
     "metadata": {},
     "output_type": "execute_result"
    }
   ],
   "source": [
    "False or False"
   ]
  },
  {
   "cell_type": "code",
   "execution_count": 17,
   "metadata": {},
   "outputs": [
    {
     "data": {
      "text/plain": [
       "True"
      ]
     },
     "execution_count": 17,
     "metadata": {},
     "output_type": "execute_result"
    }
   ],
   "source": [
    "(1 == 1) or (10 > 100)"
   ]
  },
  {
   "cell_type": "markdown",
   "metadata": {},
   "source": [
    "### 3.2 not操作符\n",
    "和and 和or 不同，not 操作符只作用于一个布尔值（或表达式）。not 操作符求值为相反的布尔值。"
   ]
  },
  {
   "cell_type": "code",
   "execution_count": 18,
   "metadata": {},
   "outputs": [
    {
     "data": {
      "text/plain": [
       "False"
      ]
     },
     "execution_count": 18,
     "metadata": {},
     "output_type": "execute_result"
    }
   ],
   "source": [
    "not True"
   ]
  },
  {
   "cell_type": "code",
   "execution_count": 19,
   "metadata": {},
   "outputs": [
    {
     "data": {
      "text/plain": [
       "False"
      ]
     },
     "execution_count": 19,
     "metadata": {},
     "output_type": "execute_result"
    }
   ],
   "source": [
    "not not not not False"
   ]
  },
  {
   "cell_type": "markdown",
   "metadata": {},
   "source": [
    "## 4. 控制流的元素\n",
    "控制流语句的开始部分通常是“条件”，接下来是一个代码块，称为“子句”。\n",
    "### 4.1 条件\n",
    "布尔表达式可以看成是条件，它和表达式是一回事。“条件”只是在控制流语句的上下文中更具体的名称。条件总是求值为一个布尔值，True 或False。***控制语句根据条件是True 还是False，来决定做什么***。几乎所有的控制流语句都使用条件。\n",
    "### 4.2 代码块\n",
    "一些代码行可以作为一组，放在“代码块”中。**<font color=\"red\">可以根据代码行的缩进，知道代码块的开始和结束。</font>**代码块有3 条规则。<br>\n",
    "(1) 缩进增加时，代码块开始。<br><br>\n",
    "(2) 代码块可以包含其他代码块。<br>\n",
    "(3) 缩进减少为零，或减少为外面包围代码块的缩进，代码块就结束了。<br><br>\n",
    "\n",
    "Python语言采用严格的“缩进”来表明程序的格式框架。缩进指每一行代码开始前的空白区域，用来表示代码之间的包含和层次关系。\n",
    "\n",
    "***1个缩进 = 4个空格***\n",
    "\n",
    "<table border=\"0\" width=\"100%\">\n",
    "<tr>\n",
    "<td><img src=\"Images/ident1.png\" width=\"80%\"></td>\n",
    "<td><img src=\"Images/ident2.png\" width=\"80%\"></td>\n",
    "</tr>\n",
    "</table>\n",
    "\n",
    "**<font color=\"red\">缩进是Python语言中表明程序框架的唯一手段。</font>**<br>\n",
    "**<font color=\"red\">缩进是Python语言中表明程序框架的唯一手段。</font>**<br>\n",
    "**<font color=\"red\">缩进是Python语言中表明程序框架的唯一手段。</font>**<br>"
   ]
  },
  {
   "cell_type": "markdown",
   "metadata": {},
   "source": [
    "## 5. 控制流语句\n",
    "### 5.1 分支结构\n",
    "分支结构是程序根据条件判断结果而选择不同向前执行路径的一种运行方式，包括单分支结构和二分支结构。由二分支结构会组合形成多分支结构。\n",
    "<img src=\"Images/if.png\" width=70%><br><br>\n",
    "** 5.1.1  if 语句 **<br>\n",
    "if 语句的子句（也就是紧跟if 语句的语句块），将在语句的条件为True 时执行。如果条件为False，子句将跳过。在Python中，if 语句包含以下部分：\n",
    "* if 关键字；\n",
    "* 条件（即求值为True 或False 的表达式）；\n",
    "* 冒号；\n",
    "* 在下一行开始，**缩进的代码块**（称为if 子句）"
   ]
  },
  {
   "cell_type": "code",
   "execution_count": 23,
   "metadata": {},
   "outputs": [
    {
     "name": "stdout",
     "output_type": "stream",
     "text": [
      "男\n",
      "不管真假，都会打印我。\n"
     ]
    }
   ],
   "source": [
    "idCard = \"520125197907167551\"\n",
    "genderFlag = int(idCard[16])\n",
    "if genderFlag % 2 == 1:\n",
    "    print(\"男\")\n",
    "print(\"不管真假，都会打印我。\")"
   ]
  },
  {
   "cell_type": "markdown",
   "metadata": {},
   "source": [
    "** 5.1.2  else 语句 **<br>\n",
    "if 子句后面有时候也可以跟着else 语句。只有if 语句的条件为False 时，else子句才会执行。在英语中，else 语句读起来可能是：“如果条件为真，执行这段代码。否则，执行那段代码”。else 语句不包含条件，在代码中，else 语句中包含下面部分：\n",
    "* else 关键字；\n",
    "* 冒号；\n",
    "* 在下一行开始，**缩进的代码块**（称为else 子句）。"
   ]
  },
  {
   "cell_type": "code",
   "execution_count": 24,
   "metadata": {},
   "outputs": [
    {
     "name": "stdout",
     "output_type": "stream",
     "text": [
      "男\n",
      "不管真假，都会打印我。\n"
     ]
    }
   ],
   "source": [
    "idCard = \"520125197907167551\"\n",
    "genderFlag = int(idCard[16])\n",
    "if genderFlag % 2 == 1:\n",
    "    print(\"男\")\n",
    "else:\n",
    "    print(\"女\")\n",
    "print(\"不管真假，都会打印我。\")"
   ]
  },
  {
   "cell_type": "code",
   "execution_count": 25,
   "metadata": {
    "scrolled": true
   },
   "outputs": [
    {
     "name": "stdout",
     "output_type": "stream",
     "text": [
      "女\n",
      "不管真假，都会打印我。\n"
     ]
    }
   ],
   "source": [
    "idCard = \"520125197907167561\"\n",
    "genderFlag = int(idCard[16])\n",
    "if genderFlag % 2 == 1:\n",
    "    print(\"男\")\n",
    "else:\n",
    "    print(\"女\")\n",
    "print(\"不管真假，都会打印我。\")"
   ]
  },
  {
   "cell_type": "markdown",
   "metadata": {},
   "source": [
    "** 5.1.3  elif 语句 **<br>\n",
    "虽然只有if 或else 子句会被执行，但有时候可能你希望，“许多”可能的子句中有一个被执行。elif 语句是“否则如果”，总是跟在if 或另一条elif 语句后面。它提供了另一个条件，仅在前面的条件为False 时才检查该条件。在代码中，elif 语句总是包含以下部分：\n",
    "* elif 关键字；\n",
    "* 条件（即求值为True 或False 的表达式）；\n",
    "* 冒号；\n",
    "* 在下一行开始，**缩进的代码块**（称为elif 子句）"
   ]
  },
  {
   "cell_type": "code",
   "execution_count": 28,
   "metadata": {},
   "outputs": [
    {
     "name": "stdout",
     "output_type": "stream",
     "text": [
      "0.1\n"
     ]
    }
   ],
   "source": [
    "taxIncome = 120000.00\n",
    "if taxIncome <= 36000:\n",
    "    taxRate = 0.03\n",
    "elif taxIncome <= 144000:\n",
    "    taxRate = 0.1\n",
    "elif taxIncome <= 300000:\n",
    "    taxRate = 0.2\n",
    "elif taxIncome <= 420000:\n",
    "    taxRate = 0.25\n",
    "elif taxIncome <= 660000:\n",
    "    taxRate = 0.30\n",
    "elif taxIncome <= 960000:\n",
    "    taxRate = 0.35\n",
    "else:\n",
    "    taxRate = 0.4\n",
    "print(taxRate)"
   ]
  },
  {
   "cell_type": "markdown",
   "metadata": {},
   "source": [
    "** 5.1.4 什么是真值（True） **<br>\n",
    "如果表达式的返回类型不是布尔会发生什么？什么情况下Python 会认为是True 和False?\n",
    "一个假赋值不一定明确表示为False，下面的情况也会被认为是False。\n",
    "<img src=\"Images/false.png\" width=40%><br>\n",
    "剩下的都会被认为True。"
   ]
  },
  {
   "cell_type": "code",
   "execution_count": 38,
   "metadata": {},
   "outputs": [
    {
     "name": "stdout",
     "output_type": "stream",
     "text": [
      "列表是空的。\n"
     ]
    }
   ],
   "source": [
    "emptyList = []\n",
    "if emptyList:\n",
    "    print(\"列表不是空的。\")\n",
    "else:\n",
    "    print(\"列表是空的。\")"
   ]
  },
  {
   "cell_type": "markdown",
   "metadata": {},
   "source": [
    "** 5.1.4 分支结构实例：身体质量指数BMI**<br>\n",
    "BMI的定义如下：<br>\n",
    "<center>**$BMI = 体重（kg）\\div 身高^{2}（m^{2}）$**</center><br>\n",
    "例如，一个人身高1.75米、体重75公斤，他的BMI值为24.49\n",
    "\n",
    "编写一个根据体重和身高计算BMI值的程序，并同时输出国际和国内的BMI指标建议值:<br>\n",
    "<img src=\"Images/BMI.png\" width=\"70%\">"
   ]
  },
  {
   "cell_type": "code",
   "execution_count": 35,
   "metadata": {},
   "outputs": [
    {
     "name": "stdout",
     "output_type": "stream",
     "text": [
      "请输入身高(米)和体重\\(公斤)[逗号隔开]: 1.75,75\n",
      "BMI数值为：24.49\n",
      "BMI指标为:国际'正常', 国内'偏胖'\n"
     ]
    }
   ],
   "source": [
    "height, weight = eval(input(\"请输入身高(米)和体重(公斤)[逗号隔开]: \"))\n",
    "bmi = weight / pow(height, 2)\n",
    "print(\"BMI数值为：{:.2f}\".format(bmi))\n",
    "wto, dom = \"\", \"\"\n",
    "if bmi < 18.5:   # WTO标准\n",
    "    wto = \"偏瘦\"\n",
    "elif bmi < 25:   # 18.5 <= bmi < 25\n",
    "    wto = \"正常\"\n",
    "elif bmi < 30:   # 25 <= bmi < 30\n",
    "    wto = \"偏胖\"\n",
    "else:\n",
    "    wto = \"肥胖\"\n",
    "if bmi < 18.5:    # 我国卫生部标准\n",
    "    dom = \"偏瘦\"\n",
    "elif bmi < 24:    # 18.5 <= bmi < 24\n",
    "    dom = \"正常\"\n",
    "elif bmi < 28:    # 24 <= bmi < 28\n",
    "    dom = \"偏胖\"\n",
    "else:\n",
    "    dom = \"肥胖\"\n",
    "print(\"BMI指标为:国际'{0}', 国内'{1}'\".format(wto, dom))\n"
   ]
  },
  {
   "cell_type": "code",
   "execution_count": 37,
   "metadata": {},
   "outputs": [
    {
     "name": "stdout",
     "output_type": "stream",
     "text": [
      "请输入身高(米)和体重(公斤)[逗号隔开]: 1.75, 75\n",
      "BMI数值为：24.49\n",
      "BMI指标为:国际'正常', 国内'偏胖'\n"
     ]
    }
   ],
   "source": [
    "height, weight = eval(input(\"请输入身高(米)和体重(公斤)[逗号隔开]: \"))\n",
    "bmi = weight / pow(height, 2)\n",
    "print(\"BMI数值为：{:.2f}\".format(bmi))\n",
    "wto, dom = \"\", \"\"\n",
    "if bmi < 18.5:\n",
    "    wto, dom = \"偏瘦\", \"偏瘦\"\n",
    "elif 18.5 <= bmi < 24:\n",
    "    wto, dom = \"正常\", \"正常\"\n",
    "elif 24 <= bmi < 25:\n",
    "    wto, dom = \"正常\", \"偏胖\"\n",
    "elif 25 <= bmi < 28:\n",
    "    wto, dom = \"偏胖\", \"偏胖\"\n",
    "elif 28 <= bmi < 30:\n",
    "    wto, dom = \"偏胖\", \"肥胖\"\n",
    "else:\n",
    "    wto, dom = \"肥胖\", \"肥胖\"\n",
    "print(\"BMI指标为:国际'{0}', 国内'{1}'\".format(wto, dom))"
   ]
  },
  {
   "attachments": {},
   "cell_type": "markdown",
   "metadata": {
    "collapsed": true
   },
   "source": [
    "### 5.2 while 循环语句\n",
    "利用while 语句，可以让一个代码块一遍又一遍的执行。***只要while 语句的条件为True，while 子句中的代码就会执行***。在代码中，while 语句总是包含下面几部分：\n",
    "* 关键字；\n",
    "* 条件（求值为True 或False 的表达式）；\n",
    "* 冒号；\n",
    "* 从新行开始，缩进的代码块（称为while 子句）。\n",
    "\n",
    "Python当中，while实现循环的方法如下：<br>\n",
    "```Python\n",
    "while <条件>:\n",
    "  <语句块>\n",
    "```\n",
    "while 语句看起来和if 语句类似。不同之处是它们的行为。if 子句结束时，程序继续执行if 语句之后的语句。但在while 子句结束时，程序执行跳回到while 语句开始处。while 子句常被称为“while 循环”，或就是“循环”。例如下面的代码："
   ]
  },
  {
   "cell_type": "code",
   "execution_count": 2,
   "metadata": {},
   "outputs": [
    {
     "name": "stdout",
     "output_type": "stream",
     "text": [
      "第1个用户\n"
     ]
    }
   ],
   "source": [
    "userCounter = 0\n",
    "if userCounter < 10:\n",
    "    userCounter = userCounter + 1\n",
    "    print(\"第{}个用户\".format(userCounter))"
   ]
  },
  {
   "cell_type": "code",
   "execution_count": 5,
   "metadata": {},
   "outputs": [
    {
     "name": "stdout",
     "output_type": "stream",
     "text": [
      "第1个用户\n",
      "第2个用户\n",
      "第3个用户\n",
      "第4个用户\n",
      "第5个用户\n",
      "第6个用户\n",
      "第7个用户\n",
      "第8个用户\n",
      "第9个用户\n",
      "第10个用户\n"
     ]
    }
   ],
   "source": [
    "userCounter = 0\n",
    "while userCounter < 10:\n",
    "    userCounter += 1\n",
    "    print(\"第{}个用户\".format(userCounter))"
   ]
  },
  {
   "attachments": {},
   "cell_type": "markdown",
   "metadata": {},
   "source": [
    "***扩展***\n",
    "\n",
    "\n",
    "while语句也有一种使用保留字else的扩展模式,如果while 循环正常结束（没有使用break 跳出），程序将进入到可选的else段：\n",
    "```Python\n",
    "while  <条件>:\n",
    "    <语句块1>\n",
    "else:\n",
    "    <语句块2>\n",
    "```"
   ]
  },
  {
   "cell_type": "code",
   "execution_count": 9,
   "metadata": {
    "scrolled": true
   },
   "outputs": [
    {
     "name": "stdout",
     "output_type": "stream",
     "text": [
      "循环中：S\n",
      "循环中：W\n",
      "循环中：U\n",
      "循环中：F\n",
      "循环中：E\n",
      "循环正常结束\n"
     ]
    }
   ],
   "source": [
    "s, idx = \"SWUFE\", 0\n",
    "while idx < len(s):\n",
    "    print(\"循环中：\" + s[idx])\n",
    "    idx += 1\n",
    "else:\n",
    "    print(\"循环正常结束\")  # 那什么时候不会执行这句话呢？break了解一下。"
   ]
  },
  {
   "cell_type": "markdown",
   "metadata": {},
   "source": [
    "### 5.2 for 循环语句\n",
    "在条件为True 时，while 循环就会继续循环（这是它的名称的由来）。但如果你想让一个代码块执行固定次数，该怎么办？可以通过for循环语句和range()函数来实现。\n",
    "\n",
    "在代码中，for 语句看起来像***for i in range(5):***这样，总是包含以下部分：\n",
    "* for 关键字；\n",
    "* 一个变量名；\n",
    "* in 关键字；\n",
    "* 调用range()方法，最多传入3 个参数；\n",
    "* 冒号；\n",
    "* 从下一行开始，缩退的代码块（称为for子句）。\n",
    "\n",
    "当高斯还是一个小孩时，老师想给全班同学布置很多计算作业。老师让他们从0 加到100。高斯想到了\n",
    "一个聪明办法，在几秒钟内算出了答案。<font color=\"white\">小高斯想到，有50对数加起来是100：1 + 99, 2 + 98, 3 + 97……直到49 + 51。因为50 × 100 是5000，再加上中间的50，所以0 到100 的所有数之和是5050。</font>下面是一个从0加到100的例子："
   ]
  },
  {
   "cell_type": "code",
   "execution_count": 10,
   "metadata": {},
   "outputs": [
    {
     "name": "stdout",
     "output_type": "stream",
     "text": [
      "5050\n"
     ]
    }
   ],
   "source": [
    "total = 0\n",
    "for num in range(101):\n",
    "    total = total + num\n",
    "print(total)"
   ]
  },
  {
   "cell_type": "markdown",
   "metadata": {},
   "source": [
    "也可以等价于while循环："
   ]
  },
  {
   "cell_type": "code",
   "execution_count": 11,
   "metadata": {},
   "outputs": [
    {
     "name": "stdout",
     "output_type": "stream",
     "text": [
      "5050\n"
     ]
    }
   ],
   "source": [
    "total, num = 0, 0\n",
    "while num < 101:\n",
    "    total = total + num\n",
    "    num += 1\n",
    "print(total)"
   ]
  },
  {
   "cell_type": "markdown",
   "metadata": {},
   "source": [
    "**range()的开始、停止和步长参数**\n",
    "\n",
    "某些函数可以用多个参数调用，参数之间用逗号分开，range()就是其中之一。这让你能够改变传递给range()的整数，实现各种整数序列，包括从0以外的值开始。"
   ]
  },
  {
   "cell_type": "code",
   "execution_count": 12,
   "metadata": {},
   "outputs": [
    {
     "name": "stdout",
     "output_type": "stream",
     "text": [
      "1\n",
      "2\n",
      "3\n",
      "4\n",
      "5\n"
     ]
    }
   ],
   "source": [
    "for i in range(1, 6):\n",
    "    print(i)"
   ]
  },
  {
   "cell_type": "markdown",
   "metadata": {},
   "source": [
    "range()函数也可以有第三个参数。前两个参数分别是起始值和终止值，第三个参数是“步长”。步长是每次迭代后循环变量增加的值。"
   ]
  },
  {
   "cell_type": "code",
   "execution_count": 13,
   "metadata": {},
   "outputs": [
    {
     "name": "stdout",
     "output_type": "stream",
     "text": [
      "0\n",
      "2\n",
      "4\n",
      "6\n",
      "8\n"
     ]
    }
   ],
   "source": [
    "for i in range(0, 10, 2):\n",
    "    print(i)"
   ]
  },
  {
   "cell_type": "markdown",
   "metadata": {},
   "source": [
    "在为for 循环生成序列数据方面，range()函数很灵活。举例来说，甚至可以用负数作为步长参数，让循环计数逐渐减少，而不是增加。"
   ]
  },
  {
   "cell_type": "code",
   "execution_count": 14,
   "metadata": {},
   "outputs": [
    {
     "name": "stdout",
     "output_type": "stream",
     "text": [
      "5\n",
      "4\n",
      "3\n",
      "2\n",
      "1\n",
      "0\n"
     ]
    }
   ],
   "source": [
    "for i in range(5, -1, -1):\n",
    "    print(i)"
   ]
  },
  {
   "attachments": {},
   "cell_type": "markdown",
   "metadata": {},
   "source": [
    "***扩展***\n",
    "\n",
    "\n",
    "for 语句也有一种使用保留字else的扩展模式,如果for循环正常结束（没有使用break跳出），程序将进入到可选的else段：\n",
    "```Python\n",
    "for <循环变量> in <遍历结构>:\n",
    "    <语句块1>\n",
    "else:\n",
    "    <语句块2>\n",
    "```"
   ]
  },
  {
   "cell_type": "code",
   "execution_count": 15,
   "metadata": {},
   "outputs": [
    {
     "name": "stdout",
     "output_type": "stream",
     "text": [
      "循环中：S\n",
      "循环中：W\n",
      "循环中：U\n",
      "循环中：F\n",
      "循环中：E\n",
      "循环正常结束\n"
     ]
    }
   ],
   "source": [
    "s, idx = \"SWUFE\", 0\n",
    "for idx in range(len(s)):\n",
    "    print(\"循环中：\" + s[idx])\n",
    "else:\n",
    "    print(\"循环正常结束\")  # 那什么时候不会执行这句话呢？break了解一下。"
   ]
  },
  {
   "attachments": {},
   "cell_type": "markdown",
   "metadata": {},
   "source": [
    "### 5.3 break 语句\n",
    "break用来跳出最内层for或while循环，脱离该循环后程序从循环后代码继续续执行。"
   ]
  },
  {
   "cell_type": "code",
   "execution_count": 18,
   "metadata": {},
   "outputs": [
    {
     "name": "stdout",
     "output_type": "stream",
     "text": [
      "在swufe中找到u了。\n"
     ]
    }
   ],
   "source": [
    "nameStr = \"swufe\"\n",
    "#nameStr = \"abcde\"\n",
    "for c in nameStr:\n",
    "    if c == 'u':\n",
    "        print(\"在{}中找到u了。\".format(nameStr))\n",
    "        break\n",
    "else:\n",
    "    print(\"{}中没有u字母。\".format(nameStr))"
   ]
  },
  {
   "attachments": {},
   "cell_type": "markdown",
   "metadata": {},
   "source": [
    "每个break语句只有能力跳出当前层次循环。"
   ]
  },
  {
   "cell_type": "code",
   "execution_count": 20,
   "metadata": {},
   "outputs": [
    {
     "name": "stdout",
     "output_type": "stream",
     "text": [
      "sssssssssswwwwwwwwwwuffffffffffeeeeeeeeee"
     ]
    }
   ],
   "source": [
    "for c in \"swufe\":\n",
    "    for i in range(10):\n",
    "        print(c, end=\"\")\n",
    "        if c=='u':\n",
    "            break"
   ]
  },
  {
   "cell_type": "markdown",
   "metadata": {},
   "source": [
    "### 5.4 continue 语句\n",
    "像break 语句一样，continue 语句用于循环内部。如果程序执行遇到continue语句，就会马上***跳回到循环开始处，重新对循环条件求值***（这也是执行到达循环末尾时发生的事情）。\n",
    "\n",
    "试试下面的用户验证："
   ]
  },
  {
   "cell_type": "code",
   "execution_count": 21,
   "metadata": {},
   "outputs": [
    {
     "name": "stdout",
     "output_type": "stream",
     "text": [
      "请输入用户名：\n",
      "test\n",
      "请输入用户名：\n",
      "zhangsan\n",
      "Hello, zhangsan. 密码是什么? (学校简称.)\n",
      "bzd\n",
      "请输入用户名：\n",
      "zhangsan\n",
      "Hello, zhangsan. 密码是什么? (学校简称.)\n",
      "swufe\n",
      "用户验证成功.\n"
     ]
    }
   ],
   "source": [
    "while True:\n",
    "    print('请输入用户名：')\n",
    "    name = input()\n",
    "    if name != 'zhangsan':\n",
    "        continue\n",
    "    print('Hello, zhangsan. 密码是什么? (学校简称.)')\n",
    "    password = input()\n",
    "    if password == 'swufe':\n",
    "        break\n",
    "print('用户验证成功.')"
   ]
  },
  {
   "cell_type": "markdown",
   "metadata": {},
   "source": [
    "## 6. 导入模块\n",
    "Python 程序可以调用一组基本的函数，这称为“**内建函数**”，包括你见到过的print()、input()和len()函数。Python 也包括一组模块，称为“**标准库**”。每个模块都是一个Python 程序，包含一组相关的函数，可以嵌入你的程序之中。例如，math模块有数学运算相关的函数，random 模块有随机数相关的函数，等等。\n",
    "\n",
    "在开始使用一个模块中的函数之前，必须用**import 语句**导入该模块。在代码中，import 语句包含以下部分：\n",
    "* import 关键字；\n",
    "* 模块的名称；\n",
    "* 可选的更多模块名称，之间用逗号隔开。\n",
    "\n",
    "在导入一个模块后，就可以使用该模块中所有很酷的函数。让我们试一试random 模块，它让我们能使用random.randint()函数。。因为randint()属于random 模块，必须在函数名称之前先加上random.，告诉python 在random 模块中寻找这个函数。"
   ]
  },
  {
   "cell_type": "code",
   "execution_count": 24,
   "metadata": {},
   "outputs": [
    {
     "name": "stdout",
     "output_type": "stream",
     "text": [
      "4\n",
      "2\n",
      "3\n",
      "1\n",
      "5\n"
     ]
    }
   ],
   "source": [
    "import random\n",
    "for i in range(5):\n",
    "    print(random.randint(1, 10))"
   ]
  },
  {
   "cell_type": "code",
   "execution_count": 25,
   "metadata": {},
   "outputs": [
    {
     "ename": "NameError",
     "evalue": "name 'randint' is not defined",
     "output_type": "error",
     "traceback": [
      "\u001b[1;31m---------------------------------------------------------------------------\u001b[0m",
      "\u001b[1;31mNameError\u001b[0m                                 Traceback (most recent call last)",
      "\u001b[1;32m<ipython-input-25-fe04c030b850>\u001b[0m in \u001b[0;36m<module>\u001b[1;34m()\u001b[0m\n\u001b[0;32m      1\u001b[0m \u001b[1;32mfor\u001b[0m \u001b[0mi\u001b[0m \u001b[1;32min\u001b[0m \u001b[0mrange\u001b[0m\u001b[1;33m(\u001b[0m\u001b[1;36m5\u001b[0m\u001b[1;33m)\u001b[0m\u001b[1;33m:\u001b[0m\u001b[1;33m\u001b[0m\u001b[0m\n\u001b[1;32m----> 2\u001b[1;33m     \u001b[0mprint\u001b[0m\u001b[1;33m(\u001b[0m\u001b[0mrandint\u001b[0m\u001b[1;33m(\u001b[0m\u001b[1;36m1\u001b[0m\u001b[1;33m,\u001b[0m \u001b[1;36m10\u001b[0m\u001b[1;33m)\u001b[0m\u001b[1;33m)\u001b[0m \u001b[1;31m#不像print()函数，randint()不能直接这样用\u001b[0m\u001b[1;33m\u001b[0m\u001b[0m\n\u001b[0m",
      "\u001b[1;31mNameError\u001b[0m: name 'randint' is not defined"
     ]
    }
   ],
   "source": [
    "for i in range(5):\n",
    "    print(randint(1, 10)) #不像print()函数，randint()不能直接这样用"
   ]
  },
  {
   "cell_type": "markdown",
   "metadata": {},
   "source": [
    "下面是import 语句的例子，它导入了4 个不同的模块："
   ]
  },
  {
   "cell_type": "code",
   "execution_count": 26,
   "metadata": {
    "collapsed": true
   },
   "outputs": [],
   "source": [
    "import random, sys, os, math"
   ]
  },
  {
   "cell_type": "markdown",
   "metadata": {},
   "source": [
    "** from import 语句**\n",
    "\n",
    "import 语句的另一种形式包括from 关键字，之后是模块名称，import 关键字和一个星号，例如from random import \\*。\n",
    "使用这种形式的import 语句，调用random 模块中的函数时不需要random.前缀。但是，使用完整的名称会让代码更可读，所以最好是使用普通形式的import 语句。"
   ]
  },
  {
   "cell_type": "code",
   "execution_count": 27,
   "metadata": {},
   "outputs": [
    {
     "name": "stdout",
     "output_type": "stream",
     "text": [
      "3\n",
      "2\n",
      "4\n",
      "1\n",
      "1\n"
     ]
    }
   ],
   "source": [
    "from random import *\n",
    "for i in range(5):\n",
    "    print(randint(1, 10))"
   ]
  },
  {
   "attachments": {},
   "cell_type": "markdown",
   "metadata": {},
   "source": [
    "## 7. random库的使用\n",
    "随机数在计算机应用中十分常见，Python内置的random库主要用于产生各种分布的伪随机数序列。random库采用梅森旋转算法（Mersenne twister）生成伪随机数序列，可用于除随机性要求更高的加解密算法外的大多数工程应用。\n",
    "\n",
    "使用random库主要目的是生成随机数，因此，只需要查阅该库的随机数生成函数，找到符合使用场景的函数使用即可。这个库提供了不同类型的随机数函数，所有函数都是基于最基本的random.random()函数扩展而来。\n",
    "\n",
    "<img src=\"Images/random1.png\" width=\"80%\">"
   ]
  },
  {
   "cell_type": "code",
   "execution_count": 28,
   "metadata": {},
   "outputs": [
    {
     "data": {
      "text/plain": [
       "0.051658109767384386"
      ]
     },
     "execution_count": 28,
     "metadata": {},
     "output_type": "execute_result"
    }
   ],
   "source": [
    "from random import *\n",
    "random()"
   ]
  },
  {
   "cell_type": "code",
   "execution_count": 29,
   "metadata": {},
   "outputs": [
    {
     "data": {
      "text/plain": [
       "2.8440885448842397"
      ]
     },
     "execution_count": 29,
     "metadata": {},
     "output_type": "execute_result"
    }
   ],
   "source": [
    "uniform(1, 10)"
   ]
  },
  {
   "cell_type": "code",
   "execution_count": 30,
   "metadata": {},
   "outputs": [
    {
     "data": {
      "text/plain": [
       "72"
      ]
     },
     "execution_count": 30,
     "metadata": {},
     "output_type": "execute_result"
    }
   ],
   "source": [
    "randrange(0,100,4) #从0开始到100以4递增的元素中随机返回"
   ]
  },
  {
   "cell_type": "code",
   "execution_count": 31,
   "metadata": {},
   "outputs": [
    {
     "data": {
      "text/plain": [
       "84"
      ]
     },
     "execution_count": 31,
     "metadata": {},
     "output_type": "execute_result"
    }
   ],
   "source": [
    "choice(range(100)) "
   ]
  },
  {
   "cell_type": "code",
   "execution_count": 32,
   "metadata": {},
   "outputs": [
    {
     "name": "stdout",
     "output_type": "stream",
     "text": [
      "[0, 1, 2, 3, 4, 5, 6, 7, 8, 9]\n",
      "[8, 5, 4, 0, 2, 9, 3, 6, 7, 1]\n"
     ]
    }
   ],
   "source": [
    "ls = list(range(10))\n",
    "print(ls)\n",
    "shuffle(ls)\n",
    "print(ls)"
   ]
  },
  {
   "attachments": {},
   "cell_type": "markdown",
   "metadata": {},
   "source": [
    "生成随机数之前可以通过seed()函数指定随机数种子，随机种子一般是一个整数，只要种子相同，每次生成的随机数序列也相同。这种情况便于测试和同步数据。"
   ]
  },
  {
   "cell_type": "code",
   "execution_count": 34,
   "metadata": {},
   "outputs": [
    {
     "name": "stdout",
     "output_type": "stream",
     "text": [
      "2.1.5\n"
     ]
    }
   ],
   "source": [
    "seed(42) # 随机种子赋值42\n",
    "print(\"{}.{}.{}\".format(randint(1,10),randint(1,10),randint(1,10)))"
   ]
  },
  {
   "cell_type": "code",
   "execution_count": 35,
   "metadata": {},
   "outputs": [
    {
     "name": "stdout",
     "output_type": "stream",
     "text": [
      "2.1.5\n"
     ]
    }
   ],
   "source": [
    "seed(42) # 随机种子赋值42\n",
    "print(\"{}.{}.{}\".format(randint(1,10),randint(1,10),randint(1,10)))"
   ]
  },
  {
   "attachments": {},
   "cell_type": "markdown",
   "metadata": {},
   "source": [
    "## 8. $\\pi$的计算\n",
    "\n",
    "$\\pi$（圆周率）是一个无理数，即无限不循环小数。精确求解圆周率$\\pi$是几何学、物理学和很多工程学科的关键。\n",
    "\n",
    "对$\\pi$的精确求解曾经是数学历史上一直难以解决的问题之一，因为$\\pi$无法用任何精确公式表示，在电子计算机出现以前，$\\pi$只能通过一些近似公式的求解得到，直到1948年，人类才以人工计算方式得到$\\pi$的808位精确小数。\n",
    "\n",
    "随着计算机的出现，数学家找到了另类求解π的另类方法：***蒙特卡罗（Monte Carlo）方法***，又称随机抽样或统计试验方法。当所要求解的问题是某种事件出现的概率，或者是某个随机变量的期望值时，它们可以通过某种“试验”的方法，得到这种事件出现的频率，或者这个随机变数的平均值，并用它们作为问题的解。这就是蒙特卡罗方法的基本思想。\n",
    "\n",
    "应用蒙特卡罗方法求解$\\pi$的基本步骤如下：<br>\n",
    "* 随机向单位正方形和圆结构，抛洒大量“飞镖”点\n",
    "* 计算每个点到圆心的距离从而判断该点在圆内或者圆外\n",
    "* 用圆内的点数除以总点数就是$\\pi$/4值。\n",
    "\n",
    "随机点数量越大，越充分覆盖整个图形，计算得到的$\\pi$值越精确。实际上，这个方法的思想是利用离散点值表示图形的面积，通过面积比例来求解$\\pi$值。 \n",
    "\n",
    "<table border=0 width=80%>\n",
    "<tr>\n",
    "<td align=\"center\"><img src=\"Images/pi1.png\" width=100%></td>\n",
    "<td align=\"center\"><img src=\"Images/pi2.png\" width=90%></td>\n",
    "</tr>\n",
    "<tr>\n",
    "<td align=\"center\">计算$\\pi$使用的正方形和圆结构</td>\n",
    "<td align=\"center\">计算$\\pi$使用的1/4区域和抛点过程 </td>\n",
    "</tr>\n",
    "</table>"
   ]
  },
  {
   "cell_type": "code",
   "execution_count": 41,
   "metadata": {
    "scrolled": false
   },
   "outputs": [
    {
     "name": "stdout",
     "output_type": "stream",
     "text": [
      "Pi值是3.1416\n",
      "运行时间是: 38.684s\n"
     ]
    }
   ],
   "source": [
    "from random import random\n",
    "from math import sqrt\n",
    "from time import clock\n",
    "DARTS = 10000\n",
    "hits = 0.0\n",
    "clock()\n",
    "for i in range(1, DARTS+1):\n",
    "    x, y = random(), random()\n",
    "    dist = sqrt(x ** 2 + y ** 2)\n",
    "    if dist <= 1.0:\n",
    "        hits = hits + 1\n",
    "pi = 4 * (hits/DARTS)\n",
    "print(\"Pi值是{}\".format(pi))\n",
    "print(\"运行时间是: {:5.5}s\".format(clock())) "
   ]
  },
  {
   "cell_type": "markdown",
   "metadata": {},
   "source": [
    "## 9. 小结\n",
    "通过使用求值为True 或False 的表达式（也称为条件），你可以编写程序来决定哪些代码执行，哪些代码跳过。可以在循环中一遍又一遍地执行代码，只要某个条件求值为True。如果需要跳出循环或回到开始处，break 和continue 语句很有用。\n",
    "\n",
    "这些控制流语句让你写出非常聪明的程序。记得计算应纳税收入的例子吗？每个人应纳税收入的算法都是一样的，这是典型的循环。当然，要完成这个为500人计算应纳税收入的任务，我们还需要另一种类型的控制流，可以通过编写自己的***函数***来实现功能。这是下一章的主题。"
   ]
  },
  {
   "cell_type": "markdown",
   "metadata": {},
   "source": [
    "## 练习\n",
    "**(1) ** 布尔数据类型的两个值是什么？如何拼写？<br>\n",
    "**(2) ** 3 个布尔操作符是什么？<br>\n",
    "**(3) ** 以下表达式求值的结果是什么？ <br>\n",
    "```Python\n",
    "(5 > 4) and (3 == 5)\n",
    "not (5 > 4)\n",
    "(5 > 4) or (3 == 5)\n",
    "not ((5 > 4) or (3 == 5))\n",
    "(True and True) and (True == False)\n",
    "(not False) or (not True)\n",
    "```\n",
    "**(4) ** 6个比较操作符是什么？ <br>\n",
    "**(5) ** 等于操作符和赋值操作符的区别是什么？ <br>\n",
    "**(6) ** 识别这段代码中的3 个语句块： <br>\n",
    "```Python\n",
    "spam = 0\n",
    "if spam == 10:\n",
    "  print('eggs')\n",
    "  if spam > 5:\n",
    "    print('bacon')\n",
    "  else:\n",
    "    print('ham')\n",
    "  print('spam')\n",
    "print('spam')\n",
    "```\n",
    "**(7) ** break 和continue 之间的区别是什么？ <br>\n",
    "**(8) ** 在for 循环中，range(10)、range(0, 10)和range(0, 10, 1)之间的区别是什么？ <br>"
   ]
  },
  {
   "cell_type": "markdown",
   "metadata": {},
   "source": [
    "## 作业\n",
    "**(1) ** 输出100以内的所有奇数，并输出偶数和。**程序代码及运行结果**截图应该类似于下图：<br>\n",
    "<img src=\"Images/homework31.png\" width=80%><br>\n",
    "**(2) ** 将课本P121页4.1，4.2，4.3的**程序代码及运行结果**分别截图保存。\n",
    "\n",
    "将4个截图作为第3次作业的附件，发送到xzl_swufe@163.com。<br><br>\n",
    "<b><font color=red>邮件标题必须类似于：作业3_12345678。</font>其中12345678需要替换成你的学号。<br><br><b><font color=red>邮件标题必须类似于：作业3_12345678。</font>其中12345678需要替换成你的学号。<br><br><b><font color=red>邮件标题必须类似于：作业2_12345678。</font>其中12345678需要替换成你的学号。"
   ]
  },
  {
   "cell_type": "code",
   "execution_count": null,
   "metadata": {
    "collapsed": true
   },
   "outputs": [],
   "source": []
  }
 ],
 "metadata": {
  "kernelspec": {
   "display_name": "Python 3",
   "language": "python",
   "name": "python3"
  },
  "language_info": {
   "codemirror_mode": {
    "name": "ipython",
    "version": 3
   },
   "file_extension": ".py",
   "mimetype": "text/x-python",
   "name": "python",
   "nbconvert_exporter": "python",
   "pygments_lexer": "ipython3",
   "version": "3.6.2"
  }
 },
 "nbformat": 4,
 "nbformat_minor": 2
}
