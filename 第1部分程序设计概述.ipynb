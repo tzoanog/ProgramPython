{
 "cells": [
  {
   "cell_type": "markdown",
   "metadata": {
    "collapsed": true
   },
   "source": [
    "<table borders = 0 width=100%><tr><td><p align=\"left\"><img src=\"images/logo.png\" align='left' width=300></p></td><td><font size=5><B>Python程序设计与应用</B></font></td></tr></table>"
   ]
  },
  {
   "cell_type": "markdown",
   "metadata": {},
   "source": [
    "# <div align='center'>第一部分 程序设计概述</div>"
   ]
  },
  {
   "cell_type": "markdown",
   "metadata": {},
   "source": [
    "## 知识点\n",
    "1. 为什么要学习程序设计\n",
    "+ 学习程序设计的有效方法\n",
    "+ 计算机中程序设计的环境"
   ]
  },
  {
   "cell_type": "markdown",
   "metadata": {},
   "source": [
    "## 预习\n",
    "* 第一章：程序设计基本方法\n",
    "* 第二章：Python程序实列解析"
   ]
  },
  {
   "cell_type": "markdown",
   "metadata": {},
   "source": [
    "## 作业\n",
    "1. 在电脑上安装Anaconda。\n",
    "* 复习第一章：程序设计基本方法。\n",
    "*  在电脑上运行书本P18-20的微实例1.1、1.2和1.3，并与书本结果进行比较。\n",
    "*  在电脑上运行书本P29-30的作业1.1、1.2、1.3、1.4和1.5，要求<font color=red>每个程序首先输出学号姓名</font>，最后输出运行结果，例如作业1.1的结果应该是：\n",
    "<img src='images\\exercice1.png' width=70%><br>\n",
    "将作业1.1、1.2、1.3、1.4和1.5的运行结果分别截图保存，作为第一次作业的附件（一共5个附件），发送到xzl_swufe@163.com。<br><br><b><font color=red>邮件标题必须类似于：作业1_1233456。</font>其中123456需要替换成你的学号。<br><br><b><font color=red>邮件标题必须类似于：作业1_1233456。</font>其中123456需要替换成你的学号。<br><br><b><font color=red>邮件标题必须类似于：作业1_1233456。</font>其中123456需要替换成你的学号。"
   ]
  },
  {
   "cell_type": "markdown",
   "metadata": {},
   "source": [
    "## 1. 为什么要学程序设计"
   ]
  },
  {
   "cell_type": "markdown",
   "metadata": {},
   "source": [
    "### 案例1 整理电脑文件\n",
    "我的电脑里有一个叫做Pictures的目录，里面有很多照片在不同的子目录下。现在我希望把所有的照片都放到一个新的Images目录下，并且按照拍照的年份放在不同的子目录下，最好是文件名像这样：2019_01_01_1.jpg，表示这张照片是2019年1月1日拍摄的第一张照片。\n",
    "\n",
    "----------------------------------------\n",
    "<font color=red>要完成这个案例，怎么做？<br><br>\n",
    "\n",
    "程序可以这样做：<br></font>\n",
    "\n",
    "```python\n",
    "import os,datetime\n",
    "def copyFile(sourceFileName, targetFileName):\n",
    "    with open(sourceFileName, \"rb\") as sourceFile:\n",
    "        targetFile = open(targetFileName, \"wb\")\n",
    "        targetFile.write(sourceFile.read())\n",
    "        targetFile.close()\n",
    "        \n",
    "basePath = 'pictures'\n",
    "for foldername, subfolders, filenames in os.walk(basePath):\n",
    "    for filename in filenames:\n",
    "        createTimestamp = os.path.getmtime(os.path.join(foldername,filename))\n",
    "        createTime = datetime.datetime.fromtimestamp(createTimestamp)\n",
    "        imageFolderName = os.path.join('images',str(createTime.year))\n",
    "        if not os.path.exists(imageFolderName):\n",
    "            os.mkdir(os.path.join(imageFolderName))\n",
    "        fileCount = len(os.listdir(imageFolderName))\n",
    "        imageFileName = '{}_{}{}'.format(createTime.strftime('%Y_%m_%d'),\n",
    "                                        fileCount + 1,\n",
    "                                        os.path.splitext(filename)[1])\n",
    "        copyFile(os.path.join(foldername,filename), \n",
    "                 os.path.join(imageFolderName,imageFileName))\n",
    "print('整理完毕')\n",
    "```\n",
    "---\n",
    "假如你有上万张照片，上面的20行代码可以将几天的工作量减少到1分钟左右。<br><br>\n",
    "<font color=blue>PS.这20行代码是本学期所需要学习内容的缩影。</font>\n",
    "\n",
    "***扩展：***\n",
    "* 按照拍摄地点整理\n",
    "* 按照人物头像整理，这里可能需要人工智能:)\n",
    "\n"
   ]
  },
  {
   "cell_type": "markdown",
   "metadata": {},
   "source": [
    "### 案例2 调查问卷\n",
    "有一个关于程序设计课程调查问卷的Excel文档，内容如下图所示：\n",
    "\n",
    "<img src='Images/survey.png'>\n",
    "\n",
    "其中C5单元格选项有：Python，C++，VB，Java；C6单元格选项有：是，否；C7单元格选项有：容易，一般，较难，很难。\n",
    "\n",
    "假设你有所有学生的邮件列表，包含学号，姓名，电子邮箱地址。\n",
    "\n",
    "收集后需要做一下统计：\n",
    "* 是否全部学生均完成问卷\n",
    "* 选修Python的学生数量\n",
    "* 选修不同语言的男生和女生的占比情况\n",
    "* 学过程序设计的学生占比情况\n",
    "* 选修不同语言的课程难度占比情况\n",
    "\n",
    "----------------------------------------\n",
    "<font color=red>要完成这个案例，怎么做？</font>"
   ]
  },
  {
   "cell_type": "markdown",
   "metadata": {},
   "source": [
    "<font color='whit'>\n",
    "1. 获得所有学生的学号，姓名，电子邮箱地址。<br>\n",
    "2. 根据第一个学生的学号，姓名填写B2和D2单元格。<br>\n",
    "3. 创建电子邮件，填写学生电子邮箱地址，邮件主题（包含学生姓名），邮件正文，将填写号学号和姓名的Excel文件作为附件，发送给学生。<br>\n",
    "4. <b>重复第2、3步</b>，直到所有学生的电子邮件都发送完。<br><br>\n",
    "\n",
    "5. 在截至日期前，每天检查你的邮箱，对于收到的回复，保存附件中的Excel文件（用学号作为文件名）。<br>\n",
    "6. 打开<b>每个Excel</b>，将学生回复的信息汇总到汇总表中。<br>\n",
    "7. 根据需要，做出统计。<br><br>\n",
    "\n",
    "（Excel怎么做？程序设计怎么做？）\n",
    "</font>\n",
    "\n",
    "***PS. 发送电子邮件属于高阶内容***"
   ]
  },
  {
   "cell_type": "markdown",
   "metadata": {},
   "source": [
    "### 案例3 工资管理\n"
   ]
  },
  {
   "cell_type": "markdown",
   "metadata": {},
   "source": [
    "每个月你会得到一张公司所有人员工资信息表（比如你们公司有500人），具体内容如下图所示：\n",
    "\n",
    "<img src='Images/salary.png'>\n",
    "\n",
    "你还有一张公司员工基本信息表，具体内容如下图所示：\n",
    "\n",
    "<img src='Images/employees.png'>\n",
    "\n",
    "现要求：\n",
    "* 每个月给所有员工的电子邮箱发送其工资详情：基本工资，奖金，住房补助，<font color=red>扣税金额，实发工资</font>。同时给员工手机发送短信，告知实发工资。\n",
    "* 按照部门生成每个月工资汇总信息，每个部门一个Excel文件。\n",
    "\n",
    "----------------------------------------\n",
    "<font color=red>要完成这个案例，怎么做？</font>\n",
    "\n",
    "1. 将所得税公式（如果之前有的话）复制到新列，填充，增加实发工资列，填写计算公式，填充。\n",
    "2. 创建电子邮件，复制粘贴电子邮件地址，填写主题，复制粘贴该员工工资详情，发送电子邮件。\n",
    "3. 新建短信，复制粘贴员工手机号，复制粘贴短信内容，修改工资信息，发送。\n",
    "4. **重复第2、3步**，直到全部发送完成。<br><br>\n",
    "\n",
    "5. 根据工资信息表和员工基本信息表，利用hlookup生成包含完整信息的工作表，按照部门排序。\n",
    "6. 新建一个excel文件，用部门名称作为文件名，将汇总表里该部门的工资信息复制粘贴过来，保存。\n",
    "7. **重复第6步**，直到全部完成。<br><br>\n",
    "\n",
    "8. **每个月重复第1至7步。** \n",
    "***这样做真的不累吗？***\n",
    "\n",
    "<font color=red>用程序设计，你每个月需要做的仅仅只是双击一下鼠标（前提是你学会了Python）。</font><br><br><br>\n",
    "*** PS.重复性的工作是计算机程序最擅长的工作。***"
   ]
  },
  {
   "cell_type": "markdown",
   "metadata": {},
   "source": [
    "### 学习程序设计的原因：\n",
    "1. **提高工作学习效率。**\n",
    "* 训练思维。\n",
    "* 增进认识。\n",
    "* 带来乐趣。\n",
    "* 增加就业机会。"
   ]
  },
  {
   "attachments": {},
   "cell_type": "markdown",
   "metadata": {},
   "source": [
    "## 2. 程序设计语言\n",
    "### 2.1 程序设计语言概述\n",
    "程序设计语言是计算机能够理解和识别用户操作意图的一种交互体系，它按照特定规则组织计算机指令，使计算机能够自动进行各种运算处理。按照程序设计语言规则组织起来的一组计算机指令称为<font color=red>计算机程序</font>，即编程。\n",
    "\n",
    "程序设计语言包括<font color=blue>编译执行</font>和<font color=blue>解释执行</font>两种方式。\n",
    "### 2.2 程序设计语言的分类：\n",
    "** 1. 机器语言 **<br>\n",
    "机器语言是一种二进制语言，它直接使用二进制代码表达指令，是计算机硬件可以直接识别和执行的程序设计语言。<br>\n",
    "例如：执行数字2和3的加法，16位计算机上的机器指令为：11010010 00111011，不同计算机结构的机器指令不同。<br><br>\n",
    "** 2. 汇编语言 **<br>\n",
    "使用助记符与机器语言中的指令进行一一对应，在计算机发展早期帮助程序员提高编程效率。<br> \n",
    "例如：执行数字2和3的加法，汇编语言指令为：add 2, 3, result，运算结果写入result。<br><br>\n",
    "机器语言和汇编语言都直接操作计算机硬件并基于此设计，所以它们统称为<font color=blue>低级语言</font>。<br><br>\n",
    "** 3. 高级语言 **<br>\n",
    "高级语言区别于低级语言在于，高级语言是接近自然语言的一种计算机程序设计语言，更容易地描述计算问题并利用计算机解决计算问题。\n",
    "例如：\n",
    "\n",
    "```python\n",
    "if 天气=='下雨':\n",
    "  print('请带雨伞和钥匙出门')\n",
    "else:\n",
    "  print('请带钥匙出门')\n",
    "```\n",
    "读读上面的程序，告诉我今天出门应该带什么?\n",
    "### 2.2 计算思维：\n",
    "计算思维是区别于以数学为代表的逻辑思维和以物理为代表的实证思维的第三种思维模式。<br><br>\n",
    "编程是一个求解问题的过程：<br>\n",
    "1. 首先需要分析问题，抽象内容之间的交互关系。\n",
    "* 设计利用计算机求解问题的确定性方法。\n",
    "* 进而通过编写和调试代码解决问题。\n",
    "* 这是从抽象问题到解决问题的完整过程。"
   ]
  },
  {
   "cell_type": "markdown",
   "metadata": {},
   "source": [
    "# 3. Why Python"
   ]
  },
  {
   "cell_type": "markdown",
   "metadata": {},
   "source": [
    "## 3.1 Python需求大涨\n",
    "<img src='Images/PythonJobs.jpg' width = 70%>\n",
    "\n",
    "Java的Hello World:\n",
    "```Java\n",
    "public class HelloWorld{ \n",
    "public static void main(String[] args) {  \n",
    "  System.out.println(\"Hello World!\"); \n",
    "  }\n",
    "}\n",
    "```\n",
    "Python的Hello World:\n",
    "```Python\n",
    "print(\"Hello World!\")\n",
    "```"
   ]
  },
  {
   "cell_type": "markdown",
   "metadata": {},
   "source": [
    "## 3.2 数据时代，「分析」技能更吃香\n",
    "数据分析能力是容易被忽视、却又在工作中不可或缺的“硬技能”。<br><br>\n",
    "**几乎所有行业都需要数据分析师。**<br>目前，数据分析职位缺口主要集中在三大巨头行业：移动互联网、计算机软件以及金融，总占比 64%，同时非典型数据产业，潜移默化、迅速崛起。说明数据分析是各个行业都是通吃的技能，且都能期待不错的收入水平。\n",
    "<img src='Images\\dataAnalysis.jpg' width=70%><br><br>\n",
    "**几乎所有岗位都需要数据分析技能。**<br>无论你是处于公司中的哪个环节，从专职数据分析、市场策划、销售运营、到客户服务，都需要掌握数据分析技能。在大数据、人工智能的浪潮里，只要公司有业务决策需求，都离不开数据分析这个“工具”。不懂数据，只会被淘汰。\n",
    "<img src='Images\\dataAnalysis2.jpg' width=70%><br><br>\n",
    "\n",
    "Python在数据分析方面有得天独厚的优势。\n",
    "```Python\n",
    "import matplotlib.image as mpimg\n",
    "california_img=mpimg.imread(PROJECT_ROOT_DIR + '/images/end_to_end_project/california.png')\n",
    "ax = housing.plot(kind=\"scatter\", x=\"longitude\", y=\"latitude\", figsize=(10,7),\n",
    "                       s=housing['population']/100, label=\"Population\",\n",
    "                       c=\"median_house_value\", cmap=plt.get_cmap(\"jet\"),\n",
    "                       colorbar=False, alpha=0.4,\n",
    "                      )\n",
    "plt.imshow(california_img, extent=[-124.55, -113.80, 32.45, 42.05], alpha=0.5)\n",
    "plt.ylabel(\"Latitude\", fontsize=14)\n",
    "plt.xlabel(\"Longitude\", fontsize=14)\n",
    "\n",
    "prices = housing[\"median_house_value\"]\n",
    "tick_values = np.linspace(prices.min(), prices.max(), 11)\n",
    "cbar = plt.colorbar()\n",
    "cbar.ax.set_yticklabels([\"$%dk\"%(round(v/1000)) for v in tick_values], fontsize=14)\n",
    "cbar.set_label('Median House Value', fontsize=16)\n",
    "\n",
    "plt.legend(fontsize=16)\n",
    "save_fig(\"california_housing_prices_plot\")\n",
    "plt.show()\n",
    "```\n",
    "<img src='Images\\california_housing_prices_plot.png' width=70%><br><br>\n",
    "上面这张图是用10多行Python代码写出来的加州房价分布图，其中包含了房价高低、人口大小分布等大量信息。结合加州地图，对20641条房价数据更加直观认知。"
   ]
  },
  {
   "attachments": {},
   "cell_type": "markdown",
   "metadata": {},
   "source": [
    "### 3.3Python语言的特点\n",
    "1. **脚本语言 + 语句执行**<br>\n",
    "例1，输出语句：\n",
    "```Python\n",
    "print(\"Hello World!大家好!\")\n",
    "```\n",
    "例2，求和运算：\n",
    "```Python\n",
    "sum = 99999 + 99999\n",
    "print(sum)\n",
    "```\n",
    "例3，根据数字，输出月份简称：\n",
    "```Python\n",
    "months=\"JanFebMarAprMayJunJulAugSepOctNovDec\" \n",
    "n = 4\n",
    "monthAbbrev = months[(n-1)*3:(n-1)*3+3]\n",
    "print(monthAbbrev)\n",
    "```\n",
    "\n",
    "* **简洁 + 强制可读性**<br>\n",
    "例4，计算平均值：\n",
    "```Python\n",
    "def mean(numbers):\n",
    "   s = 0.0\n",
    "   for num in numbers:\n",
    "     s = s + num\n",
    "   return s / len(numbers)\n",
    "nums = [0,1,2,3,4,5,6,7,8,9]\n",
    "print(mean(nums))\n",
    "```\n",
    "\n",
    "* **跨平台 + 开源**<br>\n",
    "http://pypi.python.org/ ，目前有93561个开源库，覆盖各类计算问题。<br><br>\n",
    "例5，打印随机数：\n",
    "```Python\n",
    "from random import random\n",
    "rnd = random()*10\n",
    "print(rnd)\n",
    "```\n",
    "在数据分析中，比较常用的库有：Numpy,Pandas,Matplotlib, Seaborn,Scipy,scikit-learn..."
   ]
  },
  {
   "attachments": {},
   "cell_type": "markdown",
   "metadata": {},
   "source": [
    "# 4. 程序设计学习方法\n",
    "# <font color=red>实践、实践还是实践。</font><br>\n",
    "利用Python解决实际问题将提高学习兴趣。你有哪些问题可以用程序来解决？\n",
    "\n",
    "## 4.1使用计算机解决问题的步骤：\n",
    "1. 分析问题，分析问题的计算部分\n",
    "* 划分边界，划分问题的功能边界\n",
    "* 设计算法，设计问题的求解算法\n",
    "* 编写程序，编写问题的计算程序\n",
    "* 调试测试，调试和测试程序\n",
    "* 升级维护，适应问题的升级维护"
   ]
  },
  {
   "attachments": {},
   "cell_type": "markdown",
   "metadata": {},
   "source": [
    "# 5. Python开发环境配置\n",
    "## 5.1 极简安装步骤：\n",
    "1. 到https://www.anaconda.com/distribution/ 下载最新版Anaconda。\n",
    "<img src='Images\\anacondadownload.png' width=70%><br>\n",
    "* 双击下载后的文件，点击下一步，同意协议，点击下一步，再次点击下一步，***<font color=blue>出现下图时，把第一个方框选上</font>***：\n",
    "<img src='Images\\anacondainstall.png' width=70%><br>\n",
    "* 一直点击下一步，直到安装结束。"
   ]
  },
  {
   "cell_type": "markdown",
   "metadata": {},
   "source": [
    "## 5.2 启动环境\n",
    "### 5.2.1 命令行启动Python\n",
    "1. 在开始菜单中找到Anaconda3菜单下的Anaconda Prompt，点击打开Anaconda环境下的命令行。\n",
    "<img src='images/anacondapromptmenu.png' width=20%>\n",
    "* 输入python，进入到Python编译环境。\n",
    "<img src='images/anacondaprompt1.png' width=70%>\n",
    "\n",
    "### 5.2.2 命令行启动iPython\n",
    "1. 在开始菜单中找到Anaconda3菜单下的Anaconda Prompt，点击打开Anaconda环境下的命令行。\n",
    "<img src='images/anacondapromptmenu.png' width=20%>\n",
    "* 输入ipython，进入到iPython编译环境。这个界面更加友好些。\n",
    "<img src='images/anacondaprompt2.png' width=70%>\n",
    "\n",
    "\n",
    "\n",
    "### 5.2.3 启动IDLE\n",
    "1. 在开始菜单中找到Anaconda3菜单下的Anaconda Prompt，点击打开Anaconda环境下的命令行。\n",
    "<img src='images/anacondapromptmenu.png' width=20%>\n",
    "* 输入idle，进入到IDLE编译环境。这个界面更加友好些。并且可以新建窗口，保存Python源文件。\n",
    "<img src='images/anacondaprompt3.png' width=70%>\n",
    "\n",
    "### 5.2.3 启动Jupyter Notebook（<font color=red>推荐使用</font>）\n",
    "1. 在开始菜单中找到Anaconda3菜单下的Jupyter notebook，点击打开Jupyter notebook。\n",
    "<img src='images/anacondajupytermenu.png' width=20%><br>\n",
    "* 系统会自动打开一个命令窗口，**<font color=red>使用过程中不要关闭该窗口，不要关闭该窗口，不要关闭该窗口</font>，如下图所示：\n",
    "<img src='images/jupyternotebook2.png' width=70%><br>\n",
    "* 同时也会打开浏览器，类似于：\n",
    "<img src='images/jupyternotebook3.png' width=70%><br>\n",
    "* 点击New，新建Python3文件后，系统会打开新的浏览器窗口，类似于：\n",
    "<img src='images/jupyternotebook4.png' width=70%><br>"
   ]
  },
  {
   "cell_type": "code",
   "execution_count": null,
   "metadata": {
    "collapsed": true
   },
   "outputs": [],
   "source": []
  }
 ],
 "metadata": {
  "kernelspec": {
   "display_name": "Python 3",
   "language": "python",
   "name": "python3"
  },
  "language_info": {
   "codemirror_mode": {
    "name": "ipython",
    "version": 3
   },
   "file_extension": ".py",
   "mimetype": "text/x-python",
   "name": "python",
   "nbconvert_exporter": "python",
   "pygments_lexer": "ipython3",
   "version": "3.6.2"
  }
 },
 "nbformat": 4,
 "nbformat_minor": 2
}
