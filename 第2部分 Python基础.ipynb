{
 "cells": [
  {
   "cell_type": "markdown",
   "metadata": {
    "collapsed": true
   },
   "source": [
    "<table border=0 width=\"100%\"><tr><td><p align=\"left\"><img src=\"Images/logo.png\" align=\"left\" width=300></p></td><td><font size=5><B>Python程序设计与应用</B></font></td></tr></table>"
   ]
  },
  {
   "cell_type": "markdown",
   "metadata": {},
   "source": [
    "# <div align='center'>第二部分 Python基础</div>"
   ]
  },
  {
   "cell_type": "markdown",
   "metadata": {},
   "source": [
    "## 知识点\n",
    "- 数据类型的概念。整数、\n",
    "- 常量、变量、函数（或方法）、运算符、表达式的概念。\n",
    "- 数据输入、输出、赋值的方法、类型和作用。"
   ]
  },
  {
   "cell_type": "markdown",
   "metadata": {},
   "source": [
    "## 预习\n",
    "* 第二章：Python程序实列解析\n",
    "* 第三章：基本数据类型"
   ]
  },
  {
   "cell_type": "markdown",
   "metadata": {},
   "source": [
    "## 练习\n",
    "**(1) 下面哪个是变量，哪个是字符串？ **<br>\n",
    "web<br>\n",
    "'web'<br><br>\n",
    "**(2) 下面表达式运行结果是什么？ **<br>\n",
    "123 + 456<br>\n",
    "\"123\" + '456'<br>\n",
    "123 \\* 3<br>\n",
    "'123'\\* 3<br><br>\n",
    "**(3) 为什么这个表达式会导致错误？如何修复？ **<br>\n",
    "\"我今天买了\" + 10 + \"本书！\"<br><br>\n",
    "**(4) 如何用程序获得电子邮箱zhangsan@163.com中的用户名 **（可能需要用到没有讲过的字符串函数，上网搜搜看）<br>\n",
    "\n",
    "**(5) 字符串\"Howl's Moving Castle\"是有效字符串。为什么单词中的单引号没有转义，却没有问题？**<br>\n",
    "\n",
    "**(6) 下面的表达式求值是什么？**<br>\n",
    "• '我爱西财，也爱Python!'[1]<br>\n",
    "• '我爱西财，也爱Python!'[0:5]<br>\n",
    "• '我爱西财，也爱Python!'[:5]<br>\n",
    "• '我爱西财，也爱Python!'[2:]<br>\n",
    "\n",
    "**(7) 下面的表达式求值是什么？**<br>\n",
    "• 'Remember, remember, the fifth of November.'.split()<br>\n",
    "• '-'.join('There can be only one.'.split())<br>\n",
    "\n"
   ]
  },
  {
   "cell_type": "markdown",
   "metadata": {},
   "source": [
    "# 作业\n",
    "将课本P93页3.4的**程序代码及运行结果**和P94页3.5的**程序代码及运行结果**分别截图保存，作为第2次作业的附件（一共2个附件），发送到xzl_swufe@163.com。<br><br><b><font color=red>邮件标题必须类似于：作业2_1233456。</font>其中123456需要替换成你的学号。<br><br><b><font color=red>邮件标题必须类似于：作业2_1233456。</font>其中123456需要替换成你的学号。<br><br><b><font color=red>邮件标题必须类似于：作业2_1233456。</font>其中123456需要替换成你的学号。"
   ]
  },
  {
   "cell_type": "markdown",
   "metadata": {},
   "source": [
    "## 1. 表达式"
   ]
  },
  {
   "cell_type": "code",
   "execution_count": null,
   "metadata": {
    "collapsed": true
   },
   "outputs": [],
   "source": [
    "2 + 2"
   ]
  },
  {
   "cell_type": "markdown",
   "metadata": {},
   "source": [
    "上面Cell中的 2 + 2 在Python中，称为表达式，它是语言中最基本的编程结构。\n",
    "\n",
    "**表达式**包含“值”（例如2）和“操作符”（例如+），并且总是可以求值（也就是归约）为单个值。\n",
    "\n",
    "Python 表达式中也可以使用大量其他操作符。例如，下表列出了Python 的所有数学操作符。\n",
    "\n",
    "|操作符|操作|例子|求值为|\n",
    "|---|:--|--|---|\n",
    "|**|指数|2 ** 3|8|\n",
    "|%|取模/取余数|22 % 8|6|\n",
    "|//|整除/商数取整|22 // 8|2|\n",
    "|/|除法|22 / 8|2.75|\n",
    "|-|减法|5 - 2|3|\n",
    "|+|加法|2 + 2|4|\n",
    "数学操作符的操作顺序（也称为“**优先级**”）与数学中类似。\\*\\*操作符首先求值，接下来是\\*、/、//和%操作符，从左到右。+和-操作符最后求值，也是从左到右。\n",
    "一般来说都会用**括号**来改变通常的优先级。"
   ]
  },
  {
   "cell_type": "code",
   "execution_count": null,
   "metadata": {
    "collapsed": true
   },
   "outputs": [],
   "source": [
    "2 + 3 * 6"
   ]
  },
  {
   "cell_type": "code",
   "execution_count": null,
   "metadata": {
    "collapsed": true
   },
   "outputs": [],
   "source": [
    "(2 + 3) * 6"
   ]
  },
  {
   "cell_type": "code",
   "execution_count": null,
   "metadata": {
    "collapsed": true
   },
   "outputs": [],
   "source": [
    "48565878 * 578453"
   ]
  },
  {
   "cell_type": "code",
   "execution_count": null,
   "metadata": {
    "collapsed": true
   },
   "outputs": [],
   "source": [
    "2 ** 8"
   ]
  },
  {
   "cell_type": "code",
   "execution_count": null,
   "metadata": {
    "collapsed": true
   },
   "outputs": [],
   "source": [
    "23 / 7"
   ]
  },
  {
   "cell_type": "code",
   "execution_count": null,
   "metadata": {
    "collapsed": true
   },
   "outputs": [],
   "source": [
    "23 // 7"
   ]
  },
  {
   "cell_type": "code",
   "execution_count": null,
   "metadata": {
    "collapsed": true
   },
   "outputs": [],
   "source": [
    "23 % 7"
   ]
  },
  {
   "cell_type": "code",
   "execution_count": null,
   "metadata": {
    "collapsed": true
   },
   "outputs": [],
   "source": [
    "(5 - 1) * ((7 + 1) / (3 - 1))"
   ]
  },
  {
   "cell_type": "markdown",
   "metadata": {},
   "source": [
    "在编写程序过程中，如果你输入错误的 Python指令，Python 也不能理解，就会显示出错误信息(**Bug**)，像下面这样："
   ]
  },
  {
   "cell_type": "code",
   "execution_count": null,
   "metadata": {
    "collapsed": true
   },
   "outputs": [],
   "source": [
    "10 + "
   ]
  },
  {
   "cell_type": "code",
   "execution_count": null,
   "metadata": {
    "collapsed": true
   },
   "outputs": [],
   "source": [
    "10 + 5 + * 20"
   ]
  },
  {
   "cell_type": "markdown",
   "metadata": {},
   "source": [
    "### 课堂练习：\n",
    "请写出员工10932和10933的应纳税额的计算表达式：<br>\n",
    "<img src='Images/salary.png'><br>\n",
    "应纳税所得额计算方法：\n",
    "**<center>应纳税所得额=正常收入 - 5000元免征额 - 五险一金 - 专项附加扣除 - 其他扣除</center>**"
   ]
  },
  {
   "cell_type": "markdown",
   "metadata": {},
   "source": [
    "## 2. 常见数字类型\n",
    "表达式是值和操作符的组合，它们可以通过求值成为单个值。“数据类型”是一类值，**每个值都只属于一种数据类型。**不同数据类型的数据可以进行的运算是不同的。\n",
    "\n",
    "常见的数据类型有：\n",
    "\n",
    "|数字类型|例子|\n",
    "|:----|:--|\n",
    "|整型|-2, -1, 0, 1, 2, 3, 4, 5|\n",
    "|浮点型|-1.25, -1.0, -0.5, 0.0, 0.5, 1.0, 1.25|\n",
    "\n",
    "** 整数类型没有取值范围的限制。**"
   ]
  },
  {
   "cell_type": "code",
   "execution_count": null,
   "metadata": {
    "collapsed": true
   },
   "outputs": [],
   "source": [
    "2 ** 500"
   ]
  },
  {
   "cell_type": "code",
   "execution_count": null,
   "metadata": {
    "collapsed": true,
    "scrolled": true
   },
   "outputs": [],
   "source": [
    "2 ** (2 ** 15)"
   ]
  },
  {
   "cell_type": "markdown",
   "metadata": {},
   "source": [
    "** 浮点数类型**\n",
    "* 带有小数点及小数的数字。\n",
    "* Python语言中浮点数的数值范围存在限制，小数精度也存在限制。这种限制与在不同计算机系统有关。"
   ]
  },
  {
   "cell_type": "code",
   "execution_count": 19,
   "metadata": {},
   "outputs": [
    {
     "data": {
      "text/plain": [
       "sys.float_info(max=1.7976931348623157e+308, max_exp=1024, max_10_exp=308, min=2.2250738585072014e-308, min_exp=-1021, min_10_exp=-307, dig=15, mant_dig=53, epsilon=2.220446049250313e-16, radix=2, rounds=1)"
      ]
     },
     "execution_count": 19,
     "metadata": {},
     "output_type": "execute_result"
    }
   ],
   "source": [
    "import sys\n",
    "sys.float_info"
   ]
  },
  {
   "cell_type": "markdown",
   "metadata": {},
   "source": [
    "浮点数示例：\n",
    "* 0.0, -77., -2.17 \n",
    "* 96e4, 4.3e-3, 9.6E5  （科学计数法）\n",
    "* 科学计数法使用字母“e”或者“E”作为幂的符号，以10为基数。科学计数法含义如下：\n",
    " ```Python\n",
    " <a>e<b> = a * 10b\n",
    " ```"
   ]
  },
  {
   "cell_type": "code",
   "execution_count": 21,
   "metadata": {},
   "outputs": [
    {
     "data": {
      "text/plain": [
       "960000.0"
      ]
     },
     "execution_count": 21,
     "metadata": {},
     "output_type": "execute_result"
    }
   ],
   "source": [
    "96e4"
   ]
  },
  {
   "cell_type": "markdown",
   "metadata": {},
   "source": [
    "### 扩展阅读：\n",
    "在Python中，整数共有4中进制表示：十进制、二进制、八进制和十六进制。例如：\n",
    "* 1010, 99, -217 \n",
    "* 0x9a, -0X89   (0x, 0X开头表示16进制数) \n",
    "* 0b010, -0B101  (0b, 0B开头表示2进制数) \n",
    "* 0o123, -0O456  (0o, 0O开头表示8进制数)"
   ]
  },
  {
   "cell_type": "code",
   "execution_count": null,
   "metadata": {
    "collapsed": true
   },
   "outputs": [],
   "source": [
    "0b101 + 5"
   ]
  },
  {
   "cell_type": "markdown",
   "metadata": {},
   "source": [
    "*** 不同数字类型之间可以进行混合运算，运算后生成结果为<font color=red>最宽类型</font>。<br> ***\n",
    "** 整数宽度小于浮点数**<br><br>\n",
    "**  数字类型之间相互运算所生成的结果是“更宽”的类型，基本规则是：**\n",
    "* 整数之间运算，如果数学意义上的结果是小数，结果是浮点数；\n",
    "* 整数之间运算，如果数学意义上的结果是整数，结果是整数；\n",
    "* 整数和浮点数混合运算，输出结果是浮点数；"
   ]
  },
  {
   "cell_type": "code",
   "execution_count": 22,
   "metadata": {},
   "outputs": [
    {
     "data": {
      "text/plain": [
       "225.0"
      ]
     },
     "execution_count": 22,
     "metadata": {},
     "output_type": "execute_result"
    }
   ],
   "source": [
    "100 + 125.0"
   ]
  },
  {
   "cell_type": "markdown",
   "metadata": {},
   "source": [
    "Python解释器提供了一些内置函数，在这些内置函数之中，有6个函数与数值运算相关：<br>\n",
    "<img src='Images/digitFuncList.png' width=\"70%\"><br>"
   ]
  },
  {
   "cell_type": "code",
   "execution_count": 23,
   "metadata": {},
   "outputs": [
    {
     "data": {
      "text/plain": [
       "100"
      ]
     },
     "execution_count": 23,
     "metadata": {},
     "output_type": "execute_result"
    }
   ],
   "source": [
    "abs(-100)"
   ]
  },
  {
   "cell_type": "code",
   "execution_count": 24,
   "metadata": {},
   "outputs": [
    {
     "data": {
      "text/plain": [
       "(4, 1)"
      ]
     },
     "execution_count": 24,
     "metadata": {},
     "output_type": "execute_result"
    }
   ],
   "source": [
    "divmod(9,2)"
   ]
  },
  {
   "cell_type": "code",
   "execution_count": 26,
   "metadata": {},
   "outputs": [
    {
     "data": {
      "text/plain": [
       "500"
      ]
     },
     "execution_count": 26,
     "metadata": {},
     "output_type": "execute_result"
    }
   ],
   "source": [
    "max(12, 500, 2.0, 108.0)"
   ]
  },
  {
   "cell_type": "markdown",
   "metadata": {},
   "source": [
    "** 数字类型的转换**<br>\n",
    "数值运算操作符可以***隐式地***转换输出结果的数字类型：例如，两个整数采用运算符“/”的除法将可能输出浮点数结果。<br><br>\n",
    "此外，通过内置的数字类型转换函数可以显式地在数字类型之间进行转换：\n",
    "* int(x)，将x转换为整数，x可以是浮点数或字符串\n",
    "* float(x)，将x转换为浮点数，x可以是整数或字符串"
   ]
  },
  {
   "cell_type": "code",
   "execution_count": 27,
   "metadata": {
    "scrolled": true
   },
   "outputs": [
    {
     "data": {
      "text/plain": [
       "4"
      ]
     },
     "execution_count": 27,
     "metadata": {},
     "output_type": "execute_result"
    }
   ],
   "source": [
    "int(4.5) #直接去掉小数部分"
   ]
  },
  {
   "cell_type": "code",
   "execution_count": 29,
   "metadata": {
    "scrolled": false
   },
   "outputs": [
    {
     "data": {
      "text/plain": [
       "3000.0"
      ]
     },
     "execution_count": 29,
     "metadata": {},
     "output_type": "execute_result"
    }
   ],
   "source": [
    "float(3000) # 增加小数部分"
   ]
  },
  {
   "cell_type": "markdown",
   "metadata": {},
   "source": [
    "### 课堂练习：\n",
    "请将下列数学表达式用Python程序写出来，并运算结果：\n",
    "* $\\frac{2^{3} + 10 - 5 \\times 3}{7}$\n",
    "* $(2 + 5^{2})\\times (16 mod 7)/7$"
   ]
  },
  {
   "cell_type": "markdown",
   "metadata": {},
   "source": [
    "## 3.变量"
   ]
  },
  {
   "cell_type": "markdown",
   "metadata": {
    "collapsed": true
   },
   "source": [
    "在计算个人所得税时，先计算出应纳税所得额，再利用应纳税所得额获得税率及速算扣除数，最后利用应纳税所得额、税率和速算扣除数计算个人所得税。在程序设计中，有很多类似于应纳税所得额这样的中间值。你可以将中间值保存在一个位置，以备将来使用，这个位置就是**变量**。\n",
    "### 3.1 变量名\n",
    "可以给变量取任何名字，只要它遵守以下3条规则：<br>\n",
    "(1) 只能是一个词。<br>\n",
    "(2) 只能包含字母、数字和下划线。<br>\n",
    "(3) 不能以数字开头。<br>\n",
    "(4) 不要使用Python保留字（关键字）。<br>\n",
    "Python中的33个保留字如下表所示：\n",
    "<img src=\"Images\\pythonKeywords.png\" width=\"70%\">\n",
    "\n",
    "**下面的变量名，哪些是有效的，哪些是无效的？**<br>\n",
    "balance, current-balance, current balance, currentBalance, current_balance, \\_spam, SPAM, 4account, account4, 100, total_$um, 'swufe'\n",
    "\n",
    "**<font color=red>变量名是区分大小写的</font>**。这意味着，swufe、 SWUFE、Swufe 和sWuFe 是4个不同的变量。变量用小写字母开头是Python的惯例（不是必须，但是建议这样做）。\n",
    "\n",
    "一般在给变量命名时，为了标识变量中值的含义，会使用一些有意义的单词组合，例如利用taxIncome来存储计算得到的应纳税所得额会比使用abc好些。taxIncome这样的命名方式叫做**驼峰形式**，还可以使用Python官方建议的**PEP8**代码风格，即tax_income。\n",
    "\n",
    "### 3.2 赋值语句\n",
    "用“赋值语句”将值保存在变量中。**赋值语句包含一个变量名、一个等号（称为赋值操作符），以及要存储的值**。如果输入赋值语句**spam = 42**，那么名为spam的变量将保存一个整型值42。可以将变量看成一个带标签的盒子（类似于Excel中的单元格），值放在其中，如下图所示：\n",
    "<img src='Images\\spamVar.png' width=20%>"
   ]
  },
  {
   "cell_type": "code",
   "execution_count": 1,
   "metadata": {
    "collapsed": true
   },
   "outputs": [],
   "source": [
    "spam = 42"
   ]
  },
  {
   "cell_type": "code",
   "execution_count": 2,
   "metadata": {},
   "outputs": [
    {
     "data": {
      "text/plain": [
       "42"
      ]
     },
     "execution_count": 2,
     "metadata": {},
     "output_type": "execute_result"
    }
   ],
   "source": [
    "spam"
   ]
  },
  {
   "cell_type": "code",
   "execution_count": 3,
   "metadata": {},
   "outputs": [
    {
     "ename": "SyntaxError",
     "evalue": "can't assign to literal (<ipython-input-3-57d673ef3e55>, line 1)",
     "output_type": "error",
     "traceback": [
      "\u001b[1;36m  File \u001b[1;32m\"<ipython-input-3-57d673ef3e55>\"\u001b[1;36m, line \u001b[1;32m1\u001b[0m\n\u001b[1;33m    40 = 42 #赋值语句的等号左边必须是变量\u001b[0m\n\u001b[1;37m                           ^\u001b[0m\n\u001b[1;31mSyntaxError\u001b[0m\u001b[1;31m:\u001b[0m can't assign to literal\n"
     ]
    }
   ],
   "source": [
    "42 = 10 #赋值语句的等号左边必须是变量"
   ]
  },
  {
   "cell_type": "code",
   "execution_count": 4,
   "metadata": {},
   "outputs": [
    {
     "data": {
      "text/plain": [
       "40"
      ]
     },
     "execution_count": 4,
     "metadata": {},
     "output_type": "execute_result"
    }
   ],
   "source": [
    "spam = 40\n",
    "spam # 赋了新值后，原来的值就被覆盖了"
   ]
  },
  {
   "cell_type": "code",
   "execution_count": 5,
   "metadata": {},
   "outputs": [
    {
     "data": {
      "text/plain": [
       "50"
      ]
     },
     "execution_count": 5,
     "metadata": {},
     "output_type": "execute_result"
    }
   ],
   "source": [
    "eggs = 10\n",
    "spam = spam + eggs\n",
    "spam"
   ]
  },
  {
   "attachments": {},
   "cell_type": "markdown",
   "metadata": {},
   "source": [
    "在Python中，可以同时给多个变量赋值：\n",
    "<center>**<变量1>, …, <变量N> = <表达式1>, …, <表达式N>**</center>"
   ]
  },
  {
   "cell_type": "code",
   "execution_count": 6,
   "metadata": {
    "collapsed": true
   },
   "outputs": [],
   "source": [
    "taxRate, quickDeduction = 0.1, 210"
   ]
  },
  {
   "cell_type": "code",
   "execution_count": 7,
   "metadata": {},
   "outputs": [
    {
     "data": {
      "text/plain": [
       "0.1"
      ]
     },
     "execution_count": 7,
     "metadata": {},
     "output_type": "execute_result"
    }
   ],
   "source": [
    "taxRate"
   ]
  },
  {
   "cell_type": "code",
   "execution_count": 8,
   "metadata": {},
   "outputs": [
    {
     "data": {
      "text/plain": [
       "210"
      ]
     },
     "execution_count": 8,
     "metadata": {},
     "output_type": "execute_result"
    }
   ],
   "source": [
    "quickDeduction"
   ]
  },
  {
   "cell_type": "markdown",
   "metadata": {},
   "source": [
    "**下面语句运行后，x和y的值分别是什么？**\n",
    "```Python\n",
    "x = 10\n",
    "y = 20\n",
    "x, y = y, x\n",
    "```"
   ]
  },
  {
   "cell_type": "markdown",
   "metadata": {},
   "source": [
    "所有的二元数学操作符(+、-、\\*、/、//、%、\\*\\*)都有与之对应的**增强赋值操作符**(+=、-=、\\*=、/=、//=、%=、\\*\\*=)"
   ]
  },
  {
   "cell_type": "code",
   "execution_count": 13,
   "metadata": {},
   "outputs": [
    {
     "data": {
      "text/plain": [
       "20"
      ]
     },
     "execution_count": 13,
     "metadata": {},
     "output_type": "execute_result"
    }
   ],
   "source": [
    "a = 10\n",
    "a += 10  #等价于a = a + 10\n",
    "a"
   ]
  },
  {
   "cell_type": "code",
   "execution_count": null,
   "metadata": {
    "collapsed": true
   },
   "outputs": [],
   "source": [
    "b += 10  #这个运算结果是什么？为什么？"
   ]
  },
  {
   "attachments": {},
   "cell_type": "markdown",
   "metadata": {},
   "source": [
    "### 4.注释\n",
    "注释是程序员为了便于人类阅读，在代码中加入的说明信息，不会被计算机执行。\n",
    "\n",
    "**注释的两种方法：**\n",
    "* 单行注释以**#**开头<br>\n",
    "\t#这里是单行注释语句，不会被执行<br><br>\n",
    "* 多行注释以**'''**开头和结尾<br>\n",
    "  '''\n",
    "  这里是多行注释语句，<br>不会被执行\n",
    "  '''"
   ]
  },
  {
   "attachments": {},
   "cell_type": "markdown",
   "metadata": {},
   "source": [
    "## 5.字符串\n",
    "### 5.1 字符串基本概念\n",
    "在Python中，字符串是用两个双引号**\" \"**<font color=red>或者</font>单引号**' '**括起来的一个或多个字符。\n",
    "\n",
    "注意区别字符串和变量，下面一个是变量，一个是字符串：\n",
    "* swufe \n",
    "* 'swufe'\n",
    "\n",
    "当字符串中有引号时，可以使用另外一类引号将字符串括起来，也可以使用**转义字符**："
   ]
  },
  {
   "cell_type": "code",
   "execution_count": 14,
   "metadata": {},
   "outputs": [
    {
     "data": {
      "text/plain": [
       "'他说：\"你好啊\"。'"
      ]
     },
     "execution_count": 14,
     "metadata": {},
     "output_type": "execute_result"
    }
   ],
   "source": [
    "sayHello = '他说：\"你好啊\"。'\n",
    "sayHello"
   ]
  },
  {
   "cell_type": "code",
   "execution_count": 15,
   "metadata": {},
   "outputs": [
    {
     "data": {
      "text/plain": [
       "'他说：\"你好啊\"。'"
      ]
     },
     "execution_count": 15,
     "metadata": {},
     "output_type": "execute_result"
    }
   ],
   "source": [
    "sayHi = \"他说：\\\"你好啊\\\"。\"\n",
    "sayHi"
   ]
  },
  {
   "cell_type": "markdown",
   "metadata": {},
   "source": [
    "** 问题：如果字符串中有\\怎么办？\\n、\\t分别带代表什么？**"
   ]
  },
  {
   "cell_type": "markdown",
   "metadata": {},
   "source": [
    "有时候，字符串中本身就有很多的的到斜杠\\(例如，表示路径的字符串)，可以在引号前面加上r，使该字符串成为**原始字符串**。使它成为原始字符串。“原始字符串”完全忽略所有的转义字符，打印出字符串中所有的倒斜杠。"
   ]
  },
  {
   "cell_type": "code",
   "execution_count": 49,
   "metadata": {},
   "outputs": [
    {
     "name": "stdout",
     "output_type": "stream",
     "text": [
      "C:\\Windows\\Help\\Corporate\n"
     ]
    }
   ],
   "source": [
    "print(r\"C:\\Windows\\Help\\Corporate\")"
   ]
  },
  {
   "attachments": {},
   "cell_type": "markdown",
   "metadata": {},
   "source": [
    "字符串是一个字符序列：字符串最左端位置标记为0，往右边依次递增。字符串中的编号叫做“索引”。Python中的编号是双向的，也可以将最右边记为-1，往左边依此递减。\n",
    "<img src=\"Images/strList.png\" width=\"70%\">\n",
    "**单个索引**辅助访问字符串中的特定位置，例如："
   ]
  },
  {
   "cell_type": "code",
   "execution_count": 18,
   "metadata": {},
   "outputs": [
    {
     "data": {
      "text/plain": [
       "'5'"
      ]
     },
     "execution_count": 18,
     "metadata": {},
     "output_type": "execute_result"
    }
   ],
   "source": [
    "idCard = '520125197907167551'\n",
    "idCard[16]"
   ]
  },
  {
   "cell_type": "code",
   "execution_count": 19,
   "metadata": {},
   "outputs": [
    {
     "data": {
      "text/plain": [
       "'5'"
      ]
     },
     "execution_count": 19,
     "metadata": {},
     "output_type": "execute_result"
    }
   ],
   "source": [
    "idCard[-2]"
   ]
  },
  {
   "attachments": {},
   "cell_type": "markdown",
   "metadata": {},
   "source": [
    "可以通过**两个索引值**确定一个位置范围，返回这个范围的子串："
   ]
  },
  {
   "cell_type": "code",
   "execution_count": 20,
   "metadata": {},
   "outputs": [
    {
     "data": {
      "text/plain": [
       "'1979'"
      ]
     },
     "execution_count": 20,
     "metadata": {},
     "output_type": "execute_result"
    }
   ],
   "source": [
    "idCard[6:10]  #注意：结果没有包括结束位置10的字符，这和Excel中的哪个函数比较类似？"
   ]
  },
  {
   "cell_type": "markdown",
   "metadata": {},
   "source": [
    "** 怎么取得出生月份？ **"
   ]
  },
  {
   "cell_type": "markdown",
   "metadata": {},
   "source": [
    "也可以省略冒号前面和后面的值："
   ]
  },
  {
   "cell_type": "code",
   "execution_count": 21,
   "metadata": {},
   "outputs": [
    {
     "data": {
      "text/plain": [
       "'197907167551'"
      ]
     },
     "execution_count": 21,
     "metadata": {},
     "output_type": "execute_result"
    }
   ],
   "source": [
    "idCard[6:]"
   ]
  },
  {
   "cell_type": "code",
   "execution_count": 22,
   "metadata": {},
   "outputs": [
    {
     "data": {
      "text/plain": [
       "'520125'"
      ]
     },
     "execution_count": 22,
     "metadata": {},
     "output_type": "execute_result"
    }
   ],
   "source": [
    "idCard[:6]"
   ]
  },
  {
   "cell_type": "code",
   "execution_count": 23,
   "metadata": {},
   "outputs": [
    {
     "data": {
      "text/plain": [
       "'520125197907167551'"
      ]
     },
     "execution_count": 23,
     "metadata": {},
     "output_type": "execute_result"
    }
   ],
   "source": [
    "idCard[:]"
   ]
  },
  {
   "attachments": {},
   "cell_type": "markdown",
   "metadata": {},
   "source": [
    "### 5.2 字符串基本操作\n",
    "** 5.2.1 连接操作：+或\\* **\n",
    "* 加法操作(**+**)将两个字符串连接成为一个新的字符串\n",
    "* 乘法操作(** \\* **)生成一个由其本身字符串重复连接而成的字符串"
   ]
  },
  {
   "cell_type": "code",
   "execution_count": 24,
   "metadata": {},
   "outputs": [
    {
     "data": {
      "text/plain": [
       "'pineapple'"
      ]
     },
     "execution_count": 24,
     "metadata": {},
     "output_type": "execute_result"
    }
   ],
   "source": [
    "\"pine\" + \"apple\""
   ]
  },
  {
   "cell_type": "code",
   "execution_count": 25,
   "metadata": {},
   "outputs": [
    {
     "data": {
      "text/plain": [
       "'pinepinepine'"
      ]
     },
     "execution_count": 25,
     "metadata": {},
     "output_type": "execute_result"
    }
   ],
   "source": [
    "\"pine\" * 3"
   ]
  },
  {
   "cell_type": "code",
   "execution_count": 26,
   "metadata": {},
   "outputs": [
    {
     "data": {
      "text/plain": [
       "'--------------------'"
      ]
     },
     "execution_count": 26,
     "metadata": {},
     "output_type": "execute_result"
    }
   ],
   "source": [
    "'-' * 20"
   ]
  },
  {
   "cell_type": "markdown",
   "metadata": {},
   "source": [
    "** 5.2.2 获取字符串长度：len() **"
   ]
  },
  {
   "cell_type": "code",
   "execution_count": 27,
   "metadata": {},
   "outputs": [
    {
     "data": {
      "text/plain": [
       "4"
      ]
     },
     "execution_count": 27,
     "metadata": {},
     "output_type": "execute_result"
    }
   ],
   "source": [
    "len(\"pine\")"
   ]
  },
  {
   "cell_type": "code",
   "execution_count": 28,
   "metadata": {},
   "outputs": [
    {
     "data": {
      "text/plain": [
       "6"
      ]
     },
     "execution_count": 28,
     "metadata": {},
     "output_type": "execute_result"
    }
   ],
   "source": [
    "len(\"祖国，您好！\")"
   ]
  },
  {
   "cell_type": "markdown",
   "metadata": {},
   "source": [
    "**5.2.3 字符串类型的转换：str() **"
   ]
  },
  {
   "cell_type": "code",
   "execution_count": 29,
   "metadata": {},
   "outputs": [
    {
     "data": {
      "text/plain": [
       "'123'"
      ]
     },
     "execution_count": 29,
     "metadata": {},
     "output_type": "execute_result"
    }
   ],
   "source": [
    "str(123)"
   ]
  },
  {
   "cell_type": "code",
   "execution_count": 30,
   "metadata": {},
   "outputs": [
    {
     "data": {
      "text/plain": [
       "'123.456'"
      ]
     },
     "execution_count": 30,
     "metadata": {},
     "output_type": "execute_result"
    }
   ],
   "source": [
    "str(123.456)"
   ]
  },
  {
   "cell_type": "code",
   "execution_count": 31,
   "metadata": {},
   "outputs": [
    {
     "data": {
      "text/plain": [
       "'1230000000000.0'"
      ]
     },
     "execution_count": 31,
     "metadata": {},
     "output_type": "execute_result"
    }
   ],
   "source": [
    "str(123e+10)"
   ]
  },
  {
   "cell_type": "code",
   "execution_count": 32,
   "metadata": {},
   "outputs": [
    {
     "data": {
      "text/plain": [
       "'123456'"
      ]
     },
     "execution_count": 32,
     "metadata": {},
     "output_type": "execute_result"
    }
   ],
   "source": [
    "str(123) + str(456)"
   ]
  },
  {
   "cell_type": "code",
   "execution_count": 33,
   "metadata": {},
   "outputs": [
    {
     "data": {
      "text/plain": [
       "579"
      ]
     },
     "execution_count": 33,
     "metadata": {},
     "output_type": "execute_result"
    }
   ],
   "source": [
    "123 + 456"
   ]
  },
  {
   "cell_type": "markdown",
   "metadata": {},
   "source": [
    "前面讲过两个类型转换函数：int()和float()"
   ]
  },
  {
   "cell_type": "code",
   "execution_count": 34,
   "metadata": {},
   "outputs": [
    {
     "data": {
      "text/plain": [
       "'123456'"
      ]
     },
     "execution_count": 34,
     "metadata": {},
     "output_type": "execute_result"
    }
   ],
   "source": [
    "'123' + '456' "
   ]
  },
  {
   "cell_type": "code",
   "execution_count": 35,
   "metadata": {},
   "outputs": [
    {
     "data": {
      "text/plain": [
       "579"
      ]
     },
     "execution_count": 35,
     "metadata": {},
     "output_type": "execute_result"
    }
   ],
   "source": [
    "int('123') + int('456')"
   ]
  },
  {
   "cell_type": "code",
   "execution_count": 38,
   "metadata": {},
   "outputs": [
    {
     "ename": "ValueError",
     "evalue": "invalid literal for int() with base 10: '45.6'",
     "output_type": "error",
     "traceback": [
      "\u001b[1;31m---------------------------------------------------------------------------\u001b[0m",
      "\u001b[1;31mValueError\u001b[0m                                Traceback (most recent call last)",
      "\u001b[1;32m<ipython-input-38-08000a8fcbd4>\u001b[0m in \u001b[0;36m<module>\u001b[1;34m()\u001b[0m\n\u001b[1;32m----> 1\u001b[1;33m \u001b[0mint\u001b[0m\u001b[1;33m(\u001b[0m\u001b[1;34m'45.6'\u001b[0m\u001b[1;33m)\u001b[0m  \u001b[1;31m#这里会出错\u001b[0m\u001b[1;33m\u001b[0m\u001b[0m\n\u001b[0m",
      "\u001b[1;31mValueError\u001b[0m: invalid literal for int() with base 10: '45.6'"
     ]
    }
   ],
   "source": [
    "int('45.6')  #这里会出错"
   ]
  },
  {
   "cell_type": "code",
   "execution_count": 37,
   "metadata": {},
   "outputs": [
    {
     "data": {
      "text/plain": [
       "45.6"
      ]
     },
     "execution_count": 37,
     "metadata": {},
     "output_type": "execute_result"
    }
   ],
   "source": [
    "float('45.6')"
   ]
  },
  {
   "cell_type": "markdown",
   "metadata": {},
   "source": [
    "**5.2.4 用户输入函数：input() ** <br>\n",
    "函数等待用户在键盘上输入一些文本，并按下回车键。这个函数的值为一个**<font color=red>字符串</font>**，即用户输入的文本。"
   ]
  },
  {
   "cell_type": "code",
   "execution_count": 42,
   "metadata": {},
   "outputs": [
    {
     "name": "stdout",
     "output_type": "stream",
     "text": [
      "123\n"
     ]
    }
   ],
   "source": [
    "myInputVal = input()  #输入一个数字"
   ]
  },
  {
   "cell_type": "code",
   "execution_count": 43,
   "metadata": {},
   "outputs": [
    {
     "ename": "TypeError",
     "evalue": "must be str, not int",
     "output_type": "error",
     "traceback": [
      "\u001b[1;31m---------------------------------------------------------------------------\u001b[0m",
      "\u001b[1;31mTypeError\u001b[0m                                 Traceback (most recent call last)",
      "\u001b[1;32m<ipython-input-43-da8ee8f76476>\u001b[0m in \u001b[0;36m<module>\u001b[1;34m()\u001b[0m\n\u001b[1;32m----> 1\u001b[1;33m \u001b[0mmyInputVal\u001b[0m \u001b[1;33m+\u001b[0m \u001b[1;36m10\u001b[0m  \u001b[1;31m#出错了，为什么？怎么办？\u001b[0m\u001b[1;33m\u001b[0m\u001b[0m\n\u001b[0m",
      "\u001b[1;31mTypeError\u001b[0m: must be str, not int"
     ]
    }
   ],
   "source": [
    "myInputVal + 10  #出错了，为什么？怎么办？"
   ]
  },
  {
   "cell_type": "markdown",
   "metadata": {},
   "source": [
    "**5.2.5 打印函数:print() ** <br>\n",
    "print()函数将括号内的值显示在屏幕上。并且默认换行："
   ]
  },
  {
   "cell_type": "code",
   "execution_count": 44,
   "metadata": {},
   "outputs": [
    {
     "name": "stdout",
     "output_type": "stream",
     "text": [
      "Hello World！\n",
      "西南财经大学\n",
      "123456\n"
     ]
    }
   ],
   "source": [
    "print(\"Hello World！\")\n",
    "print(\"西南财经大学\")\n",
    "print(123456)"
   ]
  },
  {
   "cell_type": "markdown",
   "metadata": {},
   "source": [
    "如果打印后不想换行，可以使用下面的方法："
   ]
  },
  {
   "cell_type": "code",
   "execution_count": 46,
   "metadata": {},
   "outputs": [
    {
     "name": "stdout",
     "output_type": "stream",
     "text": [
      "Hello World！西南财经大学_123456\n"
     ]
    }
   ],
   "source": [
    "print(\"Hello World！\", end=\"\")\n",
    "print(\"西南财经大学\", end=\"_\")\n",
    "print(123456)"
   ]
  },
  {
   "cell_type": "markdown",
   "metadata": {},
   "source": [
    "所以，end是什么作用？"
   ]
  },
  {
   "cell_type": "markdown",
   "metadata": {},
   "source": [
    "** 5.2.6 字符串的in 和not in 操作符 **<br>\n",
    "in 和not in 操作符也可以用于字符串。用in 或not in 连接两个字符串得到的表达式，将求值为布尔值True 或False。用于测试第一个字符串（精确匹配，区分大小写）是否在第二个字符串中。"
   ]
  },
  {
   "cell_type": "code",
   "execution_count": 50,
   "metadata": {},
   "outputs": [
    {
     "data": {
      "text/plain": [
       "True"
      ]
     },
     "execution_count": 50,
     "metadata": {},
     "output_type": "execute_result"
    }
   ],
   "source": [
    "'Hello' in 'Hello World'"
   ]
  },
  {
   "cell_type": "code",
   "execution_count": 51,
   "metadata": {},
   "outputs": [
    {
     "data": {
      "text/plain": [
       "False"
      ]
     },
     "execution_count": 51,
     "metadata": {},
     "output_type": "execute_result"
    }
   ],
   "source": [
    "'hello' in 'Hello World'"
   ]
  },
  {
   "cell_type": "markdown",
   "metadata": {},
   "source": [
    "** 5.2.7 字符串方法upper()、lower()、isupper()和islower() **<br>\n",
    "upper()和lower()字符串方法返回一个新字符串，其中原字符串的所有字母都被相应地转换为大写或小写。字符串中非字母字符保持不变。"
   ]
  },
  {
   "cell_type": "code",
   "execution_count": 52,
   "metadata": {},
   "outputs": [
    {
     "name": "stdout",
     "output_type": "stream",
     "text": [
      "HELLO WORLD!\n",
      "Hello world!\n"
     ]
    }
   ],
   "source": [
    "sayHello = 'Hello world!'\n",
    "print(sayHello.upper())\n",
    "print(sayHello)   # 这些方法没有改变字符串本身，而是返回一个新字符串"
   ]
  },
  {
   "cell_type": "code",
   "execution_count": 53,
   "metadata": {},
   "outputs": [
    {
     "name": "stdout",
     "output_type": "stream",
     "text": [
      "hello world!\n"
     ]
    }
   ],
   "source": [
    "sayHello = sayHello.lower()\n",
    "print(sayHello)"
   ]
  },
  {
   "cell_type": "markdown",
   "metadata": {},
   "source": [
    "如果需要进行大小写无关的比较，upper()和lower()方法就很有用。例如，对于用户输入的名字，忽略大小写："
   ]
  },
  {
   "cell_type": "code",
   "execution_count": 56,
   "metadata": {},
   "outputs": [
    {
     "name": "stdout",
     "output_type": "stream",
     "text": [
      "XZL\n"
     ]
    },
    {
     "data": {
      "text/plain": [
       "True"
      ]
     },
     "execution_count": 56,
     "metadata": {},
     "output_type": "execute_result"
    }
   ],
   "source": [
    "userName = input()\n",
    "userName.lower() == 'xzl'"
   ]
  },
  {
   "cell_type": "markdown",
   "metadata": {},
   "source": [
    "如果字符串至少有一个字母，并且所有字母都是大写或小写，isupper()和islower()方法就会相应地返回布尔值True。否则，该方法返回False。"
   ]
  },
  {
   "cell_type": "code",
   "execution_count": 57,
   "metadata": {},
   "outputs": [
    {
     "data": {
      "text/plain": [
       "False"
      ]
     },
     "execution_count": 57,
     "metadata": {},
     "output_type": "execute_result"
    }
   ],
   "source": [
    "'Hello world!'.isupper()"
   ]
  },
  {
   "cell_type": "code",
   "execution_count": 58,
   "metadata": {},
   "outputs": [
    {
     "data": {
      "text/plain": [
       "False"
      ]
     },
     "execution_count": 58,
     "metadata": {},
     "output_type": "execute_result"
    }
   ],
   "source": [
    "'Hello world!'.islower()"
   ]
  },
  {
   "cell_type": "code",
   "execution_count": 59,
   "metadata": {},
   "outputs": [
    {
     "data": {
      "text/plain": [
       "True"
      ]
     },
     "execution_count": 59,
     "metadata": {},
     "output_type": "execute_result"
    }
   ],
   "source": [
    "'Hello world!'.upper().isupper()"
   ]
  },
  {
   "cell_type": "code",
   "execution_count": 61,
   "metadata": {},
   "outputs": [
    {
     "data": {
      "text/plain": [
       "False"
      ]
     },
     "execution_count": 61,
     "metadata": {},
     "output_type": "execute_result"
    }
   ],
   "source": [
    "'Hello world!'.upper().lower().isupper()  # 这样做的表达式看起来就像方法调用链。"
   ]
  },
  {
   "cell_type": "markdown",
   "metadata": {},
   "source": [
    "** 5.2.8 isX 字符串方法 **<br>\n",
    "下面是一些常用的isX 字符串方法：\n",
    "* isalpha()返回True，如果字符串只包含字母，并且非空；\n",
    "* isalnum()返回True，如果字符串只包含字母和数字，并且非空；\n",
    "* isdecimal()返回True，如果字符串只包含数字字符，并且非空；\n",
    "* isspace()返回True，如果字符串只包含空格、制表符和换行，并且非空；\n",
    "* istitle()返回True，如果字符串仅包含以大写字母开头、后面都是小写字母的单词。"
   ]
  },
  {
   "cell_type": "code",
   "execution_count": 62,
   "metadata": {},
   "outputs": [
    {
     "data": {
      "text/plain": [
       "True"
      ]
     },
     "execution_count": 62,
     "metadata": {},
     "output_type": "execute_result"
    }
   ],
   "source": [
    "'hello'.isalpha()"
   ]
  },
  {
   "cell_type": "code",
   "execution_count": 63,
   "metadata": {},
   "outputs": [
    {
     "data": {
      "text/plain": [
       "True"
      ]
     },
     "execution_count": 63,
     "metadata": {},
     "output_type": "execute_result"
    }
   ],
   "source": [
    "'你好'.isalpha()"
   ]
  },
  {
   "cell_type": "code",
   "execution_count": 64,
   "metadata": {},
   "outputs": [
    {
     "data": {
      "text/plain": [
       "False"
      ]
     },
     "execution_count": 64,
     "metadata": {},
     "output_type": "execute_result"
    }
   ],
   "source": [
    "'hello123'.isalpha()"
   ]
  },
  {
   "cell_type": "code",
   "execution_count": 66,
   "metadata": {},
   "outputs": [
    {
     "data": {
      "text/plain": [
       "True"
      ]
     },
     "execution_count": 66,
     "metadata": {},
     "output_type": "execute_result"
    }
   ],
   "source": [
    "'hello123'.isalnum()"
   ]
  },
  {
   "cell_type": "code",
   "execution_count": 67,
   "metadata": {},
   "outputs": [
    {
     "data": {
      "text/plain": [
       "True"
      ]
     },
     "execution_count": 67,
     "metadata": {},
     "output_type": "execute_result"
    }
   ],
   "source": [
    "'123'.isdecimal()"
   ]
  },
  {
   "cell_type": "code",
   "execution_count": 68,
   "metadata": {},
   "outputs": [
    {
     "data": {
      "text/plain": [
       "True"
      ]
     },
     "execution_count": 68,
     "metadata": {},
     "output_type": "execute_result"
    }
   ],
   "source": [
    "' \\t'.isspace()"
   ]
  },
  {
   "cell_type": "code",
   "execution_count": 69,
   "metadata": {},
   "outputs": [
    {
     "data": {
      "text/plain": [
       "True"
      ]
     },
     "execution_count": 69,
     "metadata": {},
     "output_type": "execute_result"
    }
   ],
   "source": [
    "'This Is A Test.'.istitle()"
   ]
  },
  {
   "cell_type": "markdown",
   "metadata": {},
   "source": [
    "这些函数在验证用户输入时，非常有用。例如，当需要用户输入年龄时，可以使用isdecimal()判断用户的输入是否只包含数字。"
   ]
  },
  {
   "cell_type": "code",
   "execution_count": 71,
   "metadata": {},
   "outputs": [
    {
     "name": "stdout",
     "output_type": "stream",
     "text": [
      "ab123\n"
     ]
    },
    {
     "data": {
      "text/plain": [
       "False"
      ]
     },
     "execution_count": 71,
     "metadata": {},
     "output_type": "execute_result"
    }
   ],
   "source": [
    "age = input()\n",
    "age.isdecimal()"
   ]
  },
  {
   "cell_type": "markdown",
   "metadata": {},
   "source": [
    "** 5.2.9 字符串方法startswith()和endswith() **<br>\n",
    "startswith()和endswith()方法返回True，如果它们所调用的字符串以该方法传入的字符串开始或结束。否则，方法返回False。这在判断字符串是否是正确URL或者正确的文件后缀时，非常有用："
   ]
  },
  {
   "cell_type": "code",
   "execution_count": 72,
   "metadata": {},
   "outputs": [
    {
     "data": {
      "text/plain": [
       "True"
      ]
     },
     "execution_count": 72,
     "metadata": {},
     "output_type": "execute_result"
    }
   ],
   "source": [
    "'http://www.swufe.edu.cn'.startswith('http')"
   ]
  },
  {
   "cell_type": "code",
   "execution_count": 73,
   "metadata": {},
   "outputs": [
    {
     "data": {
      "text/plain": [
       "False"
      ]
     },
     "execution_count": 73,
     "metadata": {},
     "output_type": "execute_result"
    }
   ],
   "source": [
    "'file1.py'.endswith('.xlsx')"
   ]
  },
  {
   "cell_type": "markdown",
   "metadata": {},
   "source": [
    "** 5.2.10 字符串方法join()和split() **<br>\n",
    "如果有一个字符串列表，需要将它们连接起来，成为一个单独的字符串，**join()**方法就很有用。join()方法在一个字符串上调用，参数是一个字符串列表，返回一个字符串。返回的字符串由传入的列表中每个字符串连接而成:"
   ]
  },
  {
   "cell_type": "code",
   "execution_count": 75,
   "metadata": {},
   "outputs": [
    {
     "data": {
      "text/plain": [
       "'管理部,人事部,销售部'"
      ]
     },
     "execution_count": 75,
     "metadata": {},
     "output_type": "execute_result"
    }
   ],
   "source": [
    "','.join(['管理部', '人事部', '销售部'])"
   ]
  },
  {
   "cell_type": "markdown",
   "metadata": {},
   "source": [
    "**split()**方法做的事情正好相反：它针对一个字符串调用，返回一个字符串列表。"
   ]
  },
  {
   "cell_type": "code",
   "execution_count": 76,
   "metadata": {},
   "outputs": [
    {
     "data": {
      "text/plain": [
       "['管理部', '人事部', '销售部']"
      ]
     },
     "execution_count": 76,
     "metadata": {},
     "output_type": "execute_result"
    }
   ],
   "source": [
    "'管理部,人事部,销售部'.split(',')"
   ]
  },
  {
   "cell_type": "code",
   "execution_count": 78,
   "metadata": {},
   "outputs": [
    {
     "data": {
      "text/plain": [
       "['管', '理', '部', '人', '事', '部', '销', '售', '部']"
      ]
     },
     "execution_count": 78,
     "metadata": {},
     "output_type": "execute_result"
    }
   ],
   "source": [
    "'管 理 部     人 事 部     销 售 部'.split()"
   ]
  },
  {
   "cell_type": "markdown",
   "metadata": {},
   "source": [
    "这在对文件内容分行操作时，非常有用："
   ]
  },
  {
   "cell_type": "code",
   "execution_count": 80,
   "metadata": {},
   "outputs": [
    {
     "name": "stdout",
     "output_type": "stream",
     "text": [
      "西南财经大学是教育部直属的国家“211工程”和“985工程”优势学科创新平台建设的全国重点大学，也是国家“双一流”建设高校。\n",
      "学校地处国家历史文化名城、南方丝绸之路的起点、素有“天府之国”美誉的成都，有光华、柳林两校区，总占地2300余亩。光华铁树穿越年轮时光感受历史缅怀先贤,巍巍钟楼傲然屹立感受青春与未来对话,这里古今融通、传统与现代交相辉映，实乃读书治学的理想园地。\n",
      "学校始于1925年在上海创立的光华大学。1938年，因抗战西迁建立光华大学成都分部；1952-1953年汇聚西南地区17所院校的财经系科组建四川财经学院,这是建国初期国家按大区布局的四所本科财经院校之一，也是西南地区唯一的综合性高等财经学府;1960年后历经分设、合并、更名等，于1978年恢复为四川财经学院；1979年由四川省划归中国人民银行主管，逐渐形成了学校独特的金融行业背景和出色的金融学科优势；1985年更名为西南财经大学，1997年成为国家“211工程”重点建设高校，2000年以独立建制划转教育部管理，2011年成为国家“985工程”优势学科创新平台建设高校。90余年的办学历史形成了自己独特的办学特色、文化传统、精神内涵和社会声誉。\n",
      "黄浦浣花风雨长，光华柳林谱华章。学校始终与国家民族共命运，格致诚正，兴学报国；始终与时代发展同进步，经世济民，励精图强，在国家经济腾飞中写下了隽永篇章。\n",
      "\n"
     ]
    }
   ],
   "source": [
    "swufeIntroduction = '''西南财经大学是教育部直属的国家“211工程”和“985工程”优势学科创新平台建设的全国重点大学，也是国家“双一流”建设高校。\n",
    "学校地处国家历史文化名城、南方丝绸之路的起点、素有“天府之国”美誉的成都，有光华、柳林两校区，总占地2300余亩。光华铁树穿越年轮时光感受历史缅怀先贤,巍巍钟楼傲然屹立感受青春与未来对话,这里古今融通、传统与现代交相辉映，实乃读书治学的理想园地。\n",
    "学校始于1925年在上海创立的光华大学。1938年，因抗战西迁建立光华大学成都分部；1952-1953年汇聚西南地区17所院校的财经系科组建四川财经学院,这是建国初期国家按大区布局的四所本科财经院校之一，也是西南地区唯一的综合性高等财经学府;1960年后历经分设、合并、更名等，于1978年恢复为四川财经学院；1979年由四川省划归中国人民银行主管，逐渐形成了学校独特的金融行业背景和出色的金融学科优势；1985年更名为西南财经大学，1997年成为国家“211工程”重点建设高校，2000年以独立建制划转教育部管理，2011年成为国家“985工程”优势学科创新平台建设高校。90余年的办学历史形成了自己独特的办学特色、文化传统、精神内涵和社会声誉。\n",
    "黄浦浣花风雨长，光华柳林谱华章。学校始终与国家民族共命运，格致诚正，兴学报国；始终与时代发展同进步，经世济民，励精图强，在国家经济腾飞中写下了隽永篇章。\n",
    "'''\n",
    "print(swufeIntroduction)"
   ]
  },
  {
   "cell_type": "code",
   "execution_count": 83,
   "metadata": {},
   "outputs": [
    {
     "data": {
      "text/plain": [
       "['西南财经大学是教育部直属的国家“211工程”和“985工程”优势学科创新平台建设的全国重点大学，也是国家“双一流”建设高校。',\n",
       " '学校地处国家历史文化名城、南方丝绸之路的起点、素有“天府之国”美誉的成都，有光华、柳林两校区，总占地2300余亩。光华铁树穿越年轮时光感受历史缅怀先贤,巍巍钟楼傲然屹立感受青春与未来对话,这里古今融通、传统与现代交相辉映，实乃读书治学的理想园地。',\n",
       " '学校始于1925年在上海创立的光华大学。1938年，因抗战西迁建立光华大学成都分部；1952-1953年汇聚西南地区17所院校的财经系科组建四川财经学院,这是建国初期国家按大区布局的四所本科财经院校之一，也是西南地区唯一的综合性高等财经学府;1960年后历经分设、合并、更名等，于1978年恢复为四川财经学院；1979年由四川省划归中国人民银行主管，逐渐形成了学校独特的金融行业背景和出色的金融学科优势；1985年更名为西南财经大学，1997年成为国家“211工程”重点建设高校，2000年以独立建制划转教育部管理，2011年成为国家“985工程”优势学科创新平台建设高校。90余年的办学历史形成了自己独特的办学特色、文化传统、精神内涵和社会声誉。',\n",
       " '黄浦浣花风雨长，光华柳林谱华章。学校始终与国家民族共命运，格致诚正，兴学报国；始终与时代发展同进步，经世济民，励精图强，在国家经济腾飞中写下了隽永篇章。',\n",
       " '']"
      ]
     },
     "execution_count": 83,
     "metadata": {},
     "output_type": "execute_result"
    }
   ],
   "source": [
    "swufeIntroduction.split('\\n')"
   ]
  },
  {
   "cell_type": "code",
   "execution_count": 86,
   "metadata": {},
   "outputs": [
    {
     "data": {
      "text/plain": [
       "'学校始于1925年在上海创立的光华大学。1938年，因抗战西迁建立光华大学成都分部；1952-1953年汇聚西南地区17所院校的财经系科组建四川财经学院,这是建国初期国家按大区布局的四所本科财经院校之一，也是西南地区唯一的综合性高等财经学府;1960年后历经分设、合并、更名等，于1978年恢复为四川财经学院；1979年由四川省划归中国人民银行主管，逐渐形成了学校独特的金融行业背景和出色的金融学科优势；1985年更名为西南财经大学，1997年成为国家“211工程”重点建设高校，2000年以独立建制划转教育部管理，2011年成为国家“985工程”优势学科创新平台建设高校。90余年的办学历史形成了自己独特的办学特色、文化传统、精神内涵和社会声誉。'"
      ]
     },
     "execution_count": 86,
     "metadata": {},
     "output_type": "execute_result"
    }
   ],
   "source": [
    "swufeIntroduction.split('\\n')[2] #从结果猜猜，这是做什么？"
   ]
  },
  {
   "cell_type": "markdown",
   "metadata": {},
   "source": [
    "** 5.2.11 用rjust()、ljust()和center()方法对齐文本 **<br>\n",
    "rjust()和ljust()字符串方法返回调用它们的字符串的填充版本，通过插入空格来对齐文本。这两个方法的第一个参数是一个整数长度，用于对齐字符串："
   ]
  },
  {
   "cell_type": "code",
   "execution_count": 87,
   "metadata": {},
   "outputs": [
    {
     "data": {
      "text/plain": [
       "'               Hello'"
      ]
     },
     "execution_count": 87,
     "metadata": {},
     "output_type": "execute_result"
    }
   ],
   "source": [
    "'Hello'.rjust(20)"
   ]
  },
  {
   "cell_type": "markdown",
   "metadata": {},
   "source": [
    "rjust()和ljust()方法的第二个可选参数将指定一个填充字符，取代空格字符:"
   ]
  },
  {
   "cell_type": "code",
   "execution_count": 88,
   "metadata": {},
   "outputs": [
    {
     "data": {
      "text/plain": [
       "'Hello---------------'"
      ]
     },
     "execution_count": 88,
     "metadata": {},
     "output_type": "execute_result"
    }
   ],
   "source": [
    "'Hello'.ljust(20, '-')"
   ]
  },
  {
   "cell_type": "markdown",
   "metadata": {},
   "source": [
    "center()字符串方法与ljust()与rjust()类似，但它让文本居中，而不是左对齐或右对齐。"
   ]
  },
  {
   "cell_type": "code",
   "execution_count": 89,
   "metadata": {},
   "outputs": [
    {
     "data": {
      "text/plain": [
       "'=======Hello========'"
      ]
     },
     "execution_count": 89,
     "metadata": {},
     "output_type": "execute_result"
    }
   ],
   "source": [
    "'Hello'.center(20, '=')"
   ]
  },
  {
   "cell_type": "code",
   "execution_count": 94,
   "metadata": {},
   "outputs": [
    {
     "name": "stdout",
     "output_type": "stream",
     "text": [
      "----------Items-----------\n",
      "sandwiches..........    30\n",
      "apples..............   330\n",
      "cookies.............  6100\n"
     ]
    }
   ],
   "source": [
    "leftWidth = 20\n",
    "rightWidth = 6\n",
    "print(\"Items\".center(leftWidth + rightWidth, '-'))\n",
    "chapter1 = \"sandwiches\"\n",
    "chapter2 = \"apples\"\n",
    "chapter3 = \"cookies\"\n",
    "chp1Page = 30\n",
    "chp2Page = 330\n",
    "chp3Page =6100\n",
    "print(chapter1.ljust(leftWidth, '.') + str(chp1Page).rjust(rightWidth))\n",
    "print(chapter2.ljust(leftWidth, '.') + str(chp2Page).rjust(rightWidth))\n",
    "print(chapter3.ljust(leftWidth, '.') + str(chp3Page).rjust(rightWidth))"
   ]
  },
  {
   "cell_type": "markdown",
   "metadata": {},
   "source": [
    "** 5.2.12 用strip()、rstrip()和lstrip()删除空白字符 **<br>\n",
    "有时候你希望删除字符串左边、右边或两边的空白字符（空格、制表符和换行符）。\n",
    "* strip()字符串方法将返回一个新的字符串，它的开头或末尾都没有空白字符。\n",
    "* lstrip()\n",
    "* rstrip()方法将相应删除左边或右边的空白字符。"
   ]
  },
  {
   "cell_type": "code",
   "execution_count": 99,
   "metadata": {},
   "outputs": [
    {
     "name": "stdout",
     "output_type": "stream",
     "text": [
      "-Hello World-\n",
      "-Hello World -\n",
      "- Hello World-\n",
      "- Hello World -\n"
     ]
    }
   ],
   "source": [
    "sayHello = ' Hello World '\n",
    "print('-' + sayHello.strip() + '-')\n",
    "print('-' + sayHello.lstrip() + '-')\n",
    "print('-' + sayHello.rstrip() + '-')\n",
    "print('-' + sayHello + '-')"
   ]
  },
  {
   "cell_type": "markdown",
   "metadata": {},
   "source": [
    "有一个可选的字符串参数，指定两边的哪些字符应该删除。"
   ]
  },
  {
   "cell_type": "code",
   "execution_count": 101,
   "metadata": {},
   "outputs": [
    {
     "data": {
      "text/plain": [
       "'西南财经大学bcd'"
      ]
     },
     "execution_count": 101,
     "metadata": {},
     "output_type": "execute_result"
    }
   ],
   "source": [
    "tmpStr = 'abcbac西南财经大学bcdabc'\n",
    "tmpStr.strip('acb') #向strip()方法传入参数'acb'，告诉它在变量中存储的字符串两端，\n",
    "                    #删除出现的a、c和b。传入strip()方法的字符串中，\n",
    "                    #字符的顺序并不重要：strip('acb')做的事情和\n",
    "                    #strip('abc')或strip('cba')一样。"
   ]
  },
  {
   "cell_type": "markdown",
   "metadata": {},
   "source": [
    "** 5.2.13 字符串format()方法 **<br>\n",
    "字符串format()方法的基本使用格式是：<br>\n",
    "<center>** <模板字符串>.format(<逗号分隔的参数>)**</center>\n",
    "<img src=\"Images/strFormat.png\" width=\"90%\"><br><br>"
   ]
  },
  {
   "cell_type": "code",
   "execution_count": 106,
   "metadata": {
    "scrolled": true
   },
   "outputs": [
    {
     "data": {
      "text/plain": [
       "'2016-12-31：计算机PYTHON的cpu占有率为10%。'"
      ]
     },
     "execution_count": 106,
     "metadata": {},
     "output_type": "execute_result"
    }
   ],
   "source": [
    "\"{}：计算机{}的cpu占有率为{}%。\".format(\"2016-12-31\", \"PYTHON\", 10)"
   ]
  },
  {
   "cell_type": "markdown",
   "metadata": {},
   "source": [
    "<img src=\"Images/strFormat2.png\" width=\"90%\"><br><br>"
   ]
  },
  {
   "cell_type": "code",
   "execution_count": 107,
   "metadata": {},
   "outputs": [
    {
     "data": {
      "text/plain": [
       "'PYTHON：计算机2016-12-31的cpu占有率为10%。'"
      ]
     },
     "execution_count": 107,
     "metadata": {},
     "output_type": "execute_result"
    }
   ],
   "source": [
    "\"{1}：计算机{0}的cpu占有率为{2}%。\".format(\"2016-12-31\", \"PYTHON\", 10)"
   ]
  },
  {
   "cell_type": "markdown",
   "metadata": {},
   "source": [
    "format()方法中模板字符串的槽除了包括参数序号，还可以包括格式控制信息。此时，槽的内部样式如下：<br><center>**{<参数序号>: <格式控制标记>}**</center>\n",
    "\n",
    "其中，格式控制标记用来控制参数显示时的格式 。格式控制标记包括：**<填充><对齐><宽度>,<.精度><类型>**6个字段，这些字段都是可选的，可以组合使用，这里按照使用方式逐一介绍:\n",
    "<img src=\"Images/strFormat3.png\" width=\"90%\"><br><br>"
   ]
  },
  {
   "cell_type": "code",
   "execution_count": 109,
   "metadata": {},
   "outputs": [
    {
     "data": {
      "text/plain": [
       "'Python                        '"
      ]
     },
     "execution_count": 109,
     "metadata": {},
     "output_type": "execute_result"
    }
   ],
   "source": [
    "s = \"Python\"\n",
    "\"{0:30}\".format(s)"
   ]
  },
  {
   "cell_type": "code",
   "execution_count": 110,
   "metadata": {},
   "outputs": [
    {
     "data": {
      "text/plain": [
       "'                        Python'"
      ]
     },
     "execution_count": 110,
     "metadata": {},
     "output_type": "execute_result"
    }
   ],
   "source": [
    "\"{0:>30}\".format(s)"
   ]
  },
  {
   "cell_type": "code",
   "execution_count": 111,
   "metadata": {},
   "outputs": [
    {
     "data": {
      "text/plain": [
       "'************Python************'"
      ]
     },
     "execution_count": 111,
     "metadata": {},
     "output_type": "execute_result"
    }
   ],
   "source": [
    "\"{0:*^30}\".format(s)"
   ]
  },
  {
   "cell_type": "code",
   "execution_count": 113,
   "metadata": {},
   "outputs": [
    {
     "data": {
      "text/plain": [
       "'12345.68'"
      ]
     },
     "execution_count": 113,
     "metadata": {},
     "output_type": "execute_result"
    }
   ],
   "source": [
    "\"{0:.2f}\".format(12345.67890)"
   ]
  },
  {
   "cell_type": "markdown",
   "metadata": {},
   "source": [
    "**下面的Python语句输出结果是什么：**\n",
    "```Python\n",
    "print(\"{:>15s}:{:<8.2f}\".format(\"Length\", 23.87501))\n",
    "```"
   ]
  },
  {
   "cell_type": "markdown",
   "metadata": {},
   "source": [
    "### 字符串使用实例1：\n",
    "输入身份证号码，输出生日，格式为：yyyy年mm月dd日。"
   ]
  },
  {
   "cell_type": "code",
   "execution_count": 104,
   "metadata": {
    "scrolled": true
   },
   "outputs": [
    {
     "name": "stdout",
     "output_type": "stream",
     "text": [
      "请输入身份证号码（18位）：520125197907167551\n",
      "1979年07月16日\n"
     ]
    }
   ],
   "source": [
    "# 520125197907167551\n",
    "idCard = input('请输入身份证号码（18位）：')\n",
    "#这里最好能判断一下输入的号码长度，不是18位要求重新输入\n",
    "#需要用到判断，循环等\n",
    "print(idCard[6:10] + '年' + idCard[10:12] + '月' + idCard[12:14] + '日')"
   ]
  },
  {
   "cell_type": "markdown",
   "metadata": {},
   "source": [
    "***PS. 怎么判断性别？***"
   ]
  },
  {
   "attachments": {},
   "cell_type": "markdown",
   "metadata": {},
   "source": [
    "### 字符串使用实例2：\n",
    "输入一个月份数字，返回对应月份名称缩写。"
   ]
  },
  {
   "cell_type": "code",
   "execution_count": 114,
   "metadata": {},
   "outputs": [
    {
     "name": "stdout",
     "output_type": "stream",
     "text": [
      "请输入月份数（1-12）：10\n",
      "月份简写是：Oct.\n"
     ]
    }
   ],
   "source": [
    "# 将所有月份名称缩写存储在字符串中\n",
    "months = \"JanFebMarAprMayJunJulAugSepOctNovDec\"\n",
    "\n",
    "n = input(\"请输入月份数（1-12）：\")\n",
    "pos = (int(n) - 1) * 3\n",
    "# 在字符串中截取适当的子串来查找特定月份\n",
    "monthAbbrev = months[pos:pos+3]\n",
    "\n",
    "print(\"月份简写是：\" + monthAbbrev + '.')"
   ]
  },
  {
   "cell_type": "markdown",
   "metadata": {},
   "source": [
    "### 字符串使用实例3：\n",
    "有如下字符串：<br>"
   ]
  },
  {
   "cell_type": "code",
   "execution_count": 140,
   "metadata": {
    "collapsed": true
   },
   "outputs": [],
   "source": [
    "salaryStr = '''10932,张珊,15000.00 ,4000.00 ,2300.00 ,980.00 ,300.00 ,1000.00\n",
    "10933,李思,12000.00 ,5000.00 ,2600.00 ,890.00 ,400.00 ,2000.00\n",
    "10934,王武,10100.00 ,2000.00 ,2500.00 ,860.00 ,500.00 ,1500.00\n",
    "10935,赵柳,10050.00 ,1000.00 ,2700.00 ,1080.00 ,300.00 ,2000.00\n",
    "10936,钱棋,10200.00 ,2000.00 ,2400.00 ,1000.00 ,600.00 ,1000.00\n",
    "10941,张明,13600.00 ,4000.00 ,2100.00 ,680.00 ,300.00 ,1000.00\n",
    "10942,赵敏,13200.00 ,2500.00 ,2300.00 ,670.00 ,400.00 ,3000.00\n",
    "10945,王红,13600.00 ,2600.00 ,2030.00 ,560.00 ,400.00 ,2000.00\n",
    "10946,李萧,12500.00 ,2800.00 ,2400.00 ,420.00 ,500.00 ,1500.00\n",
    "10947,孙科,12000.00 ,3500.00 ,2030.00 ,880.00 ,300.00 ,1000.00\n",
    "10948,刘利,14200.00 ,2500.00 ,2020.00 ,900.00 ,400.00 ,2000.00'''"
   ]
  },
  {
   "cell_type": "markdown",
   "metadata": {},
   "source": [
    "对应为：编号,姓名,基本工资,奖金,住房补助,五险一金,其他扣款,专项附加扣除,所得税,实发工资"
   ]
  },
  {
   "cell_type": "code",
   "execution_count": 141,
   "metadata": {},
   "outputs": [
    {
     "data": {
      "text/plain": [
       "'10932,张珊,15000.00 ,4000.00 ,2300.00 ,980.00 ,300.00 ,1000.00\\n10933,李思,12000.00 ,5000.00 ,2600.00 ,890.00 ,400.00 ,2000.00\\n10934,王武,10100.00 ,2000.00 ,2500.00 ,860.00 ,500.00 ,1500.00\\n10935,赵柳,10050.00 ,1000.00 ,2700.00 ,1080.00 ,300.00 ,2000.00\\n10936,钱棋,10200.00 ,2000.00 ,2400.00 ,1000.00 ,600.00 ,1000.00\\n10941,张明,13600.00 ,4000.00 ,2100.00 ,680.00 ,300.00 ,1000.00\\n10942,赵敏,13200.00 ,2500.00 ,2300.00 ,670.00 ,400.00 ,3000.00\\n10945,王红,13600.00 ,2600.00 ,2030.00 ,560.00 ,400.00 ,2000.00\\n10946,李萧,12500.00 ,2800.00 ,2400.00 ,420.00 ,500.00 ,1500.00\\n10947,孙科,12000.00 ,3500.00 ,2030.00 ,880.00 ,300.00 ,1000.00\\n10948,刘利,14200.00 ,2500.00 ,2020.00 ,900.00 ,400.00 ,2000.00'"
      ]
     },
     "execution_count": 141,
     "metadata": {},
     "output_type": "execute_result"
    }
   ],
   "source": [
    "salaryStr"
   ]
  },
  {
   "cell_type": "code",
   "execution_count": 142,
   "metadata": {},
   "outputs": [
    {
     "data": {
      "text/plain": [
       "['10932,张珊,15000.00 ,4000.00 ,2300.00 ,980.00 ,300.00 ,1000.00',\n",
       " '10933,李思,12000.00 ,5000.00 ,2600.00 ,890.00 ,400.00 ,2000.00',\n",
       " '10934,王武,10100.00 ,2000.00 ,2500.00 ,860.00 ,500.00 ,1500.00',\n",
       " '10935,赵柳,10050.00 ,1000.00 ,2700.00 ,1080.00 ,300.00 ,2000.00',\n",
       " '10936,钱棋,10200.00 ,2000.00 ,2400.00 ,1000.00 ,600.00 ,1000.00',\n",
       " '10941,张明,13600.00 ,4000.00 ,2100.00 ,680.00 ,300.00 ,1000.00',\n",
       " '10942,赵敏,13200.00 ,2500.00 ,2300.00 ,670.00 ,400.00 ,3000.00',\n",
       " '10945,王红,13600.00 ,2600.00 ,2030.00 ,560.00 ,400.00 ,2000.00',\n",
       " '10946,李萧,12500.00 ,2800.00 ,2400.00 ,420.00 ,500.00 ,1500.00',\n",
       " '10947,孙科,12000.00 ,3500.00 ,2030.00 ,880.00 ,300.00 ,1000.00',\n",
       " '10948,刘利,14200.00 ,2500.00 ,2020.00 ,900.00 ,400.00 ,2000.00']"
      ]
     },
     "execution_count": 142,
     "metadata": {},
     "output_type": "execute_result"
    }
   ],
   "source": [
    "salarys = salaryStr.split('\\n')\n",
    "salarys"
   ]
  },
  {
   "cell_type": "code",
   "execution_count": 143,
   "metadata": {},
   "outputs": [
    {
     "data": {
      "text/plain": [
       "'10932,张珊,15000.00 ,4000.00 ,2300.00 ,980.00 ,300.00 ,1000.00'"
      ]
     },
     "execution_count": 143,
     "metadata": {},
     "output_type": "execute_result"
    }
   ],
   "source": [
    "salarys[0]  # 这个是列表，下一章会介绍\n",
    "# 对应为：编号,基本工资,奖金,住房补助,五险一金,其他扣款,专项附加扣除"
   ]
  },
  {
   "cell_type": "code",
   "execution_count": 144,
   "metadata": {},
   "outputs": [
    {
     "data": {
      "text/plain": [
       "['10932',\n",
       " '张珊',\n",
       " '15000.00 ',\n",
       " '4000.00 ',\n",
       " '2300.00 ',\n",
       " '980.00 ',\n",
       " '300.00 ',\n",
       " '1000.00']"
      ]
     },
     "execution_count": 144,
     "metadata": {},
     "output_type": "execute_result"
    }
   ],
   "source": [
    "employee0Info = salarys[0].split(',')\n",
    "employee0Info"
   ]
  },
  {
   "cell_type": "code",
   "execution_count": 145,
   "metadata": {},
   "outputs": [
    {
     "data": {
      "text/plain": [
       "'15000.00 4000.00 '"
      ]
     },
     "execution_count": 145,
     "metadata": {},
     "output_type": "execute_result"
    }
   ],
   "source": [
    "employee0Info[2] + employee0Info[3]"
   ]
  },
  {
   "cell_type": "code",
   "execution_count": 146,
   "metadata": {},
   "outputs": [
    {
     "data": {
      "text/plain": [
       "19000.0"
      ]
     },
     "execution_count": 146,
     "metadata": {},
     "output_type": "execute_result"
    }
   ],
   "source": [
    "float(employee0Info[2]) + float(employee0Info[3])"
   ]
  },
  {
   "cell_type": "markdown",
   "metadata": {},
   "source": [
    "应纳税所得额计算方法：\n",
    "\n",
    "<center>** 应纳税所得额=正常收入 - 5000元免征额 - 五险一金 - 专项附加扣除 - 其他扣除 **</center>"
   ]
  },
  {
   "cell_type": "code",
   "execution_count": 147,
   "metadata": {},
   "outputs": [],
   "source": [
    "employee0TaxIncome = float(employee0Info[2]) + float(employee0Info[3]) + float(employee0Info[4]) \\\n",
    "                     - 5000 \\\n",
    "                     - float(employee0Info[5]) - float(employee0Info[6]) - float(employee0Info[7])"
   ]
  },
  {
   "cell_type": "code",
   "execution_count": 148,
   "metadata": {},
   "outputs": [
    {
     "name": "stdout",
     "output_type": "stream",
     "text": [
      "10932 张珊....................14020.00\n"
     ]
    }
   ],
   "source": [
    "print(\"{:<5} {:.<10}{:.>20.2f}\".format(employee0Info[0],employee0Info[1],employee0TaxIncome))"
   ]
  },
  {
   "cell_type": "markdown",
   "metadata": {},
   "source": [
    "综合起来："
   ]
  },
  {
   "cell_type": "code",
   "execution_count": 159,
   "metadata": {},
   "outputs": [
    {
     "name": "stdout",
     "output_type": "stream",
     "text": [
      "编号  姓名                    应纳税额        \n",
      "10932 张珊....................14020.00\n",
      "10933 李思....................11310.00\n",
      "10934 王武.....................6740.00\n",
      "10935 赵柳.....................5370.00\n",
      "10936 钱棋.....................7000.00\n"
     ]
    }
   ],
   "source": [
    "print(\"{:<3} {:<14}{:^20}\".format(\"编号\",\"姓名\",\"应纳税额\"))\n",
    "\n",
    "emp0 = salarys[0].split(',')\n",
    "emp0Tax = float(emp0[2]) + float(emp0[3]) + float(emp0[4]) \\\n",
    "                - 5000 \\\n",
    "                - float(emp0[5]) - float(emp0[6]) - float(emp0[7])\n",
    "print(\"{:<5} {:.<10}{:.>20.2f}\".format(emp0[0],emp0[1],emp0Tax))\n",
    "emp1 = salarys[1].split(',')\n",
    "emp1Tax = float(emp1[2]) + float(emp1[3]) + float(emp1[4]) \\\n",
    "                - 5000 \\\n",
    "                - float(emp1[5]) - float(emp1[6]) - float(emp1[7])\n",
    "print(\"{:<5} {:.<10}{:.>20.2f}\".format(emp1[0],emp1[1],emp1Tax))\n",
    "emp2 = salarys[2].split(',')\n",
    "emp2Tax = float(emp2[2]) + float(emp2[3]) + float(emp2[4]) \\\n",
    "                - 5000 \\\n",
    "                - float(emp2[5]) - float(emp2[6]) - float(emp2[7])\n",
    "print(\"{:<5} {:.<10}{:.>20.2f}\".format(emp2[0],emp2[1],emp2Tax))\n",
    "emp3 = salarys[3].split(',')\n",
    "emp3Tax = float(emp3[2]) + float(emp3[3]) + float(emp3[4]) \\\n",
    "                - 5000 \\\n",
    "                - float(emp3[5]) - float(emp3[6]) - float(emp3[7])\n",
    "print(\"{:<5} {:.<10}{:.>20.2f}\".format(emp3[0],emp3[1],emp3Tax))\n",
    "emp4 = salarys[4].split(',')\n",
    "emp4Tax = float(emp4[2]) + float(emp4[3]) + float(emp4[4]) \\\n",
    "                - 5000 \\\n",
    "                - float(emp4[5]) - float(emp4[6]) - float(emp4[7])\n",
    "print(\"{:<5} {:.<10}{:.>20.2f}\".format(emp4[0],emp4[1],emp4Tax))"
   ]
  },
  {
   "cell_type": "markdown",
   "metadata": {},
   "source": [
    "实例3输出了5个人的编号，姓名和应纳税额。如果是50个，500个，5000个呢？这样做合适吗？所以我们需要函数、循环、判断。这将是下一章会讲解的内容。准备好进入真正的程序世界了吗？"
   ]
  },
  {
   "cell_type": "code",
   "execution_count": null,
   "metadata": {
    "collapsed": true
   },
   "outputs": [],
   "source": []
  }
 ],
 "metadata": {
  "kernelspec": {
   "display_name": "Python 3",
   "language": "python",
   "name": "python3"
  },
  "language_info": {
   "codemirror_mode": {
    "name": "ipython",
    "version": 3
   },
   "file_extension": ".py",
   "mimetype": "text/x-python",
   "name": "python",
   "nbconvert_exporter": "python",
   "pygments_lexer": "ipython3",
   "version": "3.6.2"
  }
 },
 "nbformat": 4,
 "nbformat_minor": 2
}
