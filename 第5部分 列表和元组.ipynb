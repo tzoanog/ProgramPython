{
 "cells": [
  {
   "cell_type": "markdown",
   "metadata": {},
   "source": [
    "<table border=0 width=\"100%\"><tr><td><p align=\"left\"><img src=\"Images/logo.png\" align=\"left\" width=300></p></td><td><font size=5><B>Python程序设计与应用</B></font></td></tr></table>"
   ]
  },
  {
   "cell_type": "markdown",
   "metadata": {},
   "source": [
    "# <div align='center'>第五部分 列表、元组和集合</div>"
   ]
  },
  {
   "cell_type": "markdown",
   "metadata": {},
   "source": [
    "## 知识点\n",
    "- 列表的定义和基本使用。\n",
    "- 二维列表。\n",
    "- 元组的定义和基本使用。\n",
    "- 集合的定义和基本使用。\n",
    "- Numpy的基本使用。"
   ]
  },
  {
   "cell_type": "markdown",
   "metadata": {},
   "source": [
    "## 预习\n",
    "* 第6章：组合数据类型"
   ]
  },
  {
   "cell_type": "markdown",
   "metadata": {},
   "source": [
    "在能够开始编写程序之前，还有一个主题需要理解，那就是列表数据类型、元组和集合。列表和元组可以包含多个值，这样编写程序来***处理大量数据***就变得更容易。而且，由于列表本身又可以包含其他列表，所以可以用它们将数据安排成层次结构。\n",
    "\n",
    "如果把布尔型、整形、浮点型这些数据类型看作组成Python的原子，那么本部分将要提到的数据结构就像分子一样。"
   ]
  },
  {
   "attachments": {},
   "cell_type": "markdown",
   "metadata": {},
   "source": [
    "## 1. 序列类型\n",
    "\n",
    "计算机不仅对单个变量表示的数据进行处理，更多情况，计算机需要对一组数据进行批量处理。一些例子包括：\n",
    "* 处理计算机中一组文件；\n",
    "* 统计一组问卷调查结果；\n",
    "* 给定一组工资基本信息，计算应纳个人所得税；\n",
    "* 给定一个学院学生信息，统计一下男女生比例；\n",
    "* 一次实验产生了很多组数据，对这些大量数据进行分析；\n",
    "\n",
    "序列类型是组合数据类型的一类，能够将多个同类型或不同类型的数据组织起来，通过单一的表示使数据操作更有序更容易。\n",
    "\n",
    "序列类型是一个元素向量，元素之间存在***先后关系**，通过序号访问，元素之间***不排他***。\n",
    "\n",
    "由于元素之间存在顺序关系，所以序列中可以存在相同数值但位置不同的元素。序列类型支持成员关系操作符（in）、长度计算函数（len()）、分片（[]），元素本身也可以是序列类型。\n",
    "\n",
    "Python中的主要序列类型：\n",
    "* str（字符串）:由字符构成的序列;\n",
    "* list（列表）:一个***可以修改数据项***的序列类型，使用也最灵活;\n",
    "* tuple（元组）:包含0个或多个数据项的***不可变***序列类型。元组生成后是固定的，其中任何数据项不能替换或删除。\n",
    "<img src=\"Images/indexExample.png\" width=80%>\n",
    "\n",
    "序列类型有12个通用的操作符和函数:\n",
    "\n",
    "|操作符|描述|\n",
    "|:----:|:----------|\n",
    "|**x in s**|如果x是s的元素，返回True，否则返回False|\n",
    "|**x not in s**|如果x不是s的元素，返回True，否则返回False|\n",
    "|**s + t**|连接s和t||\n",
    "|**s \\* n 或 n \\* s**|将序列s复制n次|\n",
    "|**s[i]**|索引，返回序列的第i个元素|\n",
    "|**s[i: j]**|分片，返回包含序列s第i到j个元素的子序列（不包含第j个元素）|\n",
    "|**s[i: j: k]**|步骤分片，返回包含序列s第i到j个元素以j为步数的子序列|\n",
    "|**len(s)**|序列s的元素个数（长度）|\n",
    "|**min(s)**|序列s中的最小元素|\n",
    "|**max(s)**|序列s中的最大元素|\n",
    "|**s.index(x[, i[, j]])**|序列s中从i开始到j位置中第一次出现元素x的位置|\n",
    "|**s.count(x)**|序列s中出现x的总次数|"
   ]
  },
  {
   "attachments": {},
   "cell_type": "markdown",
   "metadata": {},
   "source": [
    "## 2. 序列类型：列表\n",
    "“列表”是一个值，它包含多个值构成的序列。术语“列表值”指的是列表本身（它作为一个值，可以保存在变量中，或传递给函数，像所有其他值一样），而\n",
    "不是指列表值之内的那些值。列表值看起来像这样：['西南财经大学', '电子科技大学', '四川大学', '西南交通大学']。就像字符串值用引号来标记字符串的起止一样，***列表用左方括号开始，右方括号结束，即[ ]***。列表中的值也称为“表项”。表项用***逗号分隔***（就是说，它们是“逗号分隔的”）。\n",
    "\n",
    "列表的长度和内容都是**可变的**，可自由对列表中数据项进行增加、删除或替换。列表没有长度限制，元素类型可以不同，使用非常灵活。\n",
    "\n",
    "由于列表属于序列类型，所以列表也支持成员关系操作符（in）、长度计算函数（len()）、分片（[]）。\n",
    "\n",
    "列表可以同时使用正向递增序号和反向递减序号，可以采用标准的比较操作符（<、<=、==、!=、>=、>）进行比较，列表的比较实际上是单个数据项的逐个比较。\n",
    "\n",
    "**列表的操作**\n",
    "\n",
    "|函数或方法|描述|\n",
    "|:---:|:----------|\n",
    "|ls[i] = x|\t替换列表ls第i数据项为x|\n",
    "|ls[i: j] = lt|\t用列表lt替换列表ls中第i到j项数据（不含第j项，下同）|\n",
    "|ls[i: j: k] = lt|用列表lt替换列表ls中第i到j以k为步的数据|\n",
    "|del ls[i: j]|删除列表ls第i到j项数据，等价于ls[i: j]=[]|\n",
    "|del ls[i: j: k]|删除列表ls第i到j以k为步的数据|\n",
    "|ls += lt或ls.extend(lt)|将列表lt元素增加到列表ls中|\n",
    "|ls \\*= n|更新列表ls，其元素重复n次|\n",
    "|ls.append(x)|在列表ls最后增加一个元素x|\n",
    "|ls.clear()|删除ls中所有元素|\n",
    "|ls.copy()|生成一个新列表，复制ls中所有元素|\n",
    "|ls.insert(i, x)|在列表ls第i位置增加元素x|\n",
    "|ls.pop(i)|将列表ls中第i项元素取出并删除该元素||\n",
    "|ls.remove(x)|将列表中出现的第一个元素x删除|\n",
    "|ls.reverse(x)|列表ls中元素反转|"
   ]
  },
  {
   "attachments": {},
   "cell_type": "markdown",
   "metadata": {},
   "source": [
    "## 2.1 用下标取得列表中的单个值\n",
    "列表用中括号（[]）表示，通过下标取单个值，下标只能是整数，不能是浮点值。下标就是元素在列表中的偏移量。"
   ]
  },
  {
   "cell_type": "code",
   "execution_count": 1,
   "metadata": {},
   "outputs": [
    {
     "data": {
      "text/plain": [
       "['西南财经大学', '电子科技大学', '四川大学', '西南交通大学']"
      ]
     },
     "execution_count": 1,
     "metadata": {},
     "output_type": "execute_result"
    }
   ],
   "source": [
    "universityList = ['西南财经大学', '电子科技大学', '四川大学', '西南交通大学']\n",
    "universityList"
   ]
  },
  {
   "cell_type": "code",
   "execution_count": 2,
   "metadata": {},
   "outputs": [
    {
     "data": {
      "text/plain": [
       "'西南财经大学'"
      ]
     },
     "execution_count": 2,
     "metadata": {},
     "output_type": "execute_result"
    }
   ],
   "source": [
    "universityList[0]"
   ]
  },
  {
   "cell_type": "code",
   "execution_count": 3,
   "metadata": {},
   "outputs": [
    {
     "data": {
      "text/plain": [
       "'电子科技大学'"
      ]
     },
     "execution_count": 3,
     "metadata": {},
     "output_type": "execute_result"
    }
   ],
   "source": [
    "universityList[1]"
   ]
  },
  {
   "cell_type": "code",
   "execution_count": 4,
   "metadata": {},
   "outputs": [
    {
     "data": {
      "text/plain": [
       "'子'"
      ]
     },
     "execution_count": 4,
     "metadata": {},
     "output_type": "execute_result"
    }
   ],
   "source": [
    "universityList[1][1]"
   ]
  },
  {
   "cell_type": "markdown",
   "metadata": {},
   "source": [
    "如果使用的下标超出了列表中值的个数，Python 将给出IndexError 出错信息。"
   ]
  },
  {
   "cell_type": "code",
   "execution_count": 5,
   "metadata": {},
   "outputs": [
    {
     "ename": "IndexError",
     "evalue": "list index out of range",
     "output_type": "error",
     "traceback": [
      "\u001b[1;31m---------------------------------------------------------------------------\u001b[0m",
      "\u001b[1;31mIndexError\u001b[0m                                Traceback (most recent call last)",
      "\u001b[1;32m<ipython-input-5-4de4120efd2b>\u001b[0m in \u001b[0;36m<module>\u001b[1;34m()\u001b[0m\n\u001b[1;32m----> 1\u001b[1;33m \u001b[0muniversityList\u001b[0m\u001b[1;33m[\u001b[0m\u001b[1;36m4\u001b[0m\u001b[1;33m]\u001b[0m\u001b[1;33m\u001b[0m\u001b[0m\n\u001b[0m",
      "\u001b[1;31mIndexError\u001b[0m: list index out of range"
     ]
    }
   ],
   "source": [
    "universityList[4]"
   ]
  },
  {
   "cell_type": "markdown",
   "metadata": {},
   "source": [
    "列表也可以包含其他列表值。这些列表的列表中的值，可以通过多重下标来访问，像这样："
   ]
  },
  {
   "cell_type": "code",
   "execution_count": 9,
   "metadata": {
    "collapsed": true
   },
   "outputs": [],
   "source": [
    "# 编号,姓名,基本工资,奖金,住房补助,五险一金,其他扣款,专项附加扣除\n",
    "incomeList = [\n",
    "    ['10932','张珊',15000.00 ,4000.00 ,2300.00 ,980.00 ,300.00 ,1000.00],\n",
    "    ['10933','李思',12000.00 ,5000.00 ,2600.00 ,890.00 ,400.00 ,2000.00],\n",
    "    ['10934','王武',10100.00 ,2000.00 ,2500.00 ,860.00 ,500.00 ,1500.00],\n",
    "    ['10935','赵柳',10050.00 ,1000.00 ,2700.00 ,1080.00 ,300.00 ,2000.00],\n",
    "    ['10936','钱棋',10200.00 ,2000.00 ,2400.00 ,1000.00 ,600.00 ,1000.00],\n",
    "    ['10941','张明',13600.00 ,4000.00 ,2100.00 ,680.00 ,300.00 ,1000.00],\n",
    "    ['10942','赵敏',13200.00 ,2500.00 ,2300.00 ,670.00 ,400.00 ,3000.00],\n",
    "    ['10945','王红',13600.00 ,2600.00 ,2030.00 ,560.00 ,400.00 ,2000.00],\n",
    "    ['10946','李萧',12500.00 ,2800.00 ,2400.00 ,420.00 ,500.00 ,1500.00],\n",
    "    ['10947','孙科',12000.00 ,3500.00 ,2030.00 ,880.00 ,300.00 ,1000.00],\n",
    "    ['10948','刘利',14200.00 ,2500.00 ,2020.00 ,900.00 ,400.00 ,2000.00]\n",
    "]"
   ]
  },
  {
   "cell_type": "code",
   "execution_count": 8,
   "metadata": {},
   "outputs": [
    {
     "data": {
      "text/plain": [
       "[['10932', '张珊', 15000.0, 4000.0, 2300.0, 980.0, 300.0, 1000.0],\n",
       " ['10933', '李思', 12000.0, 5000.0, 2600.0, 890.0, 400.0, 2000.0],\n",
       " ['10934', '王武', 10100.0, 2000.0, 2500.0, 860.0, 500.0, 1500.0],\n",
       " ['10935', '赵柳', 10050.0, 1000.0, 2700.0, 1080.0, 300.0, 2000.0],\n",
       " ['10936', '钱棋', 10200.0, 2000.0, 2400.0, 1000.0, 600.0, 1000.0],\n",
       " ['10941', '张明', 13600.0, 4000.0, 2100.0, 680.0, 300.0, 1000.0],\n",
       " ['10942', '赵敏', 13200.0, 2500.0, 2300.0, 670.0, 400.0, 3000.0],\n",
       " ['10945', '王红', 13600.0, 2600.0, 2030.0, 560.0, 400.0, 2000.0],\n",
       " ['10946', '李萧', 12500.0, 2800.0, 2400.0, 420.0, 500.0, 1500.0],\n",
       " ['10947', '孙科', 12000.0, 3500.0, 2030.0, 880.0, 300.0, 1000.0],\n",
       " ['10948', '刘利', 14200.0, 2500.0, 2020.0, 900.0, 400.0, 2000.0]]"
      ]
     },
     "execution_count": 8,
     "metadata": {},
     "output_type": "execute_result"
    }
   ],
   "source": [
    "incomeList"
   ]
  },
  {
   "cell_type": "markdown",
   "metadata": {},
   "source": [
    "## 2.2 负数下标\n",
    "虽然下标从0 开始并向上增长，但也可以用负整数作为下标。整数值−1 指的是列表中的最后一个下标，−2 指的是列表中倒数第二个下标，以此类推。"
   ]
  },
  {
   "cell_type": "code",
   "execution_count": 10,
   "metadata": {},
   "outputs": [
    {
     "data": {
      "text/plain": [
       "['10948', '刘利', 14200.0, 2500.0, 2020.0, 900.0, 400.0, 2000.0]"
      ]
     },
     "execution_count": 10,
     "metadata": {},
     "output_type": "execute_result"
    }
   ],
   "source": [
    "incomeList[-1]"
   ]
  },
  {
   "cell_type": "code",
   "execution_count": 11,
   "metadata": {},
   "outputs": [
    {
     "data": {
      "text/plain": [
       "['10932', '张珊', 15000.0, 4000.0, 2300.0, 980.0, 300.0, 1000.0]"
      ]
     },
     "execution_count": 11,
     "metadata": {},
     "output_type": "execute_result"
    }
   ],
   "source": [
    "incomeList[-11]"
   ]
  },
  {
   "cell_type": "code",
   "execution_count": 12,
   "metadata": {},
   "outputs": [
    {
     "data": {
      "text/plain": [
       "['10932', '张珊', 15000.0, 4000.0, 2300.0, 980.0, 300.0, 1000.0]"
      ]
     },
     "execution_count": 12,
     "metadata": {},
     "output_type": "execute_result"
    }
   ],
   "source": [
    "incomeList[0]"
   ]
  },
  {
   "cell_type": "code",
   "execution_count": 13,
   "metadata": {},
   "outputs": [
    {
     "ename": "IndexError",
     "evalue": "list index out of range",
     "output_type": "error",
     "traceback": [
      "\u001b[1;31m---------------------------------------------------------------------------\u001b[0m",
      "\u001b[1;31mIndexError\u001b[0m                                Traceback (most recent call last)",
      "\u001b[1;32m<ipython-input-13-ddf70dc58884>\u001b[0m in \u001b[0;36m<module>\u001b[1;34m()\u001b[0m\n\u001b[1;32m----> 1\u001b[1;33m \u001b[0mincomeList\u001b[0m\u001b[1;33m[\u001b[0m\u001b[1;33m-\u001b[0m\u001b[1;36m20\u001b[0m\u001b[1;33m]\u001b[0m\u001b[1;33m\u001b[0m\u001b[0m\n\u001b[0m",
      "\u001b[1;31mIndexError\u001b[0m: list index out of range"
     ]
    }
   ],
   "source": [
    "incomeList[-20]"
   ]
  },
  {
   "cell_type": "markdown",
   "metadata": {},
   "source": [
    "在不计算列表长度的情况下，利用负数下标取倒数的值很方便。"
   ]
  },
  {
   "cell_type": "markdown",
   "metadata": {},
   "source": [
    "## 2.3 利用切片取得子列表\n",
    "就像下标可以从列表中取得单个值一样，“**切片**”可以从列表中取得多个值，***结果是一个新列表***。切片输入在一对方括号中，像下标一样，但它有两个**冒号分隔**的整数。请注意下标和切片的不同。\n",
    "\n",
    "* incomeList[2]是一个列表和下标（一个整数）。\n",
    "* incomeList[1:4]是一个列表和切片（两个整数）。\n",
    "\n",
    "在一个切片中，第一个整数是切片开始处的下标。第二个整数是切片结束处的下标。切片向上增长，直至第二个下标的值，***但不包括它***。切片求值为一个新的列表值。"
   ]
  },
  {
   "cell_type": "code",
   "execution_count": 14,
   "metadata": {},
   "outputs": [
    {
     "data": {
      "text/plain": [
       "[['10932', '张珊', 15000.0, 4000.0, 2300.0, 980.0, 300.0, 1000.0],\n",
       " ['10933', '李思', 12000.0, 5000.0, 2600.0, 890.0, 400.0, 2000.0],\n",
       " ['10934', '王武', 10100.0, 2000.0, 2500.0, 860.0, 500.0, 1500.0],\n",
       " ['10935', '赵柳', 10050.0, 1000.0, 2700.0, 1080.0, 300.0, 2000.0],\n",
       " ['10936', '钱棋', 10200.0, 2000.0, 2400.0, 1000.0, 600.0, 1000.0],\n",
       " ['10941', '张明', 13600.0, 4000.0, 2100.0, 680.0, 300.0, 1000.0],\n",
       " ['10942', '赵敏', 13200.0, 2500.0, 2300.0, 670.0, 400.0, 3000.0],\n",
       " ['10945', '王红', 13600.0, 2600.0, 2030.0, 560.0, 400.0, 2000.0],\n",
       " ['10946', '李萧', 12500.0, 2800.0, 2400.0, 420.0, 500.0, 1500.0],\n",
       " ['10947', '孙科', 12000.0, 3500.0, 2030.0, 880.0, 300.0, 1000.0],\n",
       " ['10948', '刘利', 14200.0, 2500.0, 2020.0, 900.0, 400.0, 2000.0]]"
      ]
     },
     "execution_count": 14,
     "metadata": {},
     "output_type": "execute_result"
    }
   ],
   "source": [
    "incomeList"
   ]
  },
  {
   "cell_type": "code",
   "execution_count": 15,
   "metadata": {},
   "outputs": [
    {
     "data": {
      "text/plain": [
       "[['10933', '李思', 12000.0, 5000.0, 2600.0, 890.0, 400.0, 2000.0],\n",
       " ['10934', '王武', 10100.0, 2000.0, 2500.0, 860.0, 500.0, 1500.0],\n",
       " ['10935', '赵柳', 10050.0, 1000.0, 2700.0, 1080.0, 300.0, 2000.0]]"
      ]
     },
     "execution_count": 15,
     "metadata": {},
     "output_type": "execute_result"
    }
   ],
   "source": [
    "incomeList[1:4]"
   ]
  },
  {
   "cell_type": "markdown",
   "metadata": {},
   "source": [
    "作为快捷方法，你可以省略切片中冒号两边的一个下标或两个下标。\n",
    "\n",
    "* 省略第一个下标相当于使用0，或列表的开始；\n",
    "* 省略第二个下标相当于使用列表的长度，意味着分片直至列表的末尾。"
   ]
  },
  {
   "cell_type": "code",
   "execution_count": 16,
   "metadata": {},
   "outputs": [
    {
     "data": {
      "text/plain": [
       "[['10933', '李思', 12000.0, 5000.0, 2600.0, 890.0, 400.0, 2000.0],\n",
       " ['10934', '王武', 10100.0, 2000.0, 2500.0, 860.0, 500.0, 1500.0],\n",
       " ['10935', '赵柳', 10050.0, 1000.0, 2700.0, 1080.0, 300.0, 2000.0],\n",
       " ['10936', '钱棋', 10200.0, 2000.0, 2400.0, 1000.0, 600.0, 1000.0],\n",
       " ['10941', '张明', 13600.0, 4000.0, 2100.0, 680.0, 300.0, 1000.0],\n",
       " ['10942', '赵敏', 13200.0, 2500.0, 2300.0, 670.0, 400.0, 3000.0],\n",
       " ['10945', '王红', 13600.0, 2600.0, 2030.0, 560.0, 400.0, 2000.0],\n",
       " ['10946', '李萧', 12500.0, 2800.0, 2400.0, 420.0, 500.0, 1500.0],\n",
       " ['10947', '孙科', 12000.0, 3500.0, 2030.0, 880.0, 300.0, 1000.0],\n",
       " ['10948', '刘利', 14200.0, 2500.0, 2020.0, 900.0, 400.0, 2000.0]]"
      ]
     },
     "execution_count": 16,
     "metadata": {},
     "output_type": "execute_result"
    }
   ],
   "source": [
    "incomeList[1:]"
   ]
  },
  {
   "cell_type": "code",
   "execution_count": 17,
   "metadata": {},
   "outputs": [
    {
     "data": {
      "text/plain": [
       "[['10932', '张珊', 15000.0, 4000.0, 2300.0, 980.0, 300.0, 1000.0],\n",
       " ['10933', '李思', 12000.0, 5000.0, 2600.0, 890.0, 400.0, 2000.0],\n",
       " ['10934', '王武', 10100.0, 2000.0, 2500.0, 860.0, 500.0, 1500.0],\n",
       " ['10935', '赵柳', 10050.0, 1000.0, 2700.0, 1080.0, 300.0, 2000.0],\n",
       " ['10936', '钱棋', 10200.0, 2000.0, 2400.0, 1000.0, 600.0, 1000.0],\n",
       " ['10941', '张明', 13600.0, 4000.0, 2100.0, 680.0, 300.0, 1000.0],\n",
       " ['10942', '赵敏', 13200.0, 2500.0, 2300.0, 670.0, 400.0, 3000.0],\n",
       " ['10945', '王红', 13600.0, 2600.0, 2030.0, 560.0, 400.0, 2000.0]]"
      ]
     },
     "execution_count": 17,
     "metadata": {},
     "output_type": "execute_result"
    }
   ],
   "source": [
    "incomeList[:-3]"
   ]
  },
  {
   "cell_type": "markdown",
   "metadata": {},
   "source": [
    "## 2.4 用len()取得列表的长度\n",
    "len()函数将返回传递给它的列表中值的个数，就像它能计算字符串中字符的个数一样。"
   ]
  },
  {
   "cell_type": "code",
   "execution_count": 18,
   "metadata": {},
   "outputs": [
    {
     "data": {
      "text/plain": [
       "11"
      ]
     },
     "execution_count": 18,
     "metadata": {},
     "output_type": "execute_result"
    }
   ],
   "source": [
    "len(incomeList)"
   ]
  },
  {
   "cell_type": "code",
   "execution_count": 19,
   "metadata": {},
   "outputs": [
    {
     "data": {
      "text/plain": [
       "8"
      ]
     },
     "execution_count": 19,
     "metadata": {},
     "output_type": "execute_result"
    }
   ],
   "source": [
    "len(incomeList[0])"
   ]
  },
  {
   "cell_type": "markdown",
   "metadata": {},
   "source": [
    "## 2.5 用下标和切片改变列表中的值\n",
    "一般情况下，赋值语句左边是一个变量名，就像price = 4.00。但是，也可以使用列表的下标来改变下标处的值。"
   ]
  },
  {
   "cell_type": "code",
   "execution_count": 20,
   "metadata": {},
   "outputs": [
    {
     "data": {
      "text/plain": [
       "['西南财经大学', '电子科技大学', '四川大学', '西南交通大学']"
      ]
     },
     "execution_count": 20,
     "metadata": {},
     "output_type": "execute_result"
    }
   ],
   "source": [
    "universityList"
   ]
  },
  {
   "cell_type": "code",
   "execution_count": 21,
   "metadata": {
    "collapsed": true
   },
   "outputs": [],
   "source": [
    "universityList[0] = '西南财大'"
   ]
  },
  {
   "cell_type": "code",
   "execution_count": 22,
   "metadata": {},
   "outputs": [
    {
     "data": {
      "text/plain": [
       "['西南财大', '电子科技大学', '四川大学', '西南交通大学']"
      ]
     },
     "execution_count": 22,
     "metadata": {},
     "output_type": "execute_result"
    }
   ],
   "source": [
    "universityList"
   ]
  },
  {
   "cell_type": "code",
   "execution_count": 23,
   "metadata": {},
   "outputs": [
    {
     "data": {
      "text/plain": [
       "[['10932', '张珊', 15000.0, 4000.0, 2300.0, 980.0, 300.0, 1000.0],\n",
       " ['10933', '李思', 12000.0, 5000.0, 2600.0, 890.0, 400.0, 2000.0],\n",
       " ['10934', '王武', 10100.0, 2000.0, 2500.0, 860.0, 500.0, 1500.0],\n",
       " ['10935', '赵柳', 10050.0, 1000.0, 2700.0, 1080.0, 300.0, 2000.0],\n",
       " ['10936', '钱棋', 10200.0, 2000.0, 2400.0, 1000.0, 600.0, 1000.0],\n",
       " ['10941', '张明', 13600.0, 4000.0, 2100.0, 680.0, 300.0, 1000.0],\n",
       " ['10942', '赵敏', 13200.0, 2500.0, 2300.0, 670.0, 400.0, 3000.0],\n",
       " ['10945', '王红', 13600.0, 2600.0, 2030.0, 560.0, 400.0, 2000.0],\n",
       " ['10946', '李萧', 12500.0, 2800.0, 2400.0, 420.0, 500.0, 1500.0],\n",
       " ['10947', '孙科', 12000.0, 3500.0, 2030.0, 880.0, 300.0, 1000.0],\n",
       " ['10948', '刘利', 14200.0, 2500.0, 2020.0, 900.0, 400.0, 2000.0]]"
      ]
     },
     "execution_count": 23,
     "metadata": {},
     "output_type": "execute_result"
    }
   ],
   "source": [
    "incomeList"
   ]
  },
  {
   "cell_type": "code",
   "execution_count": 24,
   "metadata": {
    "collapsed": true
   },
   "outputs": [],
   "source": [
    "incomeList[1][1] = '李思思'"
   ]
  },
  {
   "cell_type": "code",
   "execution_count": 25,
   "metadata": {
    "scrolled": true
   },
   "outputs": [
    {
     "data": {
      "text/plain": [
       "[['10932', '张珊', 15000.0, 4000.0, 2300.0, 980.0, 300.0, 1000.0],\n",
       " ['10933', '李思思', 12000.0, 5000.0, 2600.0, 890.0, 400.0, 2000.0],\n",
       " ['10934', '王武', 10100.0, 2000.0, 2500.0, 860.0, 500.0, 1500.0],\n",
       " ['10935', '赵柳', 10050.0, 1000.0, 2700.0, 1080.0, 300.0, 2000.0],\n",
       " ['10936', '钱棋', 10200.0, 2000.0, 2400.0, 1000.0, 600.0, 1000.0],\n",
       " ['10941', '张明', 13600.0, 4000.0, 2100.0, 680.0, 300.0, 1000.0],\n",
       " ['10942', '赵敏', 13200.0, 2500.0, 2300.0, 670.0, 400.0, 3000.0],\n",
       " ['10945', '王红', 13600.0, 2600.0, 2030.0, 560.0, 400.0, 2000.0],\n",
       " ['10946', '李萧', 12500.0, 2800.0, 2400.0, 420.0, 500.0, 1500.0],\n",
       " ['10947', '孙科', 12000.0, 3500.0, 2030.0, 880.0, 300.0, 1000.0],\n",
       " ['10948', '刘利', 14200.0, 2500.0, 2020.0, 900.0, 400.0, 2000.0]]"
      ]
     },
     "execution_count": 25,
     "metadata": {},
     "output_type": "execute_result"
    }
   ],
   "source": [
    "incomeList"
   ]
  },
  {
   "cell_type": "markdown",
   "metadata": {},
   "source": [
    "也可以使用切片同时改变多个值:"
   ]
  },
  {
   "cell_type": "code",
   "execution_count": 37,
   "metadata": {},
   "outputs": [
    {
     "data": {
      "text/plain": [
       "['西南财大', '四川大学', '西南交通大学']"
      ]
     },
     "execution_count": 37,
     "metadata": {},
     "output_type": "execute_result"
    }
   ],
   "source": [
    "universityList"
   ]
  },
  {
   "cell_type": "code",
   "execution_count": 39,
   "metadata": {},
   "outputs": [
    {
     "data": {
      "text/plain": [
       "['西南财大', '川大', '西南交大']"
      ]
     },
     "execution_count": 39,
     "metadata": {},
     "output_type": "execute_result"
    }
   ],
   "source": [
    "universityList[1:3] = ['川大','西南交大']\n",
    "universityList"
   ]
  },
  {
   "attachments": {},
   "cell_type": "markdown",
   "metadata": {},
   "source": [
    "当使用一个列表改变另一个列表值时，Python不要求两个列表长度一样，但遵循“多增少减”的原则，例子如下："
   ]
  },
  {
   "cell_type": "code",
   "execution_count": 40,
   "metadata": {},
   "outputs": [
    {
     "data": {
      "text/plain": [
       "['西南财大', '川大', '西南交大']"
      ]
     },
     "execution_count": 40,
     "metadata": {},
     "output_type": "execute_result"
    }
   ],
   "source": [
    "universityList"
   ]
  },
  {
   "cell_type": "code",
   "execution_count": 41,
   "metadata": {},
   "outputs": [
    {
     "data": {
      "text/plain": [
       "['西南财大', '四川大学', '西南交通大学', '电子科技大学', '成都理工大学']"
      ]
     },
     "execution_count": 41,
     "metadata": {},
     "output_type": "execute_result"
    }
   ],
   "source": [
    "universityList[1:3] = ['四川大学','西南交通大学','电子科技大学','成都理工大学']\n",
    "universityList"
   ]
  },
  {
   "cell_type": "code",
   "execution_count": 42,
   "metadata": {},
   "outputs": [
    {
     "data": {
      "text/plain": [
       "['四川大学', '西南交通大学', '电子科技大学', '成都理工大学']"
      ]
     },
     "execution_count": 42,
     "metadata": {},
     "output_type": "execute_result"
    }
   ],
   "source": [
    "universityList[1:5]"
   ]
  },
  {
   "cell_type": "code",
   "execution_count": 43,
   "metadata": {},
   "outputs": [
    {
     "data": {
      "text/plain": [
       "['西南财大', '四川大学', '西南交通大学']"
      ]
     },
     "execution_count": 43,
     "metadata": {},
     "output_type": "execute_result"
    }
   ],
   "source": [
    "universityList[1:5] = ['四川大学', '西南交通大学']\n",
    "universityList"
   ]
  },
  {
   "cell_type": "markdown",
   "metadata": {},
   "source": [
    "# 2.6 列表连接和列表复制\n",
    "**+**操作符可以连接两个列表，得到一个新列表，就像它将两个字符串合并成一个新字符串一样。\n",
    "\n",
    "**\\***操作符可以用于一个列表和一个整数，实现列表的复制。"
   ]
  },
  {
   "cell_type": "code",
   "execution_count": 26,
   "metadata": {},
   "outputs": [
    {
     "data": {
      "text/plain": [
       "[1, 2, 3, 'A', 'B', 'C']"
      ]
     },
     "execution_count": 26,
     "metadata": {},
     "output_type": "execute_result"
    }
   ],
   "source": [
    "[1, 2, 3] + ['A', 'B', 'C']"
   ]
  },
  {
   "cell_type": "code",
   "execution_count": 27,
   "metadata": {},
   "outputs": [
    {
     "data": {
      "text/plain": [
       "['X', 'Y', 'Z', 'X', 'Y', 'Z', 'X', 'Y', 'Z']"
      ]
     },
     "execution_count": 27,
     "metadata": {},
     "output_type": "execute_result"
    }
   ],
   "source": [
    "['X', 'Y', 'Z'] * 3"
   ]
  },
  {
   "cell_type": "code",
   "execution_count": 28,
   "metadata": {},
   "outputs": [
    {
     "data": {
      "text/plain": [
       "['A', 'B', 'C', 1, 2, 3]"
      ]
     },
     "execution_count": 28,
     "metadata": {},
     "output_type": "execute_result"
    }
   ],
   "source": [
    "ls =  ['A', 'B', 'C']\n",
    "ls += [1, 2, 3] \n",
    "ls"
   ]
  },
  {
   "cell_type": "markdown",
   "metadata": {},
   "source": [
    "## 2.7 用del 语句从列表中删除值\n",
    "del 语句将删除列表中下标处的值，表中被删除值后面的所有值，都将向前移动一个下标。"
   ]
  },
  {
   "cell_type": "code",
   "execution_count": 29,
   "metadata": {},
   "outputs": [
    {
     "data": {
      "text/plain": [
       "['西南财大', '电子科技大学', '四川大学', '西南交通大学']"
      ]
     },
     "execution_count": 29,
     "metadata": {},
     "output_type": "execute_result"
    }
   ],
   "source": [
    "universityList"
   ]
  },
  {
   "cell_type": "code",
   "execution_count": 30,
   "metadata": {
    "collapsed": true
   },
   "outputs": [],
   "source": [
    "del universityList[1]"
   ]
  },
  {
   "cell_type": "code",
   "execution_count": 31,
   "metadata": {},
   "outputs": [
    {
     "data": {
      "text/plain": [
       "['西南财大', '四川大学', '西南交通大学']"
      ]
     },
     "execution_count": 31,
     "metadata": {},
     "output_type": "execute_result"
    }
   ],
   "source": [
    "universityList"
   ]
  },
  {
   "cell_type": "markdown",
   "metadata": {},
   "source": [
    "## 2.8 用list()函数产生列表"
   ]
  },
  {
   "cell_type": "code",
   "execution_count": 32,
   "metadata": {},
   "outputs": [
    {
     "data": {
      "text/plain": [
       "[]"
      ]
     },
     "execution_count": 32,
     "metadata": {},
     "output_type": "execute_result"
    }
   ],
   "source": [
    "emptyList = list()\n",
    "emptyList"
   ]
  },
  {
   "cell_type": "code",
   "execution_count": 33,
   "metadata": {},
   "outputs": [
    {
     "data": {
      "text/plain": [
       "[]"
      ]
     },
     "execution_count": 33,
     "metadata": {},
     "output_type": "execute_result"
    }
   ],
   "source": [
    "emptyList = []\n",
    "emptyList "
   ]
  },
  {
   "cell_type": "code",
   "execution_count": 34,
   "metadata": {},
   "outputs": [
    {
     "data": {
      "text/plain": [
       "[0, 1, 2, 3, 4]"
      ]
     },
     "execution_count": 34,
     "metadata": {},
     "output_type": "execute_result"
    }
   ],
   "source": [
    "vList = list(range(5))\n",
    "vList"
   ]
  },
  {
   "cell_type": "code",
   "execution_count": 36,
   "metadata": {},
   "outputs": [
    {
     "data": {
      "text/plain": [
       "['s', 'w', 'u', 'f', 'e']"
      ]
     },
     "execution_count": 36,
     "metadata": {},
     "output_type": "execute_result"
    }
   ],
   "source": [
    "alphaList = list('swufe')\n",
    "alphaList"
   ]
  },
  {
   "cell_type": "markdown",
   "metadata": {},
   "source": [
    "## 2.9 列表用于循环\n",
    "一个常见的Python 技巧，是在for 循环中使用range(len(someList))，迭代列表的每一个下标。\n",
    "\n",
    "计算所有人的基本工资之和："
   ]
  },
  {
   "cell_type": "code",
   "execution_count": 103,
   "metadata": {
    "collapsed": true
   },
   "outputs": [],
   "source": [
    "# 编号,姓名,基本工资,奖金,住房补助,五险一金,其他扣款,专项附加扣除\n",
    "incomeList = [\n",
    "    ['10932','张珊',15000.00 ,4000.00 ,2300.00 ,980.00 ,300.00 ,1000.00],\n",
    "    ['10933','李思',12000.00 ,5000.00 ,2600.00 ,890.00 ,400.00 ,2000.00],\n",
    "    ['10934','王武',10100.00 ,2000.00 ,2500.00 ,860.00 ,500.00 ,1500.00],\n",
    "    ['10935','赵柳',10050.00 ,1000.00 ,2700.00 ,1080.00 ,300.00 ,2000.00],\n",
    "    ['10936','钱棋',10200.00 ,2000.00 ,2400.00 ,1000.00 ,600.00 ,1000.00],\n",
    "    ['10941','张明',13600.00 ,4000.00 ,2100.00 ,680.00 ,300.00 ,1000.00],\n",
    "    ['10942','赵敏',13200.00 ,2500.00 ,2300.00 ,670.00 ,400.00 ,3000.00],\n",
    "    ['10945','王红',13600.00 ,2600.00 ,2030.00 ,560.00 ,400.00 ,2000.00],\n",
    "    ['10946','李萧',12500.00 ,2800.00 ,2400.00 ,420.00 ,500.00 ,1500.00],\n",
    "    ['10947','孙科',12000.00 ,3500.00 ,2030.00 ,880.00 ,300.00 ,1000.00],\n",
    "    ['10948','刘利',14200.00 ,2500.00 ,2020.00 ,900.00 ,400.00 ,2000.00]\n",
    "]"
   ]
  },
  {
   "cell_type": "code",
   "execution_count": 45,
   "metadata": {},
   "outputs": [
    {
     "data": {
      "text/plain": [
       "[['10932', '张珊', 15000.0, 4000.0, 2300.0, 980.0, 300.0, 1000.0],\n",
       " ['10933', '李思', 12000.0, 5000.0, 2600.0, 890.0, 400.0, 2000.0],\n",
       " ['10934', '王武', 10100.0, 2000.0, 2500.0, 860.0, 500.0, 1500.0],\n",
       " ['10935', '赵柳', 10050.0, 1000.0, 2700.0, 1080.0, 300.0, 2000.0],\n",
       " ['10936', '钱棋', 10200.0, 2000.0, 2400.0, 1000.0, 600.0, 1000.0],\n",
       " ['10941', '张明', 13600.0, 4000.0, 2100.0, 680.0, 300.0, 1000.0],\n",
       " ['10942', '赵敏', 13200.0, 2500.0, 2300.0, 670.0, 400.0, 3000.0],\n",
       " ['10945', '王红', 13600.0, 2600.0, 2030.0, 560.0, 400.0, 2000.0],\n",
       " ['10946', '李萧', 12500.0, 2800.0, 2400.0, 420.0, 500.0, 1500.0],\n",
       " ['10947', '孙科', 12000.0, 3500.0, 2030.0, 880.0, 300.0, 1000.0],\n",
       " ['10948', '刘利', 14200.0, 2500.0, 2020.0, 900.0, 400.0, 2000.0]]"
      ]
     },
     "execution_count": 45,
     "metadata": {},
     "output_type": "execute_result"
    }
   ],
   "source": [
    "incomeList"
   ]
  },
  {
   "cell_type": "code",
   "execution_count": 46,
   "metadata": {},
   "outputs": [
    {
     "name": "stdout",
     "output_type": "stream",
     "text": [
      "所有人的基本工资和为： 136450.0\n"
     ]
    }
   ],
   "source": [
    "totalSalary = 0\n",
    "for i in range(len(incomeList)):\n",
    "    totalSalary = totalSalary + incomeList[i][2]\n",
    "print('所有人的基本工资和为：', totalSalary)"
   ]
  },
  {
   "cell_type": "markdown",
   "metadata": {},
   "source": []
  },
  {
   "attachments": {},
   "cell_type": "markdown",
   "metadata": {},
   "source": [
    "列表可以通过for…in语句对其元素进行遍历，基本语法结构如下：\n",
    "```Python\n",
    "for <任意变量名> in <列表名>:\n",
    "             语句块\n",
    "```"
   ]
  },
  {
   "cell_type": "code",
   "execution_count": 49,
   "metadata": {},
   "outputs": [
    {
     "data": {
      "text/plain": [
       "['西南财大', '四川大学', '西南交通大学']"
      ]
     },
     "execution_count": 49,
     "metadata": {},
     "output_type": "execute_result"
    }
   ],
   "source": [
    "universityList"
   ]
  },
  {
   "cell_type": "code",
   "execution_count": 48,
   "metadata": {},
   "outputs": [
    {
     "name": "stdout",
     "output_type": "stream",
     "text": [
      "西南财大\n",
      "四川大学\n",
      "西南交通大学\n"
     ]
    }
   ],
   "source": [
    "for name in universityList:\n",
    "    print(name)"
   ]
  },
  {
   "cell_type": "markdown",
   "metadata": {},
   "source": [
    "**课堂练习**\n",
    "\n",
    "利用for...in语句计算基本工资在12000元以上的所有人奖金的平均值？"
   ]
  },
  {
   "cell_type": "markdown",
   "metadata": {},
   "source": [
    "## 2.10 in 和not in 操作符\n",
    "利用in 和not in 操作符，可以确定一个值否在列表中。像其他操作符一样，in和not in 用在表达式中，连接两个值：一个要在列表中查找的值，以及待查找\n",
    "的列表。这些表达式将求值为布尔值。"
   ]
  },
  {
   "cell_type": "code",
   "execution_count": 50,
   "metadata": {},
   "outputs": [
    {
     "data": {
      "text/plain": [
       "True"
      ]
     },
     "execution_count": 50,
     "metadata": {},
     "output_type": "execute_result"
    }
   ],
   "source": [
    "'西南财大' in universityList"
   ]
  },
  {
   "cell_type": "code",
   "execution_count": 51,
   "metadata": {},
   "outputs": [
    {
     "data": {
      "text/plain": [
       "False"
      ]
     },
     "execution_count": 51,
     "metadata": {},
     "output_type": "execute_result"
    }
   ],
   "source": [
    "'西南财大' not in universityList"
   ]
  },
  {
   "cell_type": "code",
   "execution_count": 52,
   "metadata": {},
   "outputs": [
    {
     "data": {
      "text/plain": [
       "False"
      ]
     },
     "execution_count": 52,
     "metadata": {},
     "output_type": "execute_result"
    }
   ],
   "source": [
    "'西南' in universityList"
   ]
  },
  {
   "cell_type": "code",
   "execution_count": 53,
   "metadata": {},
   "outputs": [
    {
     "data": {
      "text/plain": [
       "True"
      ]
     },
     "execution_count": 53,
     "metadata": {},
     "output_type": "execute_result"
    }
   ],
   "source": [
    "'西南' in universityList[0]"
   ]
  },
  {
   "cell_type": "markdown",
   "metadata": {},
   "source": [
    "## 2.11 多重赋值技巧\n",
    "多重赋值技巧是一种快捷方式，让你在一行代码中，用列表中的值为多个变量赋值。(这种方式常见于元组类型)"
   ]
  },
  {
   "cell_type": "code",
   "execution_count": 56,
   "metadata": {},
   "outputs": [
    {
     "data": {
      "text/plain": [
       "['10932', '张珊', 15000.0]"
      ]
     },
     "execution_count": 56,
     "metadata": {},
     "output_type": "execute_result"
    }
   ],
   "source": [
    "employeeBasicInfo = incomeList[0][:3]\n",
    "employeeBasicInfo"
   ]
  },
  {
   "cell_type": "code",
   "execution_count": 57,
   "metadata": {},
   "outputs": [
    {
     "data": {
      "text/plain": [
       "list"
      ]
     },
     "execution_count": 57,
     "metadata": {},
     "output_type": "execute_result"
    }
   ],
   "source": [
    "type(employeeBasicInfo)"
   ]
  },
  {
   "cell_type": "code",
   "execution_count": 59,
   "metadata": {
    "collapsed": true
   },
   "outputs": [],
   "source": [
    "employeeNo, name, salary = employeeBasicInfo"
   ]
  },
  {
   "cell_type": "code",
   "execution_count": 61,
   "metadata": {},
   "outputs": [
    {
     "name": "stdout",
     "output_type": "stream",
     "text": [
      "编号为10932的员工张珊基本工资为：15000.00\n"
     ]
    }
   ],
   "source": [
    "print('编号为{}的员工{}基本工资为：{:.2f}'.format(employeeNo, name, salary))"
   ]
  },
  {
   "cell_type": "markdown",
   "metadata": {},
   "source": [
    "## 2.12 用index()方法在列表中查找值\n",
    "列表值有一个index()方法，可以传入一个值，如果该值存在于列表中，就返回它的下标。如果该值不在列表中，Python 就报ValueError。"
   ]
  },
  {
   "cell_type": "code",
   "execution_count": 62,
   "metadata": {},
   "outputs": [
    {
     "data": {
      "text/plain": [
       "['西南财大', '四川大学', '西南交通大学']"
      ]
     },
     "execution_count": 62,
     "metadata": {},
     "output_type": "execute_result"
    }
   ],
   "source": [
    "universityList"
   ]
  },
  {
   "cell_type": "code",
   "execution_count": 63,
   "metadata": {},
   "outputs": [
    {
     "data": {
      "text/plain": [
       "1"
      ]
     },
     "execution_count": 63,
     "metadata": {},
     "output_type": "execute_result"
    }
   ],
   "source": [
    "universityList.index('四川大学')"
   ]
  },
  {
   "cell_type": "code",
   "execution_count": 64,
   "metadata": {},
   "outputs": [
    {
     "ename": "ValueError",
     "evalue": "'西南财经大学' is not in list",
     "output_type": "error",
     "traceback": [
      "\u001b[1;31m---------------------------------------------------------------------------\u001b[0m",
      "\u001b[1;31mValueError\u001b[0m                                Traceback (most recent call last)",
      "\u001b[1;32m<ipython-input-64-161a76230064>\u001b[0m in \u001b[0;36m<module>\u001b[1;34m()\u001b[0m\n\u001b[1;32m----> 1\u001b[1;33m \u001b[0muniversityList\u001b[0m\u001b[1;33m.\u001b[0m\u001b[0mindex\u001b[0m\u001b[1;33m(\u001b[0m\u001b[1;34m'西南财经大学'\u001b[0m\u001b[1;33m)\u001b[0m\u001b[1;33m\u001b[0m\u001b[0m\n\u001b[0m",
      "\u001b[1;31mValueError\u001b[0m: '西南财经大学' is not in list"
     ]
    }
   ],
   "source": [
    "universityList.index('西南财经大学')"
   ]
  },
  {
   "cell_type": "markdown",
   "metadata": {},
   "source": [
    "如果列表中存在重复的值，就返回它第一次出现的下标。"
   ]
  },
  {
   "cell_type": "code",
   "execution_count": 66,
   "metadata": {},
   "outputs": [
    {
     "data": {
      "text/plain": [
       "['西南财大', '四川大学', '西南交通大学', '西南财大', '四川大学', '西南交通大学']"
      ]
     },
     "execution_count": 66,
     "metadata": {},
     "output_type": "execute_result"
    }
   ],
   "source": [
    "universityList *= 2\n",
    "universityList"
   ]
  },
  {
   "cell_type": "code",
   "execution_count": 67,
   "metadata": {},
   "outputs": [
    {
     "data": {
      "text/plain": [
       "2"
      ]
     },
     "execution_count": 67,
     "metadata": {},
     "output_type": "execute_result"
    }
   ],
   "source": [
    "universityList.index('西南交通大学')"
   ]
  },
  {
   "cell_type": "markdown",
   "metadata": {},
   "source": [
    "# 2.13 用append()和insert()方法在列表中添加值\n",
    "要在列表中添加新值，就使用append()和 insert()方法。"
   ]
  },
  {
   "cell_type": "code",
   "execution_count": 68,
   "metadata": {},
   "outputs": [
    {
     "data": {
      "text/plain": [
       "['西南财大', '电子科技大学', '四川大学', '西南交通大学']"
      ]
     },
     "execution_count": 68,
     "metadata": {},
     "output_type": "execute_result"
    }
   ],
   "source": [
    "universityList = ['西南财大', '电子科技大学', '四川大学', '西南交通大学']\n",
    "universityList"
   ]
  },
  {
   "cell_type": "code",
   "execution_count": 69,
   "metadata": {
    "collapsed": true
   },
   "outputs": [],
   "source": [
    "universityList.append('成都理工大学')"
   ]
  },
  {
   "cell_type": "code",
   "execution_count": 70,
   "metadata": {},
   "outputs": [
    {
     "data": {
      "text/plain": [
       "['西南财大', '电子科技大学', '四川大学', '西南交通大学', '成都理工大学']"
      ]
     },
     "execution_count": 70,
     "metadata": {},
     "output_type": "execute_result"
    }
   ],
   "source": [
    "universityList"
   ]
  },
  {
   "cell_type": "code",
   "execution_count": 71,
   "metadata": {
    "collapsed": true
   },
   "outputs": [],
   "source": [
    "universityList.insert(1, '四川农业大学')"
   ]
  },
  {
   "cell_type": "code",
   "execution_count": 72,
   "metadata": {},
   "outputs": [
    {
     "data": {
      "text/plain": [
       "['西南财大', '四川农业大学', '电子科技大学', '四川大学', '西南交通大学', '成都理工大学']"
      ]
     },
     "execution_count": 72,
     "metadata": {},
     "output_type": "execute_result"
    }
   ],
   "source": [
    "universityList"
   ]
  },
  {
   "cell_type": "markdown",
   "metadata": {},
   "source": [
    "append()和insert()都不会将universityList的新值作为其返回值（实际上，append()和insert()的返回值是None，所以你肯定不希望将它保存为变量的新值）。但是，***列表被“当场”修改了***。"
   ]
  },
  {
   "cell_type": "markdown",
   "metadata": {},
   "source": [
    "** 课堂练习 **\n",
    "\n",
    "筛选出基本工资+奖金+住房补助在18000.00元以上的员工，插入到新的数组highIncomeList当中"
   ]
  },
  {
   "cell_type": "code",
   "execution_count": 73,
   "metadata": {
    "collapsed": true
   },
   "outputs": [],
   "source": [
    "# 编号,姓名,基本工资,奖金,住房补助,五险一金,其他扣款,专项附加扣除\n",
    "incomeList = [\n",
    "    ['10932','张珊',15000.00 ,4000.00 ,2300.00 ,980.00 ,300.00 ,1000.00],\n",
    "    ['10933','李思',12000.00 ,5000.00 ,2600.00 ,890.00 ,400.00 ,2000.00],\n",
    "    ['10934','王武',10100.00 ,2000.00 ,2500.00 ,860.00 ,500.00 ,1500.00],\n",
    "    ['10935','赵柳',10050.00 ,1000.00 ,2700.00 ,1080.00 ,300.00 ,2000.00],\n",
    "    ['10936','钱棋',10200.00 ,2000.00 ,2400.00 ,1000.00 ,600.00 ,1000.00],\n",
    "    ['10941','张明',13600.00 ,4000.00 ,2100.00 ,680.00 ,300.00 ,1000.00],\n",
    "    ['10942','赵敏',13200.00 ,2500.00 ,2300.00 ,670.00 ,400.00 ,3000.00],\n",
    "    ['10945','王红',13600.00 ,2600.00 ,2030.00 ,560.00 ,400.00 ,2000.00],\n",
    "    ['10946','李萧',12500.00 ,2800.00 ,2400.00 ,420.00 ,500.00 ,1500.00],\n",
    "    ['10947','孙科',12000.00 ,3500.00 ,2030.00 ,880.00 ,300.00 ,1000.00],\n",
    "    ['10948','刘利',14200.00 ,2500.00 ,2020.00 ,900.00 ,400.00 ,2000.00]\n",
    "]"
   ]
  },
  {
   "cell_type": "markdown",
   "metadata": {},
   "source": [
    "## 2.14 使用extend()或+=合并列表\n",
    "使用extend() 可以将一个列表合并到另一个列表中。"
   ]
  },
  {
   "cell_type": "code",
   "execution_count": 94,
   "metadata": {},
   "outputs": [
    {
     "data": {
      "text/plain": [
       "['西南财大', '电子科技大学', '四川大学', '西南交通大学']"
      ]
     },
     "execution_count": 94,
     "metadata": {},
     "output_type": "execute_result"
    }
   ],
   "source": [
    "universityList = ['西南财大', '电子科技大学', '四川大学', '西南交通大学']\n",
    "universityList"
   ]
  },
  {
   "cell_type": "code",
   "execution_count": 95,
   "metadata": {},
   "outputs": [
    {
     "data": {
      "text/plain": [
       "['西南财大', '电子科技大学', '四川大学', '西南交通大学', '清华大学', '北京大学']"
      ]
     },
     "execution_count": 95,
     "metadata": {},
     "output_type": "execute_result"
    }
   ],
   "source": [
    "universityList.extend(['清华大学','北京大学'])\n",
    "universityList"
   ]
  },
  {
   "cell_type": "markdown",
   "metadata": {},
   "source": [
    "也可以使用+=："
   ]
  },
  {
   "cell_type": "code",
   "execution_count": 96,
   "metadata": {},
   "outputs": [
    {
     "data": {
      "text/plain": [
       "['西南财大', '电子科技大学', '四川大学', '西南交通大学']"
      ]
     },
     "execution_count": 96,
     "metadata": {},
     "output_type": "execute_result"
    }
   ],
   "source": [
    "universityList = ['西南财大', '电子科技大学', '四川大学', '西南交通大学']\n",
    "universityList"
   ]
  },
  {
   "cell_type": "code",
   "execution_count": 97,
   "metadata": {},
   "outputs": [
    {
     "data": {
      "text/plain": [
       "['西南财大', '电子科技大学', '四川大学', '西南交通大学', '清华大学', '北京大学']"
      ]
     },
     "execution_count": 97,
     "metadata": {},
     "output_type": "execute_result"
    }
   ],
   "source": [
    "universityList += ['清华大学','北京大学']\n",
    "universityList"
   ]
  },
  {
   "cell_type": "markdown",
   "metadata": {},
   "source": [
    "注意区分append()和extend()方法："
   ]
  },
  {
   "cell_type": "code",
   "execution_count": 98,
   "metadata": {},
   "outputs": [
    {
     "data": {
      "text/plain": [
       "['西南财大', '电子科技大学', '四川大学', '西南交通大学', ['清华大学', '北京大学']]"
      ]
     },
     "execution_count": 98,
     "metadata": {},
     "output_type": "execute_result"
    }
   ],
   "source": [
    "universityList = ['西南财大', '电子科技大学', '四川大学', '西南交通大学']\n",
    "universityList.append(['清华大学','北京大学'])\n",
    "universityList"
   ]
  },
  {
   "cell_type": "code",
   "execution_count": 99,
   "metadata": {},
   "outputs": [
    {
     "data": {
      "text/plain": [
       "['西南财大', '电子科技大学', '四川大学', '西南交通大学', '清华大学', '北京大学']"
      ]
     },
     "execution_count": 99,
     "metadata": {},
     "output_type": "execute_result"
    }
   ],
   "source": [
    "universityList = ['西南财大', '电子科技大学', '四川大学', '西南交通大学']\n",
    "universityList.extend(['清华大学','北京大学'])\n",
    "universityList"
   ]
  },
  {
   "cell_type": "markdown",
   "metadata": {},
   "source": [
    "## 2.15 用remove()方法从列表中删除值\n",
    "给 remove()方法传入一个值，它将从被调用的列表中删除。"
   ]
  },
  {
   "cell_type": "code",
   "execution_count": 74,
   "metadata": {},
   "outputs": [
    {
     "data": {
      "text/plain": [
       "['西南财大', '四川农业大学', '电子科技大学', '四川大学', '西南交通大学', '成都理工大学']"
      ]
     },
     "execution_count": 74,
     "metadata": {},
     "output_type": "execute_result"
    }
   ],
   "source": [
    "universityList"
   ]
  },
  {
   "cell_type": "code",
   "execution_count": 75,
   "metadata": {},
   "outputs": [
    {
     "data": {
      "text/plain": [
       "['西南财大', '四川农业大学', '电子科技大学', '西南交通大学', '成都理工大学']"
      ]
     },
     "execution_count": 75,
     "metadata": {},
     "output_type": "execute_result"
    }
   ],
   "source": [
    "universityList.remove('四川大学')\n",
    "universityList"
   ]
  },
  {
   "cell_type": "markdown",
   "metadata": {},
   "source": [
    "试图删除列表中不存在的值，将导致ValueError 错误。"
   ]
  },
  {
   "cell_type": "code",
   "execution_count": 76,
   "metadata": {},
   "outputs": [
    {
     "ename": "ValueError",
     "evalue": "list.remove(x): x not in list",
     "output_type": "error",
     "traceback": [
      "\u001b[1;31m---------------------------------------------------------------------------\u001b[0m",
      "\u001b[1;31mValueError\u001b[0m                                Traceback (most recent call last)",
      "\u001b[1;32m<ipython-input-76-510e7c9c7c0a>\u001b[0m in \u001b[0;36m<module>\u001b[1;34m()\u001b[0m\n\u001b[1;32m----> 1\u001b[1;33m \u001b[0muniversityList\u001b[0m\u001b[1;33m.\u001b[0m\u001b[0mremove\u001b[0m\u001b[1;33m(\u001b[0m\u001b[1;34m'清华大学'\u001b[0m\u001b[1;33m)\u001b[0m\u001b[1;33m\u001b[0m\u001b[0m\n\u001b[0m",
      "\u001b[1;31mValueError\u001b[0m: list.remove(x): x not in list"
     ]
    }
   ],
   "source": [
    "universityList.remove('清华大学')"
   ]
  },
  {
   "cell_type": "markdown",
   "metadata": {},
   "source": [
    "如果该值在列表中出现多次，只有第一次出现的值会被删除。"
   ]
  },
  {
   "cell_type": "code",
   "execution_count": 77,
   "metadata": {},
   "outputs": [
    {
     "data": {
      "text/plain": [
       "['西南财大',\n",
       " '四川农业大学',\n",
       " '电子科技大学',\n",
       " '西南交通大学',\n",
       " '成都理工大学',\n",
       " '西南财大',\n",
       " '四川农业大学',\n",
       " '电子科技大学',\n",
       " '西南交通大学',\n",
       " '成都理工大学']"
      ]
     },
     "execution_count": 77,
     "metadata": {},
     "output_type": "execute_result"
    }
   ],
   "source": [
    "universityList *= 2\n",
    "universityList"
   ]
  },
  {
   "cell_type": "code",
   "execution_count": 78,
   "metadata": {},
   "outputs": [
    {
     "data": {
      "text/plain": [
       "['西南财大',\n",
       " '四川农业大学',\n",
       " '西南交通大学',\n",
       " '成都理工大学',\n",
       " '西南财大',\n",
       " '四川农业大学',\n",
       " '电子科技大学',\n",
       " '西南交通大学',\n",
       " '成都理工大学']"
      ]
     },
     "execution_count": 78,
     "metadata": {},
     "output_type": "execute_result"
    }
   ],
   "source": [
    "universityList.remove('电子科技大学')\n",
    "universityList"
   ]
  },
  {
   "cell_type": "markdown",
   "metadata": {},
   "source": [
    "* 如果知道想要删除的值在列表中的下标，del 语句就很好用。\n",
    "* 如果知道想要从列表中删除的值，remove()方法就很好用。"
   ]
  },
  {
   "cell_type": "markdown",
   "metadata": {},
   "source": [
    "## 2.16 用sort()方法将列表中的值排序\n",
    "数值的列表或字符串的列表，能用sort()方法排序。sort()方法**当场**对列表排序"
   ]
  },
  {
   "cell_type": "code",
   "execution_count": 79,
   "metadata": {},
   "outputs": [
    {
     "data": {
      "text/plain": [
       "[2, 10, 3.14, -20, -50]"
      ]
     },
     "execution_count": 79,
     "metadata": {},
     "output_type": "execute_result"
    }
   ],
   "source": [
    "numberList = [2, 10, 3.14, -20, -50]\n",
    "numberList"
   ]
  },
  {
   "cell_type": "code",
   "execution_count": 80,
   "metadata": {
    "collapsed": true
   },
   "outputs": [],
   "source": [
    "numberList.sort()"
   ]
  },
  {
   "cell_type": "code",
   "execution_count": 81,
   "metadata": {},
   "outputs": [
    {
     "data": {
      "text/plain": [
       "[-50, -20, 2, 3.14, 10]"
      ]
     },
     "execution_count": 81,
     "metadata": {},
     "output_type": "execute_result"
    }
   ],
   "source": [
    "numberList"
   ]
  },
  {
   "cell_type": "markdown",
   "metadata": {},
   "source": [
    "也可以指定**reverse**关键字参数为True，让sort()按逆序排序。"
   ]
  },
  {
   "cell_type": "code",
   "execution_count": 82,
   "metadata": {
    "collapsed": true
   },
   "outputs": [],
   "source": [
    "numberList.sort(reverse=True)"
   ]
  },
  {
   "cell_type": "code",
   "execution_count": 83,
   "metadata": {},
   "outputs": [
    {
     "data": {
      "text/plain": [
       "[10, 3.14, 2, -20, -50]"
      ]
     },
     "execution_count": 83,
     "metadata": {},
     "output_type": "execute_result"
    }
   ],
   "source": [
    "numberList"
   ]
  },
  {
   "cell_type": "markdown",
   "metadata": {},
   "source": [
    "不能对既有数字又有字符串值的列表排序，因为Python 不知道如何比较它们。"
   ]
  },
  {
   "cell_type": "code",
   "execution_count": 84,
   "metadata": {},
   "outputs": [
    {
     "data": {
      "text/plain": [
       "[10,\n",
       " 3.14,\n",
       " 2,\n",
       " -20,\n",
       " -50,\n",
       " '西南财大',\n",
       " '四川农业大学',\n",
       " '西南交通大学',\n",
       " '成都理工大学',\n",
       " '西南财大',\n",
       " '四川农业大学',\n",
       " '电子科技大学',\n",
       " '西南交通大学',\n",
       " '成都理工大学']"
      ]
     },
     "execution_count": 84,
     "metadata": {},
     "output_type": "execute_result"
    }
   ],
   "source": [
    "moreList = numberList + universityList\n",
    "moreList"
   ]
  },
  {
   "cell_type": "code",
   "execution_count": 85,
   "metadata": {},
   "outputs": [
    {
     "ename": "TypeError",
     "evalue": "'<' not supported between instances of 'str' and 'int'",
     "output_type": "error",
     "traceback": [
      "\u001b[1;31m---------------------------------------------------------------------------\u001b[0m",
      "\u001b[1;31mTypeError\u001b[0m                                 Traceback (most recent call last)",
      "\u001b[1;32m<ipython-input-85-75c45a0e6908>\u001b[0m in \u001b[0;36m<module>\u001b[1;34m()\u001b[0m\n\u001b[1;32m----> 1\u001b[1;33m \u001b[0mmoreList\u001b[0m\u001b[1;33m.\u001b[0m\u001b[0msort\u001b[0m\u001b[1;33m(\u001b[0m\u001b[1;33m)\u001b[0m\u001b[1;33m\u001b[0m\u001b[0m\n\u001b[0m",
      "\u001b[1;31mTypeError\u001b[0m: '<' not supported between instances of 'str' and 'int'"
     ]
    }
   ],
   "source": [
    "moreList.sort()"
   ]
  },
  {
   "cell_type": "markdown",
   "metadata": {},
   "source": [
    "sort()方法对字符串排序时，使用“ASCII 字符顺序”，而不是实际的字典顺序。这意味着大写字母排在小写字母之前。因此在排序时，小写的a 在大写的\n",
    "Z 之后:"
   ]
  },
  {
   "cell_type": "code",
   "execution_count": 87,
   "metadata": {},
   "outputs": [
    {
     "data": {
      "text/plain": [
       "['Alice', 'ants', 'Bob', 'badgers', 'Carol', 'cats']"
      ]
     },
     "execution_count": 87,
     "metadata": {},
     "output_type": "execute_result"
    }
   ],
   "source": [
    "someWords = ['Alice', 'ants', 'Bob', 'badgers', 'Carol', 'cats']\n",
    "someWords"
   ]
  },
  {
   "cell_type": "code",
   "execution_count": 88,
   "metadata": {
    "collapsed": true
   },
   "outputs": [],
   "source": [
    "someWords.sort()"
   ]
  },
  {
   "cell_type": "code",
   "execution_count": 89,
   "metadata": {},
   "outputs": [
    {
     "data": {
      "text/plain": [
       "['Alice', 'Bob', 'Carol', 'ants', 'badgers', 'cats']"
      ]
     },
     "execution_count": 89,
     "metadata": {},
     "output_type": "execute_result"
    }
   ],
   "source": [
    "someWords"
   ]
  },
  {
   "cell_type": "markdown",
   "metadata": {},
   "source": [
    "***扩展***\n",
    "sort()方法有一个key的关键字参数，可以指定排序方法，例如："
   ]
  },
  {
   "cell_type": "code",
   "execution_count": 90,
   "metadata": {},
   "outputs": [
    {
     "data": {
      "text/plain": [
       "['Alice', 'ants', 'Bob', 'badgers', 'Carol', 'cats']"
      ]
     },
     "execution_count": 90,
     "metadata": {},
     "output_type": "execute_result"
    }
   ],
   "source": [
    "someWords = ['Alice', 'ants', 'Bob', 'badgers', 'Carol', 'cats']\n",
    "someWords"
   ]
  },
  {
   "cell_type": "code",
   "execution_count": 91,
   "metadata": {},
   "outputs": [
    {
     "data": {
      "text/plain": [
       "['Bob', 'ants', 'cats', 'Alice', 'Carol', 'badgers']"
      ]
     },
     "execution_count": 91,
     "metadata": {},
     "output_type": "execute_result"
    }
   ],
   "source": [
    "someWords.sort(key=len)\n",
    "someWords #按照每一项的长度进行排序"
   ]
  },
  {
   "cell_type": "code",
   "execution_count": 93,
   "metadata": {},
   "outputs": [
    {
     "data": {
      "text/plain": [
       "['cats', 'Carol', 'badgers', 'Alice', 'ants', 'Bob']"
      ]
     },
     "execution_count": 93,
     "metadata": {},
     "output_type": "execute_result"
    }
   ],
   "source": [
    "someWords.sort(key=lambda x: x[1])\n",
    "someWords #按照每一项的第二个字符进行排序"
   ]
  },
  {
   "cell_type": "markdown",
   "metadata": {},
   "source": [
    "## 2.17 使用count()记录特定值出现的次数\n",
    "使用count() 可以记录某一个特定值在列表中出现的次数："
   ]
  },
  {
   "cell_type": "code",
   "execution_count": 100,
   "metadata": {},
   "outputs": [
    {
     "data": {
      "text/plain": [
       "['西南财大', '电子科技大学', '四川大学', '西南交通大学', '西南财大', '电子科技大学', '四川大学', '西南交通大学']"
      ]
     },
     "execution_count": 100,
     "metadata": {},
     "output_type": "execute_result"
    }
   ],
   "source": [
    "universityList = ['西南财大', '电子科技大学', '四川大学', '西南交通大学'] * 2\n",
    "universityList"
   ]
  },
  {
   "cell_type": "code",
   "execution_count": 102,
   "metadata": {},
   "outputs": [
    {
     "data": {
      "text/plain": [
       "2"
      ]
     },
     "execution_count": 102,
     "metadata": {},
     "output_type": "execute_result"
    }
   ],
   "source": [
    "universityList.count( '电子科技大学')"
   ]
  },
  {
   "attachments": {},
   "cell_type": "markdown",
   "metadata": {},
   "source": [
    "## 2.18 基本统计值计算\n",
    "以最简单的统计问题为例，求解一组不定长数据的基本统计值，即平均值、标准差、中位数。\n",
    " \n",
    "一组数据表示为$S = s_{0}, s_{1}, …, s_{n-1}$，其算术平均值表示为：\n",
    "\n",
    "$m = (\\sum_{i=0}^{n-1}s_{i})/n$\n",
    "\n",
    "标准差表示为：\n",
    "\n",
    "$d = \\sqrt{(\\sum_{i=0}^{n-1}(s_{i}-m)^2)/(n-1)}$\n",
    "\n",
    "由于平均数、标准差和中位数是三个不同的计算目标，使用函数方式编写计算程序。<br>\n",
    "* getNum()函数从用户输入获得数据<br>\n",
    "* mean()函数计算平均值<br>\n",
    "* dev()函数计算标准差<br>\n",
    "* median()函数计算中位数<br>\n"
   ]
  },
  {
   "cell_type": "code",
   "execution_count": 184,
   "metadata": {},
   "outputs": [
    {
     "name": "stdout",
     "output_type": "stream",
     "text": [
      "请输入数字(直接输入回车退出): 99\n",
      "请输入数字(直接输入回车退出): 98\n",
      "请输入数字(直接输入回车退出): 97\n",
      "请输入数字(直接输入回车退出): 96\n",
      "请输入数字(直接输入回车退出): 95\n",
      "请输入数字(直接输入回车退出): \n",
      "平均值:97.0,方差:1.6,中位数:97.\n"
     ]
    }
   ],
   "source": [
    "from math import sqrt\n",
    "def getNum():       #获取用户输入\n",
    "    nums = []\n",
    "    iNumStr = input(\"请输入数字(直接输入回车退出): \")\n",
    "    while iNumStr != \"\":\n",
    "        nums.append(eval(iNumStr))\n",
    "        iNumStr = input(\"请输入数字(直接输入回车退出): \")\n",
    "    return nums\n",
    "\n",
    "def mean(numbers):  #计算平均值\n",
    "    s = 0.0\n",
    "    for num in numbers:\n",
    "        s = s + num\n",
    "    return s / len(numbers)\n",
    "\n",
    "def dev(numbers, mean): #计算方差\n",
    "    sdev = 0.0\n",
    "    for num in numbers:\n",
    "        sdev = sdev + (num - mean)**2\n",
    "    return sqrt(sdev / (len(numbers)-1))\n",
    "\n",
    "def median(numbers):    #计算中位数\n",
    "    sorted(numbers)\n",
    "    size = len(numbers)\n",
    "    if size % 2 == 0:\n",
    "        med = (numbers[size//2-1] + numbers[size//2])/2\n",
    "    else:\n",
    "        med = numbers[size//2]\n",
    "    return med\n",
    "\n",
    "n =  getNum()  #主体函数\n",
    "m =  mean(n)\n",
    "print(\"平均值:{},方差:{:.2},中位数:{}.\".format(m,dev(n,m),median(n)))\n"
   ]
  },
  {
   "cell_type": "markdown",
   "metadata": {},
   "source": [
    "# 列表综合实例：个人所得税计算\n",
    "\n",
    "计算所有员工1月份的应交所得税和实发工资，并按照工资升序打印出工资详情（包括应交所得税和实发工资）：<br>\n",
    "\n",
    "2019年个人所得税税率参照表：\n",
    "\n",
    "|级数|全年应纳税所得额|税率|速算扣除数|\n",
    "|--|:--------|--|-----|\n",
    "|1|不超过36000元的部分|3%|0|\n",
    "|2|超过36000至144000元的部分|10%|2520|\n",
    "|3|超过144000至300000元的部分|20%|16920|\n",
    "|4|超过300000至420000元的部分|25%|31920|\n",
    "|5|超过420000至660000元的部分|30%|52920|\n",
    "|6|超过660000至960000元的部分|35%|85920|\n",
    "|7|超过960000的部分|45%|181920|\n",
    "\n",
    "累计预扣预缴应纳税所得额计算方法：\n",
    "**<center>累计预扣预缴应纳税所得额=累计正常收入 - 累计5000元免征额 - 累计五险一金 - 累计专项附加扣除 - 累计其他扣除</center>**\n",
    "个人所得税计算方法：\n",
    "**<center>个人所得税=应纳税所得额 * 对应税率 - 速算扣除数 - 已预缴预扣税额</center>**\n",
    "\n",
    "打印结果应如下图所示：<br>\n",
    "<img src='Images/taxCase1.png' width=80%>"
   ]
  },
  {
   "cell_type": "code",
   "execution_count": 162,
   "metadata": {},
   "outputs": [],
   "source": [
    "# 2019年开始，个人所得税将采取累计预扣法计算，方法比较复杂。为简化操作，该函数仅计算1月份的工资情况，即不存在累计问题。\n",
    "\n",
    "\n",
    "# 编号,姓名,基本工资,奖金,住房补助,五险一金,其他扣款,专项附加扣除\n",
    "incomeList = [\n",
    "    ['10932','张珊',15000.00 ,4000.00 ,2300.00 ,980.00 ,300.00 ,1000.00],\n",
    "    ['10933','李思',12000.00 ,5000.00 ,2600.00 ,890.00 ,400.00 ,2000.00],\n",
    "    ['10934','王武',10100.00 ,2000.00 ,2500.00 ,860.00 ,500.00 ,1500.00],\n",
    "    ['10935','赵柳',10050.00 ,1000.00 ,2700.00 ,1080.00 ,300.00 ,2000.00],\n",
    "    ['10936','钱棋',10200.00 ,2000.00 ,2400.00 ,1000.00 ,600.00 ,1000.00],\n",
    "    ['10941','张明',13600.00 ,4000.00 ,2100.00 ,680.00 ,300.00 ,1000.00],\n",
    "    ['10942','赵敏',13200.00 ,2500.00 ,2300.00 ,670.00 ,400.00 ,3000.00],\n",
    "    ['10945','王红',13600.00 ,2600.00 ,2030.00 ,560.00 ,400.00 ,2000.00],\n",
    "    ['10946','李萧',12500.00 ,2800.00 ,2400.00 ,420.00 ,500.00 ,1500.00],\n",
    "    ['10947','孙科',12000.00 ,3500.00 ,2030.00 ,880.00 ,300.00 ,1000.00],\n",
    "    ['10948','刘利',14200.00 ,2500.00 ,2020.00 ,900.00 ,400.00 ,2000.00]\n",
    "]"
   ]
  },
  {
   "cell_type": "markdown",
   "metadata": {},
   "source": [
    "# 3. 元组\n",
    "除了两个方面，“元组”数据类型几乎与列表数据类型一样。\n",
    "* 首先，元组输入时用圆括号()，而不是用方括号[]。"
   ]
  },
  {
   "cell_type": "code",
   "execution_count": 164,
   "metadata": {},
   "outputs": [
    {
     "data": {
      "text/plain": [
       "('西南财大', '电子科技大学', '四川大学', '西南交通大学')"
      ]
     },
     "execution_count": 164,
     "metadata": {},
     "output_type": "execute_result"
    }
   ],
   "source": [
    "universityTuple = ('西南财大', '电子科技大学', '四川大学', '西南交通大学')\n",
    "universityTuple"
   ]
  },
  {
   "cell_type": "code",
   "execution_count": 165,
   "metadata": {},
   "outputs": [
    {
     "data": {
      "text/plain": [
       "tuple"
      ]
     },
     "execution_count": 165,
     "metadata": {},
     "output_type": "execute_result"
    }
   ],
   "source": [
    "type(universityTuple)"
   ]
  },
  {
   "cell_type": "markdown",
   "metadata": {},
   "source": [
    "* 元组与列表的主要区别还在于，元组像字符串一样，是***不可变的***。元组不能让它们的值被修改、添加或删除"
   ]
  },
  {
   "cell_type": "code",
   "execution_count": 166,
   "metadata": {},
   "outputs": [
    {
     "ename": "TypeError",
     "evalue": "'tuple' object does not support item assignment",
     "output_type": "error",
     "traceback": [
      "\u001b[1;31m---------------------------------------------------------------------------\u001b[0m",
      "\u001b[1;31mTypeError\u001b[0m                                 Traceback (most recent call last)",
      "\u001b[1;32m<ipython-input-166-12cff179cfff>\u001b[0m in \u001b[0;36m<module>\u001b[1;34m()\u001b[0m\n\u001b[1;32m----> 1\u001b[1;33m \u001b[0muniversityTuple\u001b[0m\u001b[1;33m[\u001b[0m\u001b[1;36m0\u001b[0m\u001b[1;33m]\u001b[0m \u001b[1;33m=\u001b[0m \u001b[1;34m'西南财经大学'\u001b[0m\u001b[1;33m\u001b[0m\u001b[0m\n\u001b[0m",
      "\u001b[1;31mTypeError\u001b[0m: 'tuple' object does not support item assignment"
     ]
    }
   ],
   "source": [
    "universityTuple[0] = '西南财经大学'"
   ]
  },
  {
   "cell_type": "markdown",
   "metadata": {},
   "source": [
    "如果元组中只有一个值，你可以在括号内该值的后面跟上一个逗号，表明这种情况。否则，Python 将认为，你只是在一个普通括号内输入了一个值。逗号告诉\n",
    "Python，这是一个元组（不像其他编程语言，Python 接受列表或元组中最后表项后面跟的逗号）。"
   ]
  },
  {
   "cell_type": "code",
   "execution_count": 167,
   "metadata": {},
   "outputs": [
    {
     "data": {
      "text/plain": [
       "str"
      ]
     },
     "execution_count": 167,
     "metadata": {},
     "output_type": "execute_result"
    }
   ],
   "source": [
    "myUniversity = ('西南财经大学')\n",
    "type(myUniversity)"
   ]
  },
  {
   "cell_type": "code",
   "execution_count": 168,
   "metadata": {},
   "outputs": [
    {
     "data": {
      "text/plain": [
       "tuple"
      ]
     },
     "execution_count": 168,
     "metadata": {},
     "output_type": "execute_result"
    }
   ],
   "source": [
    "myUniversity = ('西南财经大学',)\n",
    "type(myUniversity)"
   ]
  },
  {
   "cell_type": "markdown",
   "metadata": {},
   "source": [
    "利用你可以用元组告诉所有读代码的人，你不打算改变这个序列的值。如果需要一个永远不会改变的值的序列，就使用元组。使用元组而不是列表的第二个好处在于，因为它们是不可变的，它们的内容不会变化，Python 可以实现一些**优化**，让使用元组的代码比使用列表的代码更快。"
   ]
  },
  {
   "cell_type": "markdown",
   "metadata": {},
   "source": [
    "## 3.1 使用()创建元组\n",
    "可以用() 创建一个空元组："
   ]
  },
  {
   "cell_type": "code",
   "execution_count": 173,
   "metadata": {},
   "outputs": [
    {
     "data": {
      "text/plain": [
       "()"
      ]
     },
     "execution_count": 173,
     "metadata": {},
     "output_type": "execute_result"
    }
   ],
   "source": [
    "empty_tuple = ()\n",
    "empty_tuple"
   ]
  },
  {
   "cell_type": "markdown",
   "metadata": {},
   "source": [
    "创建包含一个或多个元素的元组时，每一个元素后面都需要跟着一个逗号，即使只包含一个元素也不能省略，括号可以省略："
   ]
  },
  {
   "cell_type": "code",
   "execution_count": 174,
   "metadata": {},
   "outputs": [
    {
     "data": {
      "text/plain": [
       "tuple"
      ]
     },
     "execution_count": 174,
     "metadata": {},
     "output_type": "execute_result"
    }
   ],
   "source": [
    "myUniversity = '西南财经大学',\n",
    "type(myUniversity)"
   ]
  },
  {
   "cell_type": "markdown",
   "metadata": {},
   "source": [
    "## 3.2 用list()和tuple()函数来转换类型\n",
    "函数list()和tuple()将返回传递给它们的值的列表和元组版本。"
   ]
  },
  {
   "cell_type": "code",
   "execution_count": 169,
   "metadata": {},
   "outputs": [
    {
     "data": {
      "text/plain": [
       "list"
      ]
     },
     "execution_count": 169,
     "metadata": {},
     "output_type": "execute_result"
    }
   ],
   "source": [
    "incomeList = [\n",
    "    ['10932','张珊',15000.00 ,4000.00 ,2300.00 ,980.00 ,300.00 ,1000.00],\n",
    "    ['10933','李思',12000.00 ,5000.00 ,2600.00 ,890.00 ,400.00 ,2000.00],\n",
    "    ['10934','王武',10100.00 ,2000.00 ,2500.00 ,860.00 ,500.00 ,1500.00],\n",
    "    ['10935','赵柳',10050.00 ,1000.00 ,2700.00 ,1080.00 ,300.00 ,2000.00],\n",
    "    ['10936','钱棋',10200.00 ,2000.00 ,2400.00 ,1000.00 ,600.00 ,1000.00],\n",
    "    ['10941','张明',13600.00 ,4000.00 ,2100.00 ,680.00 ,300.00 ,1000.00],\n",
    "    ['10942','赵敏',13200.00 ,2500.00 ,2300.00 ,670.00 ,400.00 ,3000.00],\n",
    "    ['10945','王红',13600.00 ,2600.00 ,2030.00 ,560.00 ,400.00 ,2000.00],\n",
    "    ['10946','李萧',12500.00 ,2800.00 ,2400.00 ,420.00 ,500.00 ,1500.00],\n",
    "    ['10947','孙科',12000.00 ,3500.00 ,2030.00 ,880.00 ,300.00 ,1000.00],\n",
    "    ['10948','刘利',14200.00 ,2500.00 ,2020.00 ,900.00 ,400.00 ,2000.00]\n",
    "]\n",
    "type(incomeList)"
   ]
  },
  {
   "cell_type": "code",
   "execution_count": 170,
   "metadata": {},
   "outputs": [
    {
     "data": {
      "text/plain": [
       "tuple"
      ]
     },
     "execution_count": 170,
     "metadata": {},
     "output_type": "execute_result"
    }
   ],
   "source": [
    "incomeTuple = tuple(incomeList)\n",
    "type(incomeTuple)"
   ]
  },
  {
   "cell_type": "code",
   "execution_count": 171,
   "metadata": {},
   "outputs": [
    {
     "data": {
      "text/plain": [
       "(['10932', '张珊', 15000.0, 4000.0, 2300.0, 980.0, 300.0, 1000.0],\n",
       " ['10933', '李思', 12000.0, 5000.0, 2600.0, 890.0, 400.0, 2000.0],\n",
       " ['10934', '王武', 10100.0, 2000.0, 2500.0, 860.0, 500.0, 1500.0],\n",
       " ['10935', '赵柳', 10050.0, 1000.0, 2700.0, 1080.0, 300.0, 2000.0],\n",
       " ['10936', '钱棋', 10200.0, 2000.0, 2400.0, 1000.0, 600.0, 1000.0],\n",
       " ['10941', '张明', 13600.0, 4000.0, 2100.0, 680.0, 300.0, 1000.0],\n",
       " ['10942', '赵敏', 13200.0, 2500.0, 2300.0, 670.0, 400.0, 3000.0],\n",
       " ['10945', '王红', 13600.0, 2600.0, 2030.0, 560.0, 400.0, 2000.0],\n",
       " ['10946', '李萧', 12500.0, 2800.0, 2400.0, 420.0, 500.0, 1500.0],\n",
       " ['10947', '孙科', 12000.0, 3500.0, 2030.0, 880.0, 300.0, 1000.0],\n",
       " ['10948', '刘利', 14200.0, 2500.0, 2020.0, 900.0, 400.0, 2000.0])"
      ]
     },
     "execution_count": 171,
     "metadata": {},
     "output_type": "execute_result"
    }
   ],
   "source": [
    "incomeTuple"
   ]
  },
  {
   "cell_type": "markdown",
   "metadata": {},
   "source": [
    "## 3.3 元组解包\n",
    "可以一口气将元组赋值给多个变量，这个过程被称为元组解包。"
   ]
  },
  {
   "cell_type": "code",
   "execution_count": 180,
   "metadata": {},
   "outputs": [
    {
     "data": {
      "text/plain": [
       "tuple"
      ]
     },
     "execution_count": 180,
     "metadata": {},
     "output_type": "execute_result"
    }
   ],
   "source": [
    "employeeInfo = tuple(incomeList[-1][:2])\n",
    "type(employeeInfo)"
   ]
  },
  {
   "cell_type": "code",
   "execution_count": 181,
   "metadata": {},
   "outputs": [
    {
     "data": {
      "text/plain": [
       "('10948', '刘利')"
      ]
     },
     "execution_count": 181,
     "metadata": {},
     "output_type": "execute_result"
    }
   ],
   "source": [
    "employeeInfo"
   ]
  },
  {
   "cell_type": "code",
   "execution_count": 182,
   "metadata": {},
   "outputs": [],
   "source": [
    "empNo, empName = employeeInfo"
   ]
  },
  {
   "cell_type": "code",
   "execution_count": 183,
   "metadata": {},
   "outputs": [
    {
     "name": "stdout",
     "output_type": "stream",
     "text": [
      "10948\n",
      "刘利\n"
     ]
    }
   ],
   "source": [
    "print(empNo)\n",
    "print(empName)"
   ]
  },
  {
   "cell_type": "markdown",
   "metadata": {},
   "source": [
    "## 3.4 元组与列表\n",
    "在许多地方都可以用元组代替列表，但元组的方法函数与列表相比要少一些——元组没有append()、insert()，等等——因为一旦创建元组便无法修改。既然列表更加灵活，那为什么不在所有地方都使用列表呢？原因如下所示：\n",
    "* 元组占用的空间较小\n",
    "* 你不会意外修改元组的值\n",
    "* 可以将元组用作字典的键\n",
    "* 函数的参数是以元组形式传递的"
   ]
  },
  {
   "cell_type": "markdown",
   "metadata": {},
   "source": [
    "# 4. 集合\n",
    "很久以前，当你还在小学时，可能就学到过一些关于集合论的知识。下图展示了对于集合进行的最基本的操作——交和并。\n",
    "<img src='Images/set.png' width=80%>"
   ]
  },
  {
   "attachments": {},
   "cell_type": "markdown",
   "metadata": {},
   "source": [
    "集合类型与数学中集合的概念一致，即包含0个或多个数据项的无序组合。集合中元素**不可重复**，元素类型只能是固定数据类型，例如：整数、浮点数、字符串、元组等，列表、字典和集合类型本身都是可变数据类型，不能作为集合的元素出现。"
   ]
  },
  {
   "cell_type": "markdown",
   "metadata": {},
   "source": [
    "## 4.1 使用set()创建集合\n",
    "可以使用set() 函数创建一个集合，或者用大括号将一系列以逗号隔开的值包裹起来，如下所示："
   ]
  },
  {
   "cell_type": "code",
   "execution_count": 185,
   "metadata": {},
   "outputs": [
    {
     "ename": "TypeError",
     "evalue": "set expected at most 1 arguments, got 4",
     "output_type": "error",
     "traceback": [
      "\u001b[1;31m---------------------------------------------------------------------------\u001b[0m",
      "\u001b[1;31mTypeError\u001b[0m                                 Traceback (most recent call last)",
      "\u001b[1;32m<ipython-input-185-63f087c41764>\u001b[0m in \u001b[0;36m<module>\u001b[1;34m()\u001b[0m\n\u001b[1;32m----> 1\u001b[1;33m \u001b[0muniversitySet\u001b[0m \u001b[1;33m=\u001b[0m \u001b[0mset\u001b[0m\u001b[1;33m(\u001b[0m\u001b[1;34m'西南财大'\u001b[0m\u001b[1;33m,\u001b[0m \u001b[1;34m'电子科技大学'\u001b[0m\u001b[1;33m,\u001b[0m \u001b[1;34m'四川大学'\u001b[0m\u001b[1;33m,\u001b[0m \u001b[1;34m'西南交通大学'\u001b[0m\u001b[1;33m)\u001b[0m\u001b[1;33m\u001b[0m\u001b[0m\n\u001b[0m",
      "\u001b[1;31mTypeError\u001b[0m: set expected at most 1 arguments, got 4"
     ]
    }
   ],
   "source": [
    "universitySet = set('西南财大', '电子科技大学', '四川大学', '西南交通大学')"
   ]
  },
  {
   "cell_type": "code",
   "execution_count": 186,
   "metadata": {},
   "outputs": [
    {
     "data": {
      "text/plain": [
       "{'四川大学', '电子科技大学', '西南交通大学', '西南财大'}"
      ]
     },
     "execution_count": 186,
     "metadata": {},
     "output_type": "execute_result"
    }
   ],
   "source": [
    "universitySet = set(['西南财大', '电子科技大学', '四川大学', '西南交通大学'])\n",
    "universitySet"
   ]
  },
  {
   "cell_type": "code",
   "execution_count": 187,
   "metadata": {},
   "outputs": [
    {
     "data": {
      "text/plain": [
       "{'四川大学', '电子科技大学', '西南交通大学', '西南财大'}"
      ]
     },
     "execution_count": 187,
     "metadata": {},
     "output_type": "execute_result"
    }
   ],
   "source": [
    "universitySet = {'西南财大', '电子科技大学', '四川大学', '西南交通大学'}\n",
    "universitySet"
   ]
  },
  {
   "cell_type": "markdown",
   "metadata": {},
   "source": [
    "*** 由于[] 能创建一个空列表，你可能期望{}也能创建空集。但事实上，{}会创建一个空字典。***"
   ]
  },
  {
   "cell_type": "markdown",
   "metadata": {},
   "source": [
    "由于集合是**无序组合**，它没有索引和位置的概念，不能分片，集合中元素可以动态增加或删除。"
   ]
  },
  {
   "cell_type": "code",
   "execution_count": 192,
   "metadata": {},
   "outputs": [
    {
     "ename": "TypeError",
     "evalue": "'set' object does not support indexing",
     "output_type": "error",
     "traceback": [
      "\u001b[1;31m---------------------------------------------------------------------------\u001b[0m",
      "\u001b[1;31mTypeError\u001b[0m                                 Traceback (most recent call last)",
      "\u001b[1;32m<ipython-input-192-b544e1aa05d7>\u001b[0m in \u001b[0;36m<module>\u001b[1;34m()\u001b[0m\n\u001b[1;32m----> 1\u001b[1;33m \u001b[0muniversitySet\u001b[0m\u001b[1;33m[\u001b[0m\u001b[1;36m0\u001b[0m\u001b[1;33m]\u001b[0m\u001b[1;33m\u001b[0m\u001b[0m\n\u001b[0m",
      "\u001b[1;31mTypeError\u001b[0m: 'set' object does not support indexing"
     ]
    }
   ],
   "source": [
    "universitySet[0]"
   ]
  },
  {
   "cell_type": "code",
   "execution_count": 193,
   "metadata": {},
   "outputs": [
    {
     "ename": "TypeError",
     "evalue": "'set' object is not subscriptable",
     "output_type": "error",
     "traceback": [
      "\u001b[1;31m---------------------------------------------------------------------------\u001b[0m",
      "\u001b[1;31mTypeError\u001b[0m                                 Traceback (most recent call last)",
      "\u001b[1;32m<ipython-input-193-dafad8766934>\u001b[0m in \u001b[0;36m<module>\u001b[1;34m()\u001b[0m\n\u001b[1;32m----> 1\u001b[1;33m \u001b[0muniversitySet\u001b[0m\u001b[1;33m[\u001b[0m\u001b[1;36m1\u001b[0m\u001b[1;33m:\u001b[0m\u001b[1;36m3\u001b[0m\u001b[1;33m]\u001b[0m\u001b[1;33m\u001b[0m\u001b[0m\n\u001b[0m",
      "\u001b[1;31mTypeError\u001b[0m: 'set' object is not subscriptable"
     ]
    }
   ],
   "source": [
    "universitySet[1:3]"
   ]
  },
  {
   "cell_type": "markdown",
   "metadata": {},
   "source": [
    "## 4.2 使用set()将其他类型转换为集合\n",
    "可以利用已有列表、字符串、元组或字典的内容来创建集合，其中重复的值会被丢弃。"
   ]
  },
  {
   "cell_type": "code",
   "execution_count": 188,
   "metadata": {},
   "outputs": [
    {
     "data": {
      "text/plain": [
       "['西南财大', '电子科技大学', '四川大学', '西南交通大学', '西南财大', '电子科技大学', '四川大学', '西南交通大学']"
      ]
     },
     "execution_count": 188,
     "metadata": {},
     "output_type": "execute_result"
    }
   ],
   "source": [
    "universityList = ['西南财大', '电子科技大学', '四川大学', '西南交通大学'] * 2\n",
    "universityList"
   ]
  },
  {
   "cell_type": "code",
   "execution_count": 189,
   "metadata": {},
   "outputs": [
    {
     "data": {
      "text/plain": [
       "{'四川大学', '电子科技大学', '西南交通大学', '西南财大'}"
      ]
     },
     "execution_count": 189,
     "metadata": {},
     "output_type": "execute_result"
    }
   ],
   "source": [
    "universitySet = set(universityList)\n",
    "universitySet"
   ]
  },
  {
   "cell_type": "markdown",
   "metadata": {},
   "source": [
    "由于集合元素独一无二，使用集合类型能够**过滤掉重复元素**。"
   ]
  },
  {
   "cell_type": "code",
   "execution_count": 196,
   "metadata": {},
   "outputs": [
    {
     "data": {
      "text/plain": [
       "{'e', 'l', 'r', 's', 't'}"
      ]
     },
     "execution_count": 196,
     "metadata": {},
     "output_type": "execute_result"
    }
   ],
   "source": [
    "set('letters')"
   ]
  },
  {
   "cell_type": "markdown",
   "metadata": {},
   "source": [
    "## 4.3 使用in测试值是否存在\n",
    "这是集合里最常用的功能。"
   ]
  },
  {
   "cell_type": "code",
   "execution_count": 198,
   "metadata": {},
   "outputs": [
    {
     "data": {
      "text/plain": [
       "True"
      ]
     },
     "execution_count": 198,
     "metadata": {},
     "output_type": "execute_result"
    }
   ],
   "source": [
    "\"BIT\" in {\"PYTHON\", \"BIT\", 123, \"GOOD\"} #成员关系测试"
   ]
  },
  {
   "attachments": {},
   "cell_type": "markdown",
   "metadata": {},
   "source": [
    "## 4.4 删除数据项\n",
    "集合类型与其他类型最大的不同在于它不包含重复元素，因此，当需要对一维数据进行去重或进行数据重复处理时，一般通过集合来完成。"
   ]
  },
  {
   "cell_type": "code",
   "execution_count": 199,
   "metadata": {},
   "outputs": [
    {
     "data": {
      "text/plain": [
       "('PYTHON', 'BIT', 123, 'GOOD', 123)"
      ]
     },
     "execution_count": 199,
     "metadata": {},
     "output_type": "execute_result"
    }
   ],
   "source": [
    "tup = (\"PYTHON\", \"BIT\", 123, \"GOOD\", 123)\n",
    "tup"
   ]
  },
  {
   "cell_type": "code",
   "execution_count": 201,
   "metadata": {
    "scrolled": true
   },
   "outputs": [
    {
     "data": {
      "text/plain": [
       "('GOOD', 123, 'BIT')"
      ]
     },
     "execution_count": 201,
     "metadata": {},
     "output_type": "execute_result"
    }
   ],
   "source": [
    "newtup = tuple(set(tup)-{'PYTHON'}) \n",
    "newtup"
   ]
  },
  {
   "attachments": {},
   "cell_type": "markdown",
   "metadata": {},
   "source": [
    "## 4.3 集合类型的操作符 、函数或方法\n",
    "\n",
    "**集合类型有10个操作符:**\n",
    "\n",
    "|操作符|描述|\n",
    "|:-----:|:-------|\n",
    "|S – T 或 S.difference(T)|返回一个新集合，包括在集合S中但不在集合T中的元素|\n",
    "|S-=T或S.difference_update(T)|更新集合S，包括在集合S中但不在集合T中的元素|\n",
    "|S & T或S.intersection(T)|返回一个新集合，包括同时在集合S和T中的元素|\n",
    "|S&=T或S.intersection_update(T)|更新集合S，包括同时在集合S和T中的元素。|\n",
    "|S^T或s.symmetric_difference(T)|返回一个新集合，包括集合S和T中元素，但不包括同时在其中的元素|\n",
    "|S=^T或s.symmetric_difference_update(T)|更新集合S，包括集合S和T中元素，但不包括同时在其中的元素||\n",
    "|S&#124;T或S.union(T)|返回一个新集合，包括集合S和T中所有元素|\n",
    "|S=&#124;T或S.update(T)|更新集合S，包括集合S和T中所有元素||\n",
    "|S<=T或S.issubset(T)|如果S与T相同或S是T的子集，返回True，否则返回False，可以用S<T判断S是否是T的真子集|\n",
    "|S>=T或S.issuperset(T)|如果S与T相同或S是T的超集，返回True，否则返回False，可以用S>T判断S是否是T的真超集|\n",
    "\n",
    "上述操作符表达了集合类型的4种基本操作，交集（&）、并集（|）、差集（-）、补集（^），操作逻辑与数学定义相同：\n",
    "<img src='Images/set2.png' width=80%>\n",
    "\n",
    "**集合类型有10个操作函数或方法:**\n",
    "\n",
    "|函数或方法|描述|\n",
    "|:-----:|:-------|\n",
    "|S.add(x)|如果数据项x不在集合S中，将x增加到s|\n",
    "|S.clear()|移除S中所有数据项|\n",
    "|S.copy()|返回集合S的一个拷贝|\n",
    "|S.pop()|随机返回集合S中的一个元素，如果S为空，产生KeyError异常|\n",
    "|S.discard(x)|如果x在集合S中，移除该元素；如果x不在，不报错|\n",
    "|S.remove(x)|如果x在集合S中，移除该元素；不在产生KeyError异常|\n",
    "|S.isdisjoint(T)|如果集合S与T没有相同元素，返回True|\n",
    "|len(S)|返回集合S元素个数|\n",
    "|x in S|如果x是S的元素，返回True，否则返回False|\n",
    "|x not in S|如果x不是S的元素，返回True，否则返回False|"
   ]
  },
  {
   "cell_type": "markdown",
   "metadata": {},
   "source": [
    "## 集合实例：作业统计\n",
    "假设你是程序设计与应用Python的助教，现在老师需要统计作业情况。假设你已经会自动收取电子邮件，并且保存附件（实际上在后面的部分会介绍），如果你已经将作业1和作业2的邮件保存在两个不同的文件夹，并且学会了怎么读取文件夹里的列表（后面部分也会介绍，不着急），如果你已经将作业1和作业2的文件夹内容分别放进了homework1和homework2集合中："
   ]
  },
  {
   "cell_type": "code",
   "execution_count": 206,
   "metadata": {
    "collapsed": true
   },
   "outputs": [],
   "source": [
    "homework1 = {'作业1_41705560.eml','作业1_41706760.eml','作业1_41705661.eml','作业1_41701560.eml','作业1_41705791.eml'}\n",
    "homework2 = {'作业2_41708560.eml','作业2_41706760.eml','作业2_41706661.eml','作业2_41701560.eml','作业2_41705791.eml'}"
   ]
  },
  {
   "cell_type": "markdown",
   "metadata": {},
   "source": [
    "现在需要做以下统计：\n",
    "\n",
    "* 两次作业都交了的同学有哪些？\n",
    "* 至少交了一次作业的同学有哪些？\n",
    "* 哪些同学只交了一次作业？\n",
    "* 只交了第一次作业的同学有哪些？"
   ]
  },
  {
   "attachments": {},
   "cell_type": "markdown",
   "metadata": {},
   "source": [
    "# 小结\n",
    "列表是有用的数据类型，因为它们让你写代码处理一组可以修改的值，同时仅用一个变量。在后面的部分中，你会看到一些程序利用列表来完成工作。没有\n",
    "列表，这些工作很困难，甚至不可能完成。\n",
    "\n",
    "列表是可变的，这意味着它们的内容可以改变。\n",
    "\n",
    "元组和字符串虽然在某些方面像列表，却是不可变的，不能被修改。包含一个元组或字符串的变量，可以被一个新的元组或字符串覆写，但这和现场修改原来的值不是一回事，不像append()和remove()方法在列表上的效果。\n",
    "\n",
    "集合元素是无序的，它没有索引和位置的概念，不能分片，集合中元素可以动态增加或删除。主要用于三个场景：成员关系测试、元素去重和删除数据项。"
   ]
  },
  {
   "cell_type": "markdown",
   "metadata": {},
   "source": [
    "## 练习\n",
    "**(1)** 什么是[]？<br>\n",
    "\n",
    "**(2)** 假定myList 包含列表['a', 'b', 'c', 'd']<br>\n",
    "myList[int('3' * 2) / 11]求值为多少？<br>\n",
    "myList[-1]求值为多少？<br>\n",
    "myList[:2]求值为多少？<br>\n",
    "\n",
    "**(3)** 假定bacon 包含列表[3.14, 'cat', 11, 'cat', True]。<br>\n",
    "bacon.index('cat')求值为多少？<br>\n",
    "bacon.append(99)让bacon 中的列表值变成什么样？<br>\n",
    "bacon.remove('cat')让bacon 中的列表时变成什么样？<br>\n",
    "\n",
    "**(4)** append()和insert()列表方法之间的区别是什么？<br>\n",
    "\n",
    "**(5)** 请说出列表值和字符串的几点相似之处。<br>\n",
    "\n",
    "**(6)** 列表和元组之间的区别是什么？<br>\n",
    "\n",
    "**(7)** 如果元组中只有一个整数值42，如何输入该元组？<br>"
   ]
  },
  {
   "cell_type": "markdown",
   "metadata": {},
   "source": [
    "## 作业\n",
    "**(1) 字符图网格** <br>\n",
    "假定有一个列表的列表，内层列表的每个值都是包含一个字符的字符串，像这样："
   ]
  },
  {
   "cell_type": "code",
   "execution_count": 209,
   "metadata": {},
   "outputs": [],
   "source": [
    "grid = [['.', '.', '.', '.', '.', '.'],\n",
    "['.', 'O', 'O', '.', '.', '.'],\n",
    "['O', 'O', 'O', 'O', '.', '.'],\n",
    "['O', 'O', 'O', 'O', 'O', '.'],\n",
    "['.', 'O', 'O', 'O', 'O', 'O'],\n",
    "['O', 'O', 'O', 'O', 'O', '.'],\n",
    "['O', 'O', 'O', 'O', '.', '.'],\n",
    "['.', 'O', 'O', '.', '.', '.'],\n",
    "['.', '.', '.', '.', '.', '.']]"
   ]
  },
  {
   "cell_type": "code",
   "execution_count": 210,
   "metadata": {},
   "outputs": [
    {
     "data": {
      "text/plain": [
       "[['.', '.', '.', '.', '.', '.'],\n",
       " ['.', 'O', 'O', '.', '.', '.'],\n",
       " ['O', 'O', 'O', 'O', '.', '.'],\n",
       " ['O', 'O', 'O', 'O', 'O', '.'],\n",
       " ['.', 'O', 'O', 'O', 'O', 'O'],\n",
       " ['O', 'O', 'O', 'O', 'O', '.'],\n",
       " ['O', 'O', 'O', 'O', '.', '.'],\n",
       " ['.', 'O', 'O', '.', '.', '.'],\n",
       " ['.', '.', '.', '.', '.', '.']]"
      ]
     },
     "execution_count": 210,
     "metadata": {},
     "output_type": "execute_result"
    }
   ],
   "source": [
    "grid"
   ]
  },
  {
   "cell_type": "markdown",
   "metadata": {},
   "source": [
    "你可以认为grid[x][y]是一幅“图”在x、y 坐标处的字符，该图由文本字符组成。原点(0, 0)在左上角，向右x 坐标增加，向下y 坐标增加。\n",
    "\n",
    "复制前面的网格值，编写代码用它打印出图像。如下图：\n",
    "\n",
    "<img src=\"Images/homework51.png\" width=80%>"
   ]
  },
  {
   "cell_type": "markdown",
   "metadata": {},
   "source": [
    "注意，你打印出来的<font color=red>不应该</font>是：\n",
    "\n",
    "<img src=\"Images/homework51Wrong.png\" width=80%>"
   ]
  },
  {
   "cell_type": "markdown",
   "metadata": {},
   "source": [
    "**(2) ** 将课本P180页6.1，6.2的**程序代码及调用运行结果**分别截图保存。\n",
    "\n",
    "将3个截图作为第5次作业的附件，发送到xzl_swufe@163.com。<br><br>\n",
    "<b><font color=red>邮件标题必须类似于：作业5_12345678。</font>其中12345678需要替换成你的学号。<br><br><b><font color=red>邮件标题必须类似于：作业5_12345678。</font>其中12345678需要替换成你的学号。<br><br><b><font color=red>邮件标题必须类似于：作业5_12345678。</font>其中12345678需要替换成你的学号。"
   ]
  },
  {
   "cell_type": "code",
   "execution_count": null,
   "metadata": {
    "collapsed": true
   },
   "outputs": [],
   "source": []
  }
 ],
 "metadata": {
  "kernelspec": {
   "display_name": "Python 3",
   "language": "python",
   "name": "python3"
  },
  "language_info": {
   "codemirror_mode": {
    "name": "ipython",
    "version": 3
   },
   "file_extension": ".py",
   "mimetype": "text/x-python",
   "name": "python",
   "nbconvert_exporter": "python",
   "pygments_lexer": "ipython3",
   "version": "3.6.2"
  }
 },
 "nbformat": 4,
 "nbformat_minor": 2
}
