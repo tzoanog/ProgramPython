{
 "cells": [
  {
   "cell_type": "code",
   "execution_count": 1,
   "metadata": {
    "collapsed": true
   },
   "outputs": [],
   "source": [
    "def line1(cols):\n",
    "    print(\"+\", end=\"\")\n",
    "    for i in range(cols):\n",
    "        print(\"----+\", end=\"\")\n",
    "    print()\n",
    "def line2(cols):\n",
    "    print(\"|\", end=\"\")\n",
    "    for i in range(cols):\n",
    "        print(\"    |\", end=\"\")\n",
    "    print()    \n",
    "def myFunc(rows, cols=None):\n",
    "    print(\"12345678 张三\")\n",
    "    if cols == None:\n",
    "        cols = rows\n",
    "    line1(cols)\n",
    "    for j in range(rows):\n",
    "        line2(cols)\n",
    "        line2(cols)\n",
    "        line1(cols)"
   ]
  },
  {
   "cell_type": "code",
   "execution_count": 2,
   "metadata": {},
   "outputs": [
    {
     "name": "stdout",
     "output_type": "stream",
     "text": [
      "12345678 张三\n",
      "+----+----+----+\n",
      "|    |    |    |\n",
      "|    |    |    |\n",
      "+----+----+----+\n",
      "|    |    |    |\n",
      "|    |    |    |\n",
      "+----+----+----+\n",
      "|    |    |    |\n",
      "|    |    |    |\n",
      "+----+----+----+\n"
     ]
    }
   ],
   "source": [
    "myFunc(3)"
   ]
  },
  {
   "cell_type": "code",
   "execution_count": 3,
   "metadata": {},
   "outputs": [
    {
     "name": "stdout",
     "output_type": "stream",
     "text": [
      "12345678 张三\n",
      "+----+----+----+----+----+----+----+----+----+----+\n",
      "|    |    |    |    |    |    |    |    |    |    |\n",
      "|    |    |    |    |    |    |    |    |    |    |\n",
      "+----+----+----+----+----+----+----+----+----+----+\n",
      "|    |    |    |    |    |    |    |    |    |    |\n",
      "|    |    |    |    |    |    |    |    |    |    |\n",
      "+----+----+----+----+----+----+----+----+----+----+\n",
      "|    |    |    |    |    |    |    |    |    |    |\n",
      "|    |    |    |    |    |    |    |    |    |    |\n",
      "+----+----+----+----+----+----+----+----+----+----+\n"
     ]
    }
   ],
   "source": [
    "myFunc(3, 10)"
   ]
  },
  {
   "cell_type": "code",
   "execution_count": null,
   "metadata": {
    "collapsed": true
   },
   "outputs": [],
   "source": []
  }
 ],
 "metadata": {
  "kernelspec": {
   "display_name": "Python 3",
   "language": "python",
   "name": "python3"
  },
  "language_info": {
   "codemirror_mode": {
    "name": "ipython",
    "version": 3
   },
   "file_extension": ".py",
   "mimetype": "text/x-python",
   "name": "python",
   "nbconvert_exporter": "python",
   "pygments_lexer": "ipython3",
   "version": "3.6.2"
  }
 },
 "nbformat": 4,
 "nbformat_minor": 2
}
