{
 "cells": [
  {
   "cell_type": "code",
   "execution_count": 33,
   "metadata": {},
   "outputs": [
    {
     "name": "stdout",
     "output_type": "stream",
     "text": [
      "整理完毕\n"
     ]
    }
   ],
   "source": [
    "import os,datetime\n",
    "def copyFile(sourceFileName, targetFileName):\n",
    "    with open(sourceFileName, \"rb\") as sourceFile:\n",
    "        targetFile = open(targetFileName, \"wb\")\n",
    "        targetFile.write(sourceFile.read())\n",
    "        targetFile.close()\n",
    "        \n",
    "basePath = 'pictures'\n",
    "for foldername, subfolders, filenames in os.walk(basePath):\n",
    "    for filename in filenames:\n",
    "        createTimestamp = os.path.getmtime(os.path.join(foldername,filename))\n",
    "        createTime = datetime.datetime.fromtimestamp(createTimestamp)\n",
    "        imageFolderName = os.path.join('images',str(createTime.year))\n",
    "        if not os.path.exists(imageFolderName):\n",
    "            os.mkdir(os.path.join(imageFolderName))\n",
    "        fileCount = len(os.listdir(imageFolderName))\n",
    "        imageFileName = '{}_{}{}'.format(createTime.strftime('%Y_%m_%d'),\n",
    "                                        fileCount + 1,\n",
    "                                        os.path.splitext(filename)[1])\n",
    "        copyFile(os.path.join(foldername,filename), \n",
    "                 os.path.join(imageFolderName,imageFileName))\n",
    "print('整理完毕')"
   ]
  },
  {
   "cell_type": "code",
   "execution_count": null,
   "metadata": {
    "collapsed": true
   },
   "outputs": [],
   "source": []
  }
 ],
 "metadata": {
  "kernelspec": {
   "display_name": "Python 3",
   "language": "python",
   "name": "python3"
  },
  "language_info": {
   "codemirror_mode": {
    "name": "ipython",
    "version": 3
   },
   "file_extension": ".py",
   "mimetype": "text/x-python",
   "name": "python",
   "nbconvert_exporter": "python",
   "pygments_lexer": "ipython3",
   "version": "3.6.2"
  }
 },
 "nbformat": 4,
 "nbformat_minor": 2
}
