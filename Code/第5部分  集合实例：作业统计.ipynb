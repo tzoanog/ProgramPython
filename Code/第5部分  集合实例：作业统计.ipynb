{
 "cells": [
  {
   "cell_type": "markdown",
   "metadata": {},
   "source": [
    "## 集合实例：作业统计\n",
    "假设你是程序设计与应用Python的助教，现在老师需要统计作业情况。假设你已经会自动收取电子邮件，并且保存附件（实际上在后面的部分会介绍），如果你已经将作业1和作业2的邮件保存在两个不同的文件夹，并且学会了怎么读取文件夹里的列表（后面部分也会介绍，不着急），如果你已经将作业1和作业2的文件夹内容分别放进了homework1和homework2集合中："
   ]
  },
  {
   "cell_type": "code",
   "execution_count": 1,
   "metadata": {
    "collapsed": true
   },
   "outputs": [],
   "source": [
    "homework1 = {'作业1_41705560.eml','作业1_41706760.eml','作业1_41705661.eml','作业1_41701560.eml','作业1_41705791.eml'}\n",
    "homework2 = {'作业2_41708560.eml','作业2_41706760.eml','作业2_41706661.eml','作业2_41701560.eml','作业2_41705791.eml'}"
   ]
  },
  {
   "cell_type": "markdown",
   "metadata": {},
   "source": [
    "现在需要做以下统计：\n",
    "\n",
    "* 两次作业都交了的同学有哪些？\n",
    "* 至少交了一次作业的同学有哪些？\n",
    "* 哪些同学只交了一次作业？\n",
    "* 只交了第一次作业的同学有哪些？"
   ]
  },
  {
   "cell_type": "markdown",
   "metadata": {},
   "source": [
    "首先应该对数据信息预处理，删掉非学号的信息："
   ]
  },
  {
   "cell_type": "code",
   "execution_count": 2,
   "metadata": {
    "collapsed": true
   },
   "outputs": [],
   "source": [
    "def dataClearer(homework):\n",
    "    result = set()\n",
    "    for item in homework:\n",
    "        # 能进行一下验证是最好的了，不过可能需要正则表达式的知识，在后面的扩展部分会介绍\n",
    "        result.add(item[4:12])\n",
    "    return result"
   ]
  },
  {
   "cell_type": "code",
   "execution_count": 6,
   "metadata": {},
   "outputs": [],
   "source": [
    "homework1StuNo = dataClearer(homework1)\n",
    "homework2StuNo = dataClearer(homework2)"
   ]
  },
  {
   "cell_type": "code",
   "execution_count": 7,
   "metadata": {},
   "outputs": [
    {
     "data": {
      "text/plain": [
       "{'41701560', '41705560', '41705661', '41705791', '41706760'}"
      ]
     },
     "execution_count": 7,
     "metadata": {},
     "output_type": "execute_result"
    }
   ],
   "source": [
    "homework1StuNo"
   ]
  },
  {
   "cell_type": "code",
   "execution_count": 8,
   "metadata": {},
   "outputs": [
    {
     "data": {
      "text/plain": [
       "{'41701560', '41705791', '41706661', '41706760', '41708560'}"
      ]
     },
     "execution_count": 8,
     "metadata": {},
     "output_type": "execute_result"
    }
   ],
   "source": [
    "homework2StuNo"
   ]
  },
  {
   "cell_type": "markdown",
   "metadata": {},
   "source": [
    "** 两次作业都交了的同学有哪些？**"
   ]
  },
  {
   "cell_type": "code",
   "execution_count": 9,
   "metadata": {},
   "outputs": [
    {
     "data": {
      "text/plain": [
       "{'41701560', '41705791', '41706760'}"
      ]
     },
     "execution_count": 9,
     "metadata": {},
     "output_type": "execute_result"
    }
   ],
   "source": [
    "homework1StuNo & homework2StuNo"
   ]
  },
  {
   "cell_type": "markdown",
   "metadata": {},
   "source": [
    "** 至少交了一次作业的同学有哪些？ **"
   ]
  },
  {
   "cell_type": "code",
   "execution_count": 12,
   "metadata": {},
   "outputs": [
    {
     "data": {
      "text/plain": [
       "{'41701560',\n",
       " '41705560',\n",
       " '41705661',\n",
       " '41705791',\n",
       " '41706661',\n",
       " '41706760',\n",
       " '41708560'}"
      ]
     },
     "execution_count": 12,
     "metadata": {},
     "output_type": "execute_result"
    }
   ],
   "source": [
    "homework1StuNo | homework2StuNo"
   ]
  },
  {
   "cell_type": "markdown",
   "metadata": {},
   "source": [
    "** 哪些同学只交了一次作业？ **"
   ]
  },
  {
   "cell_type": "code",
   "execution_count": 13,
   "metadata": {},
   "outputs": [
    {
     "data": {
      "text/plain": [
       "{'41705560', '41705661', '41706661', '41708560'}"
      ]
     },
     "execution_count": 13,
     "metadata": {},
     "output_type": "execute_result"
    }
   ],
   "source": [
    "homework1StuNo ^ homework2StuNo"
   ]
  },
  {
   "cell_type": "markdown",
   "metadata": {},
   "source": [
    "** 只交了第一次作业的同学有哪些？ **"
   ]
  },
  {
   "cell_type": "code",
   "execution_count": 14,
   "metadata": {},
   "outputs": [
    {
     "data": {
      "text/plain": [
       "{'41705560', '41705661'}"
      ]
     },
     "execution_count": 14,
     "metadata": {},
     "output_type": "execute_result"
    }
   ],
   "source": [
    "homework1StuNo - homework2StuNo"
   ]
  },
  {
   "cell_type": "code",
   "execution_count": null,
   "metadata": {
    "collapsed": true
   },
   "outputs": [],
   "source": []
  }
 ],
 "metadata": {
  "kernelspec": {
   "display_name": "Python 3",
   "language": "python",
   "name": "python3"
  },
  "language_info": {
   "codemirror_mode": {
    "name": "ipython",
    "version": 3
   },
   "file_extension": ".py",
   "mimetype": "text/x-python",
   "name": "python",
   "nbconvert_exporter": "python",
   "pygments_lexer": "ipython3",
   "version": "3.6.2"
  }
 },
 "nbformat": 4,
 "nbformat_minor": 2
}
