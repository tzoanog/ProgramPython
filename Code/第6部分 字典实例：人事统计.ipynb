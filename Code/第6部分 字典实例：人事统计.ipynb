{
 "cells": [
  {
   "attachments": {},
   "cell_type": "markdown",
   "metadata": {},
   "source": [
    "# 字典实例:人事统计\n",
    "现有表格数据如下\n",
    "\n",
    "|编号|姓名|部门|电子邮箱|电话号码|身份证号码|\n",
    "|---|----|----|:----|----|----|\n",
    "|10932|张珊|管理|zhans@163.com|18612345678|520125197907167551|\n",
    "|10933|李思|软件|lisi@163.com|18612345679|510110195512176250|\n",
    "|10934|王武|财务|wangwu@example.com|18612345680|510102196510255826|\n",
    "|10935|赵柳|财务|zhaoliu@163.com|18612345681|510115195810287715|\n",
    "|10936|钱棋|人事|qianqi@example.com|18612345682|510103196707165650|\n",
    "|10941|张明|管理|zhangming@example.com|18612345683|510105198112166015|\n",
    "|10942|赵敏|人事|zhaomin@163.com|18612345684|510105198505225815|\n",
    "|10945|王红|培训|wanghong@example.com|18612345685|510221196208516555|\n",
    "|10946|李萧|培训|lixiao@example.com|18612345686|510221196601510810|\n",
    "|10947|孙科|软件|sunke@163.com|18612345687|510105198507025519|\n",
    "|10948|刘利|软件|liuli@example.com|18612345688|510227197510280527|\n",
    "\n",
    "对下列表格进行统计：\n",
    "* 各部门人数\n",
    "* 使用163电子邮箱人数\n",
    "* 性别为男的员工人数\n",
    "\n",
    "表格中的数据已经存在employeeList列表中："
   ]
  },
  {
   "cell_type": "code",
   "execution_count": 5,
   "metadata": {},
   "outputs": [],
   "source": [
    "employeeList = [['10932','张珊','管理','zhans@163.com','18612345678','520125197907167551'],\n",
    "['10933','李思','软件','lisi@163.com','18612345679','510110195512176250'],\n",
    "['10934','王武','财务','wangwu@example.com','18612345680','510102196510255826'],\n",
    "['10935','赵柳','财务','zhaoliu@163.com','18612345681','510115195810287715'],\n",
    "['10936','钱棋','人事','qianqi@example.com','18612345682','510103196707165650'],\n",
    "['10941','张明','管理','zhangming@example.com','18612345683','510105198112166015'],\n",
    "['10942','赵敏','人事','zhaomin@163.com','18612345684','510105198505225815'],\n",
    "['10945','王红','培训','wanghong@example.com','18612345685','510221196208516555'],\n",
    "['10946','李萧','培训','lixiao@example.com','18612345686','510221196601510810'],\n",
    "['10947','孙科','软件','sunke@163.com','18612345687','510105198507025519'],\n",
    "['10948','刘利','软件','liuli@example.com','18612345688','510227197510280527']]"
   ]
  },
  {
   "cell_type": "markdown",
   "metadata": {},
   "source": [
    "*** PS. 掌握了如何用程序操作文件后，就不再需要这样读取数据了，可以操作成千上万的数据了，文件操作将在下一部分介绍，期待吧！！！ ***"
   ]
  },
  {
   "cell_type": "markdown",
   "metadata": {},
   "source": [
    "将employeeList中的数据存储到字典中："
   ]
  },
  {
   "cell_type": "code",
   "execution_count": 7,
   "metadata": {},
   "outputs": [
    {
     "name": "stdout",
     "output_type": "stream",
     "text": [
      "[{'姓名': '张珊',\n",
      "  '电子邮箱': 'zhans@163.com',\n",
      "  '电话号码': '18612345678',\n",
      "  '编号': '10932',\n",
      "  '身份证号码': '520125197907167551',\n",
      "  '部门': '管理'},\n",
      " {'姓名': '李思',\n",
      "  '电子邮箱': 'lisi@163.com',\n",
      "  '电话号码': '18612345679',\n",
      "  '编号': '10933',\n",
      "  '身份证号码': '510110195512176250',\n",
      "  '部门': '软件'},\n",
      " {'姓名': '王武',\n",
      "  '电子邮箱': 'wangwu@example.com',\n",
      "  '电话号码': '18612345680',\n",
      "  '编号': '10934',\n",
      "  '身份证号码': '510102196510255826',\n",
      "  '部门': '财务'},\n",
      " {'姓名': '赵柳',\n",
      "  '电子邮箱': 'zhaoliu@163.com',\n",
      "  '电话号码': '18612345681',\n",
      "  '编号': '10935',\n",
      "  '身份证号码': '510115195810287715',\n",
      "  '部门': '财务'},\n",
      " {'姓名': '钱棋',\n",
      "  '电子邮箱': 'qianqi@example.com',\n",
      "  '电话号码': '18612345682',\n",
      "  '编号': '10936',\n",
      "  '身份证号码': '510103196707165650',\n",
      "  '部门': '人事'},\n",
      " {'姓名': '张明',\n",
      "  '电子邮箱': 'zhangming@example.com',\n",
      "  '电话号码': '18612345683',\n",
      "  '编号': '10941',\n",
      "  '身份证号码': '510105198112166015',\n",
      "  '部门': '管理'},\n",
      " {'姓名': '赵敏',\n",
      "  '电子邮箱': 'zhaomin@163.com',\n",
      "  '电话号码': '18612345684',\n",
      "  '编号': '10942',\n",
      "  '身份证号码': '510105198505225815',\n",
      "  '部门': '人事'},\n",
      " {'姓名': '王红',\n",
      "  '电子邮箱': 'wanghong@example.com',\n",
      "  '电话号码': '18612345685',\n",
      "  '编号': '10945',\n",
      "  '身份证号码': '510221196208516555',\n",
      "  '部门': '培训'},\n",
      " {'姓名': '李萧',\n",
      "  '电子邮箱': 'lixiao@example.com',\n",
      "  '电话号码': '18612345686',\n",
      "  '编号': '10946',\n",
      "  '身份证号码': '510221196601510810',\n",
      "  '部门': '培训'},\n",
      " {'姓名': '孙科',\n",
      "  '电子邮箱': 'sunke@163.com',\n",
      "  '电话号码': '18612345687',\n",
      "  '编号': '10947',\n",
      "  '身份证号码': '510105198507025519',\n",
      "  '部门': '软件'},\n",
      " {'姓名': '刘利',\n",
      "  '电子邮箱': 'liuli@example.com',\n",
      "  '电话号码': '18612345688',\n",
      "  '编号': '10948',\n",
      "  '身份证号码': '510227197510280527',\n",
      "  '部门': '软件'}]\n"
     ]
    }
   ],
   "source": [
    "employeeDicList = []\n",
    "for emp in  employeeList:\n",
    "    empDic = {}\n",
    "    empDic['编号'] = emp[0]\n",
    "    empDic['姓名'] = emp[1]\n",
    "    empDic['部门'] = emp[2]\n",
    "    empDic['电子邮箱'] = emp[3]\n",
    "    empDic['电话号码'] = emp[4]\n",
    "    empDic['身份证号码'] = emp[5]\n",
    "    \n",
    "    employeeDicList.append(empDic)\n",
    "    \n",
    "import pprint\n",
    "pprint.pprint(employeeDicList)"
   ]
  },
  {
   "cell_type": "markdown",
   "metadata": {},
   "source": [
    "## 统计各部门人数"
   ]
  },
  {
   "cell_type": "code",
   "execution_count": 9,
   "metadata": {},
   "outputs": [
    {
     "name": "stdout",
     "output_type": "stream",
     "text": [
      "{'管理': 2, '软件': 3, '财务': 2, '人事': 2, '培训': 2}\n"
     ]
    }
   ],
   "source": [
    "departmentDic = {}\n",
    "for empDic in employeeDicList:\n",
    "    departmentDic.setdefault(empDic['部门'], 0)\n",
    "    departmentDic[empDic['部门']] += 1\n",
    "\n",
    "print(departmentDic)"
   ]
  },
  {
   "cell_type": "markdown",
   "metadata": {},
   "source": [
    "## 统计使用163电子邮箱人数"
   ]
  },
  {
   "cell_type": "code",
   "execution_count": 10,
   "metadata": {},
   "outputs": [
    {
     "name": "stdout",
     "output_type": "stream",
     "text": [
      "使用163电子邮箱的人数为： 5\n"
     ]
    }
   ],
   "source": [
    "email163Count = 0\n",
    "for empDic in employeeDicList:\n",
    "    if empDic['电子邮箱'].endswith('163.com'):\n",
    "        email163Count += 1\n",
    "        \n",
    "print(\"使用163电子邮箱的人数为：\", email163Count)"
   ]
  },
  {
   "cell_type": "markdown",
   "metadata": {},
   "source": [
    "## 性别为男的员工人数\n",
    "先定义一个通过身份证判断性别的函数，为男员工则返回1，否则返回0："
   ]
  },
  {
   "cell_type": "code",
   "execution_count": 11,
   "metadata": {
    "collapsed": true
   },
   "outputs": [],
   "source": [
    "def getGenderByIDCard(idCard):\n",
    "    if len(idCard) == 18:\n",
    "        return int(idCard[16]) % 2\n",
    "    elif len(idCard) == 15:\n",
    "        return int(idCard[13] % 2)\n",
    "    else:\n",
    "        return 0"
   ]
  },
  {
   "cell_type": "markdown",
   "metadata": {},
   "source": [
    "使用getGenderByIDCard函数计算性别为男的员工数量："
   ]
  },
  {
   "cell_type": "code",
   "execution_count": 12,
   "metadata": {},
   "outputs": [
    {
     "name": "stdout",
     "output_type": "stream",
     "text": [
      "性别为男的员工人数为： 9\n"
     ]
    }
   ],
   "source": [
    "maleCount = 0 \n",
    "for empDic in employeeDicList:\n",
    "    maleCount += getGenderByIDCard(empDic['身份证号码'])\n",
    "\n",
    "print(\"性别为男的员工人数为：\", maleCount)"
   ]
  },
  {
   "cell_type": "code",
   "execution_count": null,
   "metadata": {
    "collapsed": true
   },
   "outputs": [],
   "source": []
  }
 ],
 "metadata": {
  "kernelspec": {
   "display_name": "Python 3",
   "language": "python",
   "name": "python3"
  },
  "language_info": {
   "codemirror_mode": {
    "name": "ipython",
    "version": 3
   },
   "file_extension": ".py",
   "mimetype": "text/x-python",
   "name": "python",
   "nbconvert_exporter": "python",
   "pygments_lexer": "ipython3",
   "version": "3.6.2"
  }
 },
 "nbformat": 4,
 "nbformat_minor": 2
}
