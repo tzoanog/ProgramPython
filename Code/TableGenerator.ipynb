{
 "cells": [
  {
   "cell_type": "code",
   "execution_count": 1,
   "metadata": {
    "collapsed": true
   },
   "outputs": [],
   "source": [
    "# 用于将剪切板中的文本，按照空格或者逗号分隔，生成MarkDown的表格格式\n",
    "\n",
    "def tableGenerator(sep=' '):\n",
    "    import pyperclip\n",
    "    text = pyperclip.paste()\n",
    "    \n",
    "    #行分割\n",
    "    lines = text.split('\\n')\n",
    "    splitedLines = []\n",
    "    \n",
    "    #替换分隔符\n",
    "    for line in lines:\n",
    "        splitedLines.append(line.strip().split(sep))\n",
    "    formatedText = ''  \n",
    "\n",
    "    #表格字符串\n",
    "    for i in range(len(splitedLines)):\n",
    "        if len(splitedLines[i]) != len(splitedLines[0]):\n",
    "            continue\n",
    "        if i == 0:\n",
    "            formatedText = '|' + '|'.join(splitedLines[i]) + '|'\n",
    "            formatedText += '\\n'\n",
    "            formatedText += '|' + '|'.join(['-' * len(x) for x in splitedLines[i]]) + '|'\n",
    "        else:\n",
    "            formatedText += '\\n'                   \n",
    "            formatedText += '|' + '|'.join(splitedLines[i]) + '|'\n",
    "    \n",
    "    print(formatedText)\n",
    "    pyperclip.copy(formatedText)"
   ]
  },
  {
   "cell_type": "code",
   "execution_count": 4,
   "metadata": {
    "scrolled": true
   },
   "outputs": [
    {
     "name": "stdout",
     "output_type": "stream",
     "text": [
      "|数据类型|例子|\n",
      "|----|--|\n"
     ]
    }
   ],
   "source": [
    "tableGenerator(',')"
   ]
  },
  {
   "cell_type": "markdown",
   "metadata": {},
   "source": [
    "|数据类型|例子|\n",
    "|:----|:--|\n",
    "|整型|-2, -1, 0, 1, 2, 3, 4, 5|\n",
    "|浮点型|-1.25, -1.0, - -0.5, 0.0, 0.5, 1.0, 1.25||\n",
    "|字符串|'a', 'aa', 'aaa', 'Hello!', '11 cats'|\n"
   ]
  },
  {
   "cell_type": "code",
   "execution_count": null,
   "metadata": {
    "collapsed": true
   },
   "outputs": [],
   "source": []
  }
 ],
 "metadata": {
  "kernelspec": {
   "display_name": "Python 3",
   "language": "python",
   "name": "python3"
  },
  "language_info": {
   "codemirror_mode": {
    "name": "ipython",
    "version": 3
   },
   "file_extension": ".py",
   "mimetype": "text/x-python",
   "name": "python",
   "nbconvert_exporter": "python",
   "pygments_lexer": "ipython3",
   "version": "3.6.2"
  }
 },
 "nbformat": 4,
 "nbformat_minor": 2
}
