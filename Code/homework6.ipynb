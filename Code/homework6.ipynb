{
 "cells": [
  {
   "cell_type": "markdown",
   "metadata": {},
   "source": [
    "# 作业：《绝地求生》游戏设计\n",
    "\n",
    "假设你在设计《绝地求生》的游戏。用于对玩家物品清单建模的数据结构是一个字典。其中键是字符串，描述清单中的物品，值是一个整型值，说明玩家有多少该物品。例如，字典值{'绷带': 10, '急救包': 1, '医疗箱': 3, '止痛药': 8, '能量饮料': 3}意味着玩家有10个绷带、1个急救包、3个医疗箱，8瓶止痛药和3瓶能量饮料等。\n",
    "\n",
    "写一个名为**displayInventory()**的函数，它接受任何可能的物品清单，并显示如下："
   ]
  },
  {
   "cell_type": "code",
   "execution_count": 1,
   "metadata": {},
   "outputs": [
    {
     "name": "stdout",
     "output_type": "stream",
     "text": [
      "12345678 张三\n",
      "\n",
      "物资列表：\n",
      "绷带 10\n",
      "急救包 1\n",
      "医疗箱 3\n",
      "止痛药 8\n",
      "能量饮料 3\n",
      "\n",
      "物资总量为: 25\n"
     ]
    }
   ],
   "source": [
    "def displayInventory(inventory):\n",
    "    print(\"12345678 张三\")\n",
    "    print()\n",
    "    print(\"物资列表：\")\n",
    "    item_total = 0\n",
    "    for k, v in inventory.items():\n",
    "        print(k + ' ' + str(v))\n",
    "        item_total += v\n",
    "    print(\"\\n物资总量为: \" + str(item_total))\n",
    "    \n",
    "stuff = {'绷带': 10, '急救包': 1, '医疗箱': 3, '止痛药': 8, '能量饮料': 3}\n",
    "displayInventory(stuff)"
   ]
  },
  {
   "cell_type": "markdown",
   "metadata": {},
   "source": [
    "假设游戏玩家可以一次性捡到一个“盒子”(游戏特有说法，可以上网查查看)里所有的物资，这个功能在游戏里是没有的，但是作为游戏总设计师的你决定加上这个功能。盒子使用列表表示，例如['绷带','医疗箱','绷带','绷带' ,'肾上腺素注射器', '能量饮料','肾上腺素注射器']，表示盒子里有3个绷带，1个医疗箱，2个肾上腺素注射器和1瓶能量饮料。\n",
    "\n",
    "写一个名为**addToInventory(inventory, boxItems)**的函数，其中inventory 参数是一个字典，表示玩家的物品清单（像前面一样），boxItems参数是一个列表，addToInventory()函数应该返回一个字典，表示更新过的物品清单。请注意，列表可以包含多个同样的项。你的代码看起来可能像这样："
   ]
  },
  {
   "cell_type": "code",
   "execution_count": 2,
   "metadata": {},
   "outputs": [
    {
     "name": "stdout",
     "output_type": "stream",
     "text": [
      "12345678 张三\n",
      "\n",
      "物资列表：\n",
      "绷带 13\n",
      "急救包 1\n",
      "医疗箱 4\n",
      "止痛药 8\n",
      "能量饮料 4\n",
      "肾上腺素注射器 2\n",
      "\n",
      "物资总量为: 32\n"
     ]
    }
   ],
   "source": [
    "def addToInventory(inventory, boxItems):\n",
    "    for item in boxItems:\n",
    "        inventory.setdefault(item, 0)\n",
    "        inventory[item] += 1\n",
    "    return inventory\n",
    "\n",
    "stuff = {'绷带': 10, '急救包': 1, '医疗箱': 3, '止痛药': 8, '能量饮料': 3}\n",
    "boxStuff = ['绷带','医疗箱','绷带','绷带' ,'肾上腺素注射器', '能量饮料','肾上腺素注射器']\n",
    "stuff = addToInventory(stuff, boxStuff)\n",
    "displayInventory(stuff)"
   ]
  },
  {
   "cell_type": "code",
   "execution_count": null,
   "metadata": {
    "collapsed": true
   },
   "outputs": [],
   "source": []
  }
 ],
 "metadata": {
  "kernelspec": {
   "display_name": "Python 3",
   "language": "python",
   "name": "python3"
  },
  "language_info": {
   "codemirror_mode": {
    "name": "ipython",
    "version": 3
   },
   "file_extension": ".py",
   "mimetype": "text/x-python",
   "name": "python",
   "nbconvert_exporter": "python",
   "pygments_lexer": "ipython3",
   "version": "3.6.2"
  }
 },
 "nbformat": 4,
 "nbformat_minor": 2
}
