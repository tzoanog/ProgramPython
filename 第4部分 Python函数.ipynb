{
 "cells": [
  {
   "cell_type": "markdown",
   "metadata": {},
   "source": [
    "<table border=0 width=\"100%\"><tr><td><p align=\"left\"><img src=\"Images/logo.png\" align=\"left\" width=300></p></td><td><font size=5><B>Python程序设计与应用</B></font></td></tr></table>"
   ]
  },
  {
   "cell_type": "markdown",
   "metadata": {},
   "source": [
    "# <div align='center'>第四部分 Python函数</div>"
   ]
  },
  {
   "cell_type": "markdown",
   "metadata": {},
   "source": [
    "## 知识点\n",
    "- 函数的基本概念和定义。\n",
    "- 位置参数和关键字参数。\n",
    "- 局部和全局作用域。\n",
    "- 异常处理。"
   ]
  },
  {
   "cell_type": "markdown",
   "metadata": {},
   "source": [
    "## 预习\n",
    "* 第五章：函数和代码复用"
   ]
  },
  {
   "attachments": {},
   "cell_type": "markdown",
   "metadata": {},
   "source": [
    "程序设计过程中，很多功能是重复的。例如计算应纳税所得额、读取分析问卷调查和根据应纳税所得额查找对应税率及扣除数等。\n",
    "\n",
    "Python中，可以使用**函数**来定义重复的功能。函数是一段具有特定功能的、可重用的语句组，用函数名来表示并通过函数名进行完成功能调用。\n",
    "\n",
    "函数也可以看作是一段具有名字的子程序，可以在需要的地方调用执行，不需要在每个执行地方重复编写这些语句。每次使用函数可以提供不同的参数作为输入，以实现对不同数据的处理；函数执行后，还可以反馈相应的处理结果。\n",
    "\n",
    "例如，定义一个根据应纳税所得额查找对应税率及扣除数的函数，只需要传入不同的应纳税所得额（参数），就可以得到正确的税率和扣除数。在需要查找税率和扣除数的地方，调用函数即可。"
   ]
  },
  {
   "attachments": {},
   "cell_type": "markdown",
   "metadata": {},
   "source": [
    "## 1. def 语句和参数\n",
    "如果调用print()或len()函数，你会传入一些值，放在括号之间，在这里称为“参数”\n",
    "\n",
    "Python定义一个函数使用def保留字，语法形式如下：\n",
    "```Python\n",
    "def <函数名>(<参数列表>):\n",
    "   <函数体>\n",
    "   return <返回值列表>\n",
    "```\n",
    "函数命名规范和变量命名一样（必须使用字母或者下划线\\_开头，仅能含有字母、数字和下划线）。"
   ]
  },
  {
   "cell_type": "code",
   "execution_count": 1,
   "metadata": {},
   "outputs": [
    {
     "name": "stdout",
     "output_type": "stream",
     "text": [
      "你好 张三\n",
      "你好 李四\n"
     ]
    }
   ],
   "source": [
    "def hello(name):\n",
    "    print('你好 ' + name)\n",
    "\n",
    "hello('张三')\n",
    "hello('李四')"
   ]
  },
  {
   "cell_type": "markdown",
   "metadata": {},
   "source": [
    "即使对于一个没有参数的函数，仍然需要在定义时加上圆括号和冒号。"
   ]
  },
  {
   "cell_type": "code",
   "execution_count": 3,
   "metadata": {
    "collapsed": true
   },
   "outputs": [],
   "source": [
    "def do_nothing():\n",
    "    print(\"我没有参数\")"
   ]
  },
  {
   "attachments": {},
   "cell_type": "markdown",
   "metadata": {},
   "source": [
    "微实例5.1：生日歌。\n",
    "过生日时要为朋友唱生生日歌，歌词为：<br>\n",
    "Happy birthday to you!<br>\n",
    "Happy birthday to you!<br>\n",
    "Happy birthday, dear <名字><br>\n",
    "Happy birthday to you!<br>\n",
    "编写程序为Mike和Lily输出生日歌。<br>"
   ]
  },
  {
   "cell_type": "code",
   "execution_count": 4,
   "metadata": {},
   "outputs": [
    {
     "name": "stdout",
     "output_type": "stream",
     "text": [
      "Happy birthday to you!\n",
      "Happy birthday to you!\n",
      "Happy birthday, dear Mike!\n",
      "Happy birthday to you!\n",
      "\n",
      "Happy birthday to you!\n",
      "Happy birthday to you!\n",
      "Happy birthday, dear Lily!\n",
      "Happy birthday to you!\n"
     ]
    }
   ],
   "source": [
    "def happy():\n",
    "    print(\"Happy birthday to you!\")\n",
    "def happyB(name):\n",
    "    happy()\n",
    "    happy()\n",
    "    print(\"Happy birthday, dear {}!\".format(name))\n",
    "    happy()\n",
    "happyB(\"Mike\")\n",
    "print()\n",
    "happyB(\"Lily\")"
   ]
  },
  {
   "attachments": {},
   "cell_type": "markdown",
   "metadata": {},
   "source": [
    "** 函数调用的过程 **\n",
    "程序调用一个函数需要执行以下四个步骤：<br>\n",
    "（1）调用程序在调用处暂停执行；<br>\n",
    "（2）在调用时将实参复制给函数的形参；<br>\n",
    "（3）执行函数体语句；<br>\n",
    "（4）函数调用结束给出返回值，程序回到调用前的暂停处继续执行。<br>\n",
    "\n",
    "<img src=\"Images/funcStep1.png\" width=\"80%\">\n",
    "\n",
    "<img src=\"Images/funcStep2.png\" width=\"80%\">\n",
    "\n",
    "<img src=\"Images/funcStep3.png\" width=\"80%\">"
   ]
  },
  {
   "cell_type": "markdown",
   "metadata": {},
   "source": [
    "## 2. 返回值和return 语句\n",
    "如果调用len()函数，并向它传入像'Hello'这样的参数，函数调用就求值为整数5。这是传入的字符串的长度。一般来说，函数调用求值的结果，称为函数的“**返回值**”。\n",
    "\n",
    "用def 语句创建函数时，可以用return 语句指定应该返回什么值。return 语句包含以下部分：\n",
    "* return 关键字；\n",
    "* 函数应该返回的值或表达式。\n",
    "\n",
    "如果在return 语句中使用了表达式，返回值就是该表达式求值的结果。"
   ]
  },
  {
   "cell_type": "code",
   "execution_count": 5,
   "metadata": {},
   "outputs": [
    {
     "data": {
      "text/plain": [
       "'你好 你好'"
      ]
     },
     "execution_count": 5,
     "metadata": {},
     "output_type": "execute_result"
    }
   ],
   "source": [
    "def echo(anything):\n",
    "    return anything + ' ' + anything\n",
    "\n",
    "echo(\"你好\")"
   ]
  },
  {
   "cell_type": "markdown",
   "metadata": {},
   "source": [
    "感谢元组（下一章介绍），Python可以一次返回多个值。例如，根据应纳税金额，得到税率和扣除数的函数。\n",
    "\n",
    "2019年个人所得税税率参照表：\n",
    "\n",
    "|级数|全年应纳税所得额|税率|速算扣除数|\n",
    "|--|:--------|--|-----|\n",
    "|1|不超过36000元的部分|3%|0|\n",
    "|2|超过36000至144000元的部分|10%|2520|\n",
    "|3|超过144000至300000元的部分|20%|16920|\n",
    "|4|超过300000至420000元的部分|25%|31920|\n",
    "|5|超过420000至660000元的部分|30%|52920|\n",
    "|6|超过660000至960000元的部分|35%|85920|\n",
    "|7|超过960000的部分|45%|181920|"
   ]
  },
  {
   "cell_type": "code",
   "execution_count": 9,
   "metadata": {
    "collapsed": true
   },
   "outputs": [],
   "source": [
    "def getTaxRateAndDeduction(taxIncome):\n",
    "    if taxIncome <= 36000:\n",
    "        taxRate, deduction = 0.03, 0\n",
    "    elif taxIncome <= 144000:\n",
    "        taxRate, deduction = 0.1, 2520        \n",
    "    elif taxIncome <= 300000:\n",
    "        taxRate, deduction = 0.2, 16920      \n",
    "    elif taxIncome <= 420000:\n",
    "        taxRate, deduction = 0.25, 31920      \n",
    "    elif taxIncome <= 660000:\n",
    "        taxRate, deduction = 0.30, 52920\n",
    "    elif taxIncome <= 960000:\n",
    "        taxRate, deduction = 0.35, 85920\n",
    "    else:\n",
    "        taxRate, deduction = 0.4, 181920\n",
    "        \n",
    "    return taxRate, deduction\n"
   ]
  },
  {
   "cell_type": "code",
   "execution_count": 10,
   "metadata": {},
   "outputs": [
    {
     "data": {
      "text/plain": [
       "(0.03, 0)"
      ]
     },
     "execution_count": 10,
     "metadata": {},
     "output_type": "execute_result"
    }
   ],
   "source": [
    "getTaxRateAndDeduction(5600)"
   ]
  },
  {
   "cell_type": "code",
   "execution_count": 11,
   "metadata": {},
   "outputs": [
    {
     "name": "stdout",
     "output_type": "stream",
     "text": [
      "税率为：0.1，速算扣除数为：2520\n"
     ]
    }
   ],
   "source": [
    "myTaxRate, myDeduction = getTaxRateAndDeduction(115600)\n",
    "print(\"税率为：{}，速算扣除数为：{}\".format(myTaxRate, myDeduction))"
   ]
  },
  {
   "cell_type": "markdown",
   "metadata": {},
   "source": [
    "***如果仅仅是想通过应纳税年收入获得应纳税额，函数应该怎么修改？***<br>\n",
    "**<center>个人年所得税=年应纳税所得额 * 对应税率 - 速算扣除数</center>**"
   ]
  },
  {
   "cell_type": "markdown",
   "metadata": {},
   "source": [
    "## 3. None 值\n",
    "在Python 中有一个值称为None，它表示没有值。None 是NoneType 数据类型的唯一值（其他编程语言可能称这个值为null、nil 或undefined）。就像布尔值True和False 一样，None 必须大写首字母N。\n",
    "\n",
    "如果你希望变量中存储的东西不会与一个真正的值混淆，这个没有值的值就可能有用。有一个使用None 的地方就是print()的返回值。print()函数在屏幕上显示文本，但它不需要返回任何值，这和len()或input()不同。但既然所有函数调用都需要求值为一个返回值，那么print()就返回None。"
   ]
  },
  {
   "cell_type": "code",
   "execution_count": 12,
   "metadata": {},
   "outputs": [
    {
     "name": "stdout",
     "output_type": "stream",
     "text": [
      "你好\n"
     ]
    }
   ],
   "source": [
    "result = print(\"你好\")"
   ]
  },
  {
   "cell_type": "code",
   "execution_count": 13,
   "metadata": {},
   "outputs": [
    {
     "data": {
      "text/plain": [
       "True"
      ]
     },
     "execution_count": 13,
     "metadata": {},
     "output_type": "execute_result"
    }
   ],
   "source": [
    "result == None"
   ]
  },
  {
   "cell_type": "markdown",
   "metadata": {},
   "source": [
    "在幕后，对于所有没有return 语句的函数定义，Python 都会自动的在末尾加上return None。"
   ]
  },
  {
   "cell_type": "markdown",
   "metadata": {},
   "source": [
    "## 4. 位置参数\n",
    "Python 处理参数的方式要比其他语言更加灵活。其中，最熟悉的参数类型是位置参数，传入参数的值是按照顺序依次复制过去的。"
   ]
  },
  {
   "cell_type": "code",
   "execution_count": 14,
   "metadata": {
    "collapsed": true
   },
   "outputs": [],
   "source": [
    "def myMinus(num1, num2):\n",
    "    return num1 - num2"
   ]
  },
  {
   "cell_type": "code",
   "execution_count": 15,
   "metadata": {},
   "outputs": [
    {
     "data": {
      "text/plain": [
       "80"
      ]
     },
     "execution_count": 15,
     "metadata": {},
     "output_type": "execute_result"
    }
   ],
   "source": [
    "myMinus(100, 20)"
   ]
  },
  {
   "cell_type": "markdown",
   "metadata": {},
   "source": [
    "尽管这种方式很常见，但是位置参数的一个弊端是必须熟记每个位置的参数的含义。myMinus() 时误把最后一个参数当作第一个参数，会得到完全不同的结果："
   ]
  },
  {
   "cell_type": "code",
   "execution_count": 16,
   "metadata": {},
   "outputs": [
    {
     "data": {
      "text/plain": [
       "-80"
      ]
     },
     "execution_count": 16,
     "metadata": {},
     "output_type": "execute_result"
    }
   ],
   "source": [
    "myMinus(20, 100)"
   ]
  },
  {
   "cell_type": "markdown",
   "metadata": {},
   "source": [
    "## 5. 关键字参数\n",
    "为了避免位置参数带来的混乱，调用参数时可以指定对应参数的名字，甚至可以采用与函数定义不同的顺序调用："
   ]
  },
  {
   "cell_type": "code",
   "execution_count": 17,
   "metadata": {},
   "outputs": [
    {
     "data": {
      "text/plain": [
       "80"
      ]
     },
     "execution_count": 17,
     "metadata": {},
     "output_type": "execute_result"
    }
   ],
   "source": [
    "myMinus(num1=100, num2=20)"
   ]
  },
  {
   "cell_type": "code",
   "execution_count": 19,
   "metadata": {},
   "outputs": [
    {
     "data": {
      "text/plain": [
       "80"
      ]
     },
     "execution_count": 19,
     "metadata": {},
     "output_type": "execute_result"
    }
   ],
   "source": [
    "myMinus(num2=20, num1=100)"
   ]
  },
  {
   "cell_type": "markdown",
   "metadata": {},
   "source": [
    "## 6. 指定默认参数值\n",
    "当调用方没有提供对应的参数值时，你可以指定默认参数值。这个听起来很普通的特性实际上特别有用："
   ]
  },
  {
   "cell_type": "code",
   "execution_count": 21,
   "metadata": {
    "collapsed": true
   },
   "outputs": [],
   "source": [
    "def myMod(x, y=2):\n",
    "    return x % y"
   ]
  },
  {
   "cell_type": "code",
   "execution_count": 22,
   "metadata": {},
   "outputs": [
    {
     "data": {
      "text/plain": [
       "3"
      ]
     },
     "execution_count": 22,
     "metadata": {},
     "output_type": "execute_result"
    }
   ],
   "source": [
    "myMod(15,4)"
   ]
  },
  {
   "cell_type": "code",
   "execution_count": 23,
   "metadata": {},
   "outputs": [
    {
     "data": {
      "text/plain": [
       "1"
      ]
     },
     "execution_count": 23,
     "metadata": {},
     "output_type": "execute_result"
    }
   ],
   "source": [
    "myMod(15)"
   ]
  },
  {
   "cell_type": "markdown",
   "metadata": {},
   "source": [
    "回想一下print()函数，前面提到可以使用end=\"\"来使得打印出的内容不换行，end=\",\"来使得打印出的内容用逗号连接，猜猜看，print函数的参数定义中有些什么？"
   ]
  },
  {
   "cell_type": "code",
   "execution_count": 25,
   "metadata": {
    "collapsed": true
   },
   "outputs": [],
   "source": [
    "print?"
   ]
  },
  {
   "cell_type": "markdown",
   "metadata": {},
   "source": [
    "**扩展1:使用\\*收集位置参数**\n",
    "\n",
    "当参数被用在函数内部时， 星号将一组可变数量的位置参数集合成参数值的元组。在下面的例子中args 是传入到函数print_args() 的参数值的元组："
   ]
  },
  {
   "cell_type": "code",
   "execution_count": 26,
   "metadata": {
    "collapsed": true
   },
   "outputs": [],
   "source": [
    "def print_args(*args):\n",
    "    print('位置参数的元组:', args)"
   ]
  },
  {
   "cell_type": "code",
   "execution_count": 27,
   "metadata": {},
   "outputs": [
    {
     "name": "stdout",
     "output_type": "stream",
     "text": [
      "位置参数的元组: ()\n"
     ]
    }
   ],
   "source": [
    "print_args()"
   ]
  },
  {
   "cell_type": "code",
   "execution_count": 28,
   "metadata": {},
   "outputs": [
    {
     "name": "stdout",
     "output_type": "stream",
     "text": [
      "位置参数的元组: (3, 2, 1, 'wait!', 'uh...')\n"
     ]
    }
   ],
   "source": [
    "print_args(3, 2, 1, 'wait!', 'uh...')"
   ]
  },
  {
   "cell_type": "markdown",
   "metadata": {},
   "source": [
    "这样的技巧对于编写像print() 一样接受**可变数量的参数**的函数是非常有用的。如果你的函数同时有限定的位置参数，那么*args 会收集剩下的参数："
   ]
  },
  {
   "cell_type": "code",
   "execution_count": 29,
   "metadata": {
    "collapsed": true
   },
   "outputs": [],
   "source": [
    "def print_more(required1, required2, *args):\n",
    "    print('Need this one:', required1)\n",
    "    print('Need this one too:', required2)\n",
    "    print('All the rest:', args)"
   ]
  },
  {
   "cell_type": "code",
   "execution_count": 30,
   "metadata": {},
   "outputs": [
    {
     "name": "stdout",
     "output_type": "stream",
     "text": [
      "Need this one: cap\n",
      "Need this one too: gloves\n",
      "All the rest: ('scarf', 'monocle', 'mustache wax')\n"
     ]
    }
   ],
   "source": [
    "print_more('cap', 'gloves', 'scarf', 'monocle', 'mustache wax')"
   ]
  },
  {
   "cell_type": "markdown",
   "metadata": {},
   "source": [
    "**扩展2:使用\\*\\*收集关键字参数**\n",
    "\n",
    "使用两个星号可以将参数收集到一个字典中，参数的名字是字典的键，对应参数的值是字典的值。下面的例子定义了函数print_kwargs()，然后打印输出它的关键字参数："
   ]
  },
  {
   "cell_type": "code",
   "execution_count": 31,
   "metadata": {
    "collapsed": true
   },
   "outputs": [],
   "source": [
    "def print_kwargs(**kwargs):\n",
    "    print('Keyword arguments:', kwargs)"
   ]
  },
  {
   "cell_type": "code",
   "execution_count": 32,
   "metadata": {},
   "outputs": [
    {
     "name": "stdout",
     "output_type": "stream",
     "text": [
      "Keyword arguments: {'wine': 'merlot', 'entree': 'mutton', 'dessert': 'macaroon'}\n"
     ]
    }
   ],
   "source": [
    "print_kwargs(wine='merlot', entree='mutton', dessert='macaroon')"
   ]
  },
  {
   "cell_type": "markdown",
   "metadata": {},
   "source": [
    "在函数内部，kwargs 是一个字典。\n",
    "\n",
    "如果你把带有\\*args 和\\*\\*kwargs 的位置参数混合起来，它们会按照顺序解析。和args一样，调用时不需要参数kwargs，这也是常见用法。"
   ]
  },
  {
   "attachments": {},
   "cell_type": "markdown",
   "metadata": {},
   "source": [
    "## 7. 局部和全局作用域\n",
    "在被调用函数内赋值的变元和变量，处于该函数的“局部作用域”。在所有函数之外赋值的变量，属于“全局作用域”。处于局部作用域的变量，被称为“***局部变量***”。处于全局作用域的变量，被称为“***全局变量***”。一个变量必是其中一种，不能既是局部的又是全局的。\n",
    "\n",
    "* 全局变量指在函数之外定义的变量，一般没有缩进，在程序执行全过程有效。\n",
    "* 局部变量指在函数内部使用的变量，仅在函数内部有效，**当函数退出时变量将不存在**。"
   ]
  },
  {
   "cell_type": "markdown",
   "metadata": {},
   "source": [
    "### 局部变量不能在全局作用域内使用"
   ]
  },
  {
   "cell_type": "code",
   "execution_count": 37,
   "metadata": {},
   "outputs": [
    {
     "name": "stdout",
     "output_type": "stream",
     "text": [
      "knock~knock~\n"
     ]
    }
   ],
   "source": [
    "n = 1    #n是全局变量\n",
    "def func(a, b):\n",
    "    c = a * b     #c是局部变量，a和b作为函数参数也是局部变量\n",
    "    return c\n",
    "s = func(\"knock~\", 2)\n",
    "print(s)\n",
    "#print(c)  #这句会发生错误"
   ]
  },
  {
   "cell_type": "markdown",
   "metadata": {},
   "source": [
    "发生错误是因为，c变量只属于func()调用所创建的局部作用域。在程序执行从func返回后，该局部作用域就被销毁了，不再有名为c的变量。所以当程序试图执行print(c)，Python就报错，说c没有定义。"
   ]
  },
  {
   "cell_type": "markdown",
   "metadata": {},
   "source": [
    "### 全局变量可以在局部作用域中读取"
   ]
  },
  {
   "cell_type": "code",
   "execution_count": 40,
   "metadata": {},
   "outputs": [
    {
     "name": "stdout",
     "output_type": "stream",
     "text": [
      "knock~knock~knock~knock~knock~knock~knock~knock~knock~knock~knock~knock~knock~knock~knock~knock~knock~knock~knock~knock~\n"
     ]
    }
   ],
   "source": [
    "n = 3    #n是全局变量\n",
    "def func(a, b):\n",
    "    if n < b:\n",
    "        c = a * b     #c是局部变量，a和b作为函数参数也是局部变量\n",
    "    else:\n",
    "        c = a * n\n",
    "    return c\n",
    "s = func(\"knock~\", 20)\n",
    "#s = func(\"knock~\", 2)\n",
    "print(s)"
   ]
  },
  {
   "cell_type": "markdown",
   "metadata": {},
   "source": [
    "### 名称相同的局部变量和全局变量\n",
    "要想生活简单，就要避免局部变量与全局变量或其他局部变量同名。但在技术上，在Python 中让局部变量和全局变量同名是完全合法的。看看下面的例子："
   ]
  },
  {
   "cell_type": "code",
   "execution_count": 41,
   "metadata": {
    "scrolled": true
   },
   "outputs": [
    {
     "name": "stdout",
     "output_type": "stream",
     "text": [
      "knock~knock~ 1\n"
     ]
    }
   ],
   "source": [
    "n = 1    #n是全局变量\n",
    "def func(a, b):\n",
    "    n = b         #修改n的值\n",
    "    c = a * b     #c是局部变量，a和b作为函数参数也是局部变量\n",
    "    return c\n",
    "s = func(\"knock~\", 2)\n",
    "print(s, n)"
   ]
  },
  {
   "attachments": {},
   "cell_type": "markdown",
   "metadata": {},
   "source": [
    "函数func()内部使用了变量n，并且将变量参数b赋值给变量n，为何全局变量n值没有改变？其实，这里有两个n，一个是全局变量n，一个是函数里面的局部变量n。\n",
    "\n",
    "因为这2个独立的变量都有相同的名字，追踪某一个时刻使用的是哪个变量，可能比较麻烦。这就是应该避免在不同作用域内使用相同变量名的原因。"
   ]
  },
  {
   "attachments": {},
   "cell_type": "markdown",
   "metadata": {},
   "source": [
    "### global 语句\n",
    "如果需要在一个函数内修改全局变量，就使用global语句。如果希望让func()函数将n当作全局变量，需要在变量n使用前显式声明该变量为全局变量，代码如下:"
   ]
  },
  {
   "cell_type": "code",
   "execution_count": 42,
   "metadata": {},
   "outputs": [
    {
     "name": "stdout",
     "output_type": "stream",
     "text": [
      "knock~knock~ 2\n"
     ]
    }
   ],
   "source": [
    "n = 1    #n是全局变量\n",
    "def func(a, b):\n",
    "    global n\n",
    "    n = b         #修改n的值\n",
    "    c = a * b     #c是局部变量，a和b作为函数参数也是局部变量\n",
    "    return c\n",
    "s = func(\"knock~\", 2)\n",
    "print(s, n)"
   ]
  },
  {
   "attachments": {},
   "cell_type": "markdown",
   "metadata": {},
   "source": [
    "### Python函数对变量的作用遵守如下原则：\n",
    "* 简单数据类型变量无论是否与全局变量重名，仅在函数内部创建和使用，函数退出后变量被释放；\n",
    "* 简单数据类型变量在用global保留字声明后，作为全局变量；\n",
    "* 对于组合数据类型的全局变量，如果在函数内部没有被真实创建的同名变量，则函数内部可直接使用并修改全局变量的值；\n",
    "* 如果函数内部真实创建了组合数据类型变量，无论是否有同名全局变量，函数仅对局部变量进行操作。\n",
    "\n",
    "组合数据类型将在下一章节介绍。"
   ]
  },
  {
   "attachments": {},
   "cell_type": "markdown",
   "metadata": {},
   "source": [
    "## 8. 匿名函数：lambda()函数\n",
    "Python 中，lambda 函数是用一个语句表达的匿名函数。可以用它来代替小的函数。\n",
    "\n",
    "匿名函数并非没有名字，而是将函数名作为函数结果返回，如下：\n",
    "```Python\n",
    "<函数名> = lambda <参数列表>: <表达式>\n",
    "```\n",
    "\n",
    "lambda函数与正常函数一样，等价于下面形式：\n",
    "```Python\n",
    "def <函数名>(<参数列表>):\n",
    "     return <表达式>\n",
    "```\n",
    "\n",
    "简单说，lambda函数用于定义简单的、**能够在一行内表示**的函数，**返回一个函数类型**，实例如下:"
   ]
  },
  {
   "cell_type": "code",
   "execution_count": 43,
   "metadata": {
    "scrolled": true
   },
   "outputs": [
    {
     "name": "stdout",
     "output_type": "stream",
     "text": [
      "<class 'function'>\n",
      "30\n"
     ]
    }
   ],
   "source": [
    "f = lambda x, y : x + y\n",
    "print(type(f))\n",
    "print(f(10, 20))"
   ]
  },
  {
   "cell_type": "code",
   "execution_count": 44,
   "metadata": {},
   "outputs": [
    {
     "name": "stdout",
     "output_type": "stream",
     "text": [
      "30\n"
     ]
    }
   ],
   "source": [
    "def myAdd(x, y):\n",
    "    return x + y\n",
    "print(myAdd(10, 20))"
   ]
  },
  {
   "cell_type": "markdown",
   "metadata": {},
   "source": [
    "通常，使用实际的函数（例如myAdd()）会比使用lambda更清晰明了。但是，当需要定义很多小的函数以及记住它们的名字时，lambda会非常有用。lambda函数通常也用于作为其他函数的参数，体会一下下面的这个例子："
   ]
  },
  {
   "cell_type": "code",
   "execution_count": 45,
   "metadata": {},
   "outputs": [
    {
     "name": "stdout",
     "output_type": "stream",
     "text": [
      "['apple', 'lemon', 'orange', 'watermelon']\n"
     ]
    }
   ],
   "source": [
    "myList = ['apple', 'watermelon', 'orange', 'lemon']\n",
    "myList.sort()\n",
    "print(myList)"
   ]
  },
  {
   "cell_type": "code",
   "execution_count": 46,
   "metadata": {},
   "outputs": [
    {
     "name": "stdout",
     "output_type": "stream",
     "text": [
      "['watermelon', 'lemon', 'apple', 'orange']\n"
     ]
    }
   ],
   "source": [
    "myList = ['apple', 'watermelon', 'orange', 'lemon']\n",
    "myList.sort(key=lambda x:x[1])\n",
    "print(myList)"
   ]
  },
  {
   "cell_type": "markdown",
   "metadata": {},
   "source": [
    "上面的例子中，列表排序的时候传递了一个lambda匿名函数，看到结果了吗？从结果猜猜做了什么？"
   ]
  },
  {
   "attachments": {},
   "cell_type": "markdown",
   "metadata": {},
   "source": [
    "## 9. 函数的递归\n",
    "函数作为一种代码封装，可以被其他程序调用，当然，也可以被函数内部代码调用。这种函数定义中调用函数自身的方式称为<font color=\"red\">递归</font>。就像一个人站在装满镜子的房间中，看到的影像就是递归的结果。递归在数学和计算机应用上非常强大，能够非常简洁的解决重要问题。\n",
    "\n",
    "数学上有个经典的递归例子叫阶乘，阶乘通常定义为：<br>\n",
    "$n! = n(n-1)(n-2)...1$\n",
    "\n",
    "这个关系给出了另一种方式表达阶乘的方式：<br>\n",
    "$n! = \n",
    "\\begin{cases}\n",
    "1 & \\text{n=0} \\\\\n",
    "n(n-1)! & \\text{otherwise} \n",
    "\\end{cases}$\n",
    "\n",
    "阶乘的例子揭示了递归的2个关键特征：<br>\n",
    "（1）存在一个或多个<font color=red>基例</font>，基例不需要再次递归，它是确定的表达式；<br>\n",
    "（2）所有递归链要以一个或多个基例结尾。"
   ]
  },
  {
   "attachments": {},
   "cell_type": "markdown",
   "metadata": {},
   "source": [
    "### 阶乘的计算:\n",
    "根据用户输入的整数n，计算并输出n的阶乘值。"
   ]
  },
  {
   "cell_type": "code",
   "execution_count": 52,
   "metadata": {
    "scrolled": true
   },
   "outputs": [
    {
     "name": "stdout",
     "output_type": "stream",
     "text": [
      "请输入一个整数: 5\n",
      "120\n"
     ]
    }
   ],
   "source": [
    "def fact(n):\n",
    "    if n == 0:\n",
    "        return 1\n",
    "    else:\n",
    "        return n * fact(n-1)\n",
    "num = eval(input(\"请输入一个整数: \"))\n",
    "print(fact(abs(int(num))))"
   ]
  },
  {
   "attachments": {},
   "cell_type": "markdown",
   "metadata": {},
   "source": [
    "<img src=\"Images/factorial.png\" width=\"80%\">"
   ]
  },
  {
   "attachments": {},
   "cell_type": "markdown",
   "metadata": {},
   "source": [
    "### 字符串反转:\n",
    "对于用户输入的字符串s，输出反转后的字符串。\n",
    "\n",
    "解决这个问题的基本思想是把字符串看作一个递归对象。"
   ]
  },
  {
   "cell_type": "code",
   "execution_count": 55,
   "metadata": {
    "scrolled": true
   },
   "outputs": [
    {
     "ename": "RecursionError",
     "evalue": "maximum recursion depth exceeded",
     "output_type": "error",
     "traceback": [
      "\u001b[1;31m---------------------------------------------------------------------------\u001b[0m",
      "\u001b[1;31mRecursionError\u001b[0m                            Traceback (most recent call last)",
      "\u001b[1;32m<ipython-input-55-74f5c92adb66>\u001b[0m in \u001b[0;36m<module>\u001b[1;34m()\u001b[0m\n\u001b[0;32m      1\u001b[0m \u001b[1;32mdef\u001b[0m \u001b[0mreverse\u001b[0m\u001b[1;33m(\u001b[0m\u001b[0ms\u001b[0m\u001b[1;33m)\u001b[0m\u001b[1;33m:\u001b[0m\u001b[1;33m\u001b[0m\u001b[0m\n\u001b[0;32m      2\u001b[0m     \u001b[1;32mreturn\u001b[0m \u001b[0mreverse\u001b[0m\u001b[1;33m(\u001b[0m\u001b[0ms\u001b[0m\u001b[1;33m[\u001b[0m\u001b[1;36m1\u001b[0m\u001b[1;33m:\u001b[0m\u001b[1;33m]\u001b[0m\u001b[1;33m)\u001b[0m \u001b[1;33m+\u001b[0m \u001b[0ms\u001b[0m\u001b[1;33m[\u001b[0m\u001b[1;36m0\u001b[0m\u001b[1;33m]\u001b[0m\u001b[1;33m\u001b[0m\u001b[0m\n\u001b[1;32m----> 3\u001b[1;33m \u001b[0mreverse\u001b[0m\u001b[1;33m(\u001b[0m\u001b[1;34m\"ABC\"\u001b[0m\u001b[1;33m)\u001b[0m\u001b[1;33m\u001b[0m\u001b[0m\n\u001b[0m",
      "\u001b[1;32m<ipython-input-55-74f5c92adb66>\u001b[0m in \u001b[0;36mreverse\u001b[1;34m(s)\u001b[0m\n\u001b[0;32m      1\u001b[0m \u001b[1;32mdef\u001b[0m \u001b[0mreverse\u001b[0m\u001b[1;33m(\u001b[0m\u001b[0ms\u001b[0m\u001b[1;33m)\u001b[0m\u001b[1;33m:\u001b[0m\u001b[1;33m\u001b[0m\u001b[0m\n\u001b[1;32m----> 2\u001b[1;33m     \u001b[1;32mreturn\u001b[0m \u001b[0mreverse\u001b[0m\u001b[1;33m(\u001b[0m\u001b[0ms\u001b[0m\u001b[1;33m[\u001b[0m\u001b[1;36m1\u001b[0m\u001b[1;33m:\u001b[0m\u001b[1;33m]\u001b[0m\u001b[1;33m)\u001b[0m \u001b[1;33m+\u001b[0m \u001b[0ms\u001b[0m\u001b[1;33m[\u001b[0m\u001b[1;36m0\u001b[0m\u001b[1;33m]\u001b[0m\u001b[1;33m\u001b[0m\u001b[0m\n\u001b[0m\u001b[0;32m      3\u001b[0m \u001b[0mreverse\u001b[0m\u001b[1;33m(\u001b[0m\u001b[1;34m\"ABC\"\u001b[0m\u001b[1;33m)\u001b[0m\u001b[1;33m\u001b[0m\u001b[0m\n",
      "... last 1 frames repeated, from the frame below ...\n",
      "\u001b[1;32m<ipython-input-55-74f5c92adb66>\u001b[0m in \u001b[0;36mreverse\u001b[1;34m(s)\u001b[0m\n\u001b[0;32m      1\u001b[0m \u001b[1;32mdef\u001b[0m \u001b[0mreverse\u001b[0m\u001b[1;33m(\u001b[0m\u001b[0ms\u001b[0m\u001b[1;33m)\u001b[0m\u001b[1;33m:\u001b[0m\u001b[1;33m\u001b[0m\u001b[0m\n\u001b[1;32m----> 2\u001b[1;33m     \u001b[1;32mreturn\u001b[0m \u001b[0mreverse\u001b[0m\u001b[1;33m(\u001b[0m\u001b[0ms\u001b[0m\u001b[1;33m[\u001b[0m\u001b[1;36m1\u001b[0m\u001b[1;33m:\u001b[0m\u001b[1;33m]\u001b[0m\u001b[1;33m)\u001b[0m \u001b[1;33m+\u001b[0m \u001b[0ms\u001b[0m\u001b[1;33m[\u001b[0m\u001b[1;36m0\u001b[0m\u001b[1;33m]\u001b[0m\u001b[1;33m\u001b[0m\u001b[0m\n\u001b[0m\u001b[0;32m      3\u001b[0m \u001b[0mreverse\u001b[0m\u001b[1;33m(\u001b[0m\u001b[1;34m\"ABC\"\u001b[0m\u001b[1;33m)\u001b[0m\u001b[1;33m\u001b[0m\u001b[0m\n",
      "\u001b[1;31mRecursionError\u001b[0m: maximum recursion depth exceeded"
     ]
    }
   ],
   "source": [
    "def reverse(s):\n",
    "    return reverse(s[1:]) + s[0]\n",
    "reverse(\"ABC\")"
   ]
  },
  {
   "attachments": {},
   "cell_type": "markdown",
   "metadata": {},
   "source": [
    "观察这个函数的工作过程。s[0]是首字符，s[1:]是剩余字符串，将它们反向连接，可以得到反转字符串。执行这个程序，出错了，为什么？？？"
   ]
  },
  {
   "cell_type": "markdown",
   "metadata": {},
   "source": [
    "***PS. 利用字符串切片，怎么实现字符串反转？***"
   ]
  },
  {
   "attachments": {},
   "cell_type": "markdown",
   "metadata": {},
   "source": [
    "## 10. 异常处理机制\n",
    "观察下面这段小程序："
   ]
  },
  {
   "cell_type": "code",
   "execution_count": 57,
   "metadata": {},
   "outputs": [
    {
     "name": "stdout",
     "output_type": "stream",
     "text": [
      "请输入一个整数：No\n"
     ]
    },
    {
     "ename": "ValueError",
     "evalue": "invalid literal for int() with base 10: 'No'",
     "output_type": "error",
     "traceback": [
      "\u001b[1;31m---------------------------------------------------------------------------\u001b[0m",
      "\u001b[1;31mValueError\u001b[0m                                Traceback (most recent call last)",
      "\u001b[1;32m<ipython-input-57-15f307c24043>\u001b[0m in \u001b[0;36m<module>\u001b[1;34m()\u001b[0m\n\u001b[1;32m----> 1\u001b[1;33m \u001b[0mnum\u001b[0m \u001b[1;33m=\u001b[0m \u001b[0mint\u001b[0m\u001b[1;33m(\u001b[0m\u001b[0minput\u001b[0m\u001b[1;33m(\u001b[0m\u001b[1;34m\"请输入一个整数：\"\u001b[0m\u001b[1;33m)\u001b[0m\u001b[1;33m)\u001b[0m\u001b[1;33m\u001b[0m\u001b[0m\n\u001b[0m\u001b[0;32m      2\u001b[0m \u001b[0mprint\u001b[0m\u001b[1;33m(\u001b[0m\u001b[0mnum\u001b[0m \u001b[1;33m**\u001b[0m \u001b[1;36m2\u001b[0m\u001b[1;33m)\u001b[0m\u001b[1;33m\u001b[0m\u001b[0m\n",
      "\u001b[1;31mValueError\u001b[0m: invalid literal for int() with base 10: 'No'"
     ]
    }
   ],
   "source": [
    "num = int(input(\"请输入一个整数：\"))\n",
    "print(num ** 2)"
   ]
  },
  {
   "attachments": {},
   "cell_type": "markdown",
   "metadata": {},
   "source": [
    "Python解释器返回了异常信息，告诉我们错误出现在第1行，是ValueError（值错误），具体原因是int()函数不能将'No'这个无效的字符串转换为十进制的整数。\n",
    "\n",
    "在异常可能发生的地方添加异常处理程序，对于用户明确错误是一种好方法。\n",
    "\n",
    "Python异常信息中最重要的部分是异常类型，它表明了发生异常的原因，也是程序处理异常的依据。\n",
    "\n",
    "Python使用try-except语句实现异常处理，基本的语法格式如下：\n",
    "```Python\n",
    "try:\n",
    "\t<语句块1>\n",
    "except <异常类型>:\n",
    "\t<语句块2>\n",
    "```\n"
   ]
  },
  {
   "cell_type": "code",
   "execution_count": 59,
   "metadata": {},
   "outputs": [
    {
     "name": "stdout",
     "output_type": "stream",
     "text": [
      "请输入一个整数: No\n",
      "输入错误，请输入一个整数!\n"
     ]
    }
   ],
   "source": [
    "try:\n",
    "    num = int(input(\"请输入一个整数: \"))\n",
    "    print(num**2)\n",
    "except ValueError:\n",
    "     print(\"输入错误，请输入一个整数!\")"
   ]
  },
  {
   "attachments": {},
   "cell_type": "markdown",
   "metadata": {},
   "source": [
    "### 异常的高级用法\n",
    "try-except语句可以支持多个except语句，语法格式如下：\n",
    "```Python\n",
    "try:\n",
    "\t<语句块1>\n",
    "except <异常类型1>:\n",
    "\t<语句块2>\n",
    "….\n",
    "except <异常类型N>:\n",
    "\t<语句块N+1>\n",
    "except:\n",
    "\t<语句块N+2>\n",
    "```\n",
    "最后一个except语句没有指定任何类型，表示它对应的语句块可以处理所有其他异常。这个过程与if-elif-else语句类似，是分支结构的一种表达方式，一段代码如下:"
   ]
  },
  {
   "cell_type": "code",
   "execution_count": 61,
   "metadata": {},
   "outputs": [
    {
     "name": "stdout",
     "output_type": "stream",
     "text": [
      "请输入一个整数: 100\n",
      "其他错误\n"
     ]
    }
   ],
   "source": [
    "# 分别输入No和100试试看：\n",
    "try:\n",
    "    alp = \"ABCDEFGHIJKLMNOPQRSTUVWXYZ\"\n",
    "    idx = int(input(\"请输入一个整数: \"))\n",
    "    print(alp[idx])\n",
    "except ValueError:\n",
    "    print(\"输入错误，请输入一个整数!\")\n",
    "except:\n",
    "    print(\"其他错误\")"
   ]
  },
  {
   "attachments": {},
   "cell_type": "markdown",
   "metadata": {},
   "source": [
    "除了try和except保留字外，异常语句还可以与else和finally保留字配合使用，语法格式如下：\n",
    "```Python\n",
    "try:\n",
    "\t<语句块1>\n",
    "except <异常类型1>:\n",
    "\t<语句块2>\n",
    "else:\n",
    "\t<语句块3>\n",
    "finally:\n",
    "\t<语句块4>\n",
    "```\n",
    "\n",
    "<img src=\"Images/exception1.png\" width=\"80%\">\n",
    "\n",
    "采用else和finally修改代码如下:"
   ]
  },
  {
   "cell_type": "code",
   "execution_count": 63,
   "metadata": {},
   "outputs": [
    {
     "name": "stdout",
     "output_type": "stream",
     "text": [
      "请输入一个整数: No\n",
      "输入错误，请输入一个整数!\n",
      "程序执行完毕，不知道是否发生了异常\n"
     ]
    }
   ],
   "source": [
    "# 分别输入No和5试试看：\n",
    "try:\n",
    "    alp = \"ABCDEFGHIJKLMNOPQRSTUVWXYZ\"\n",
    "    idx = eval(input(\"请输入一个整数: \"))\n",
    "    print(alp[idx])\n",
    "except NameError:\n",
    "    print(\"输入错误，请输入一个整数!\")\n",
    "else:\n",
    "    print(\"没有发生异常\")\n",
    "finally:\n",
    "    print(\"程序执行完毕，不知道是否发生了异常\")\n"
   ]
  },
  {
   "cell_type": "markdown",
   "metadata": {},
   "source": [
    "## 11. 小结\n",
    "函数是将代码逻辑分组的主要方式。因为函数中的变量存在于它们自己的局部作用域内，所以一个函数中的代码不能直接影响其他函数中变量的值。这限制了哪\n",
    "些代码才能改变变量的值，对于调试代码是很有帮助的。\n",
    "\n",
    "函数是很好的工具，帮助你组织代码。你可以认为他们是黑盒。它们以参数的形式接收输入，以返回值的形式产生输出。它们内部的代码不会影响其他函数中的\n",
    "变量。\n",
    "\n",
    "在前面几章中，一个错误就可能导致程序崩溃。在本章中，你学习了try 和except\n",
    "语句，它们在检测到错误时会运行代码。这让程序在面对常见错误时更有灵活性。"
   ]
  },
  {
   "cell_type": "markdown",
   "metadata": {},
   "source": [
    "## 练习\n",
    "**(1)** 函数中的代码何时执行：在函数被定义时，还是在函数被调用时？<br>\n",
    "**(2)** 一个函数和一次函数调用有什么区别？<br>\n",
    "**(3)** 当函数调用返回时，局部作用域中的变量发生了什么？<br>\n",
    "**(4)** 如何强制函数中的一个变量指的是全局变量？<br>\n",
    "**(5)** 什么是返回值？返回值可以作为表达式的一部分吗？<br>\n",
    "**(6)** 如何防止程序在遇到错误时崩溃？<br>\n",
    "**(7)** try 子句中发生了什么？except 子句中发生了什么？<br>"
   ]
  },
  {
   "cell_type": "markdown",
   "metadata": {},
   "source": [
    "## 作业\n",
    "**(1) ** 定义函数，当只有一个参数时，输出行列数相同的田字格；当有两个参数时，分别作为行数和列数，输出对应田字格。每格的宽度为4个\"-\"，高度为2个\"|\"。**程序代码及调用运行结果**截图应该类似于下图：<br>\n",
    "<img src=\"Images/homework51.png\" width=80%><br>\n",
    "**(2) ** 将课本P151页5.2，5.3，5.4的**程序代码及调用运行结果**分别截图保存。\n",
    "\n",
    "将4个截图作为第4次作业的附件，发送到xzl_swufe@163.com。<br><br>\n",
    "<b><font color=red>邮件标题必须类似于：作业4_12345678。</font>其中12345678需要替换成你的学号。<br><br><b><font color=red>邮件标题必须类似于：作业4_12345678。</font>其中12345678需要替换成你的学号。<br><br><b><font color=red>邮件标题必须类似于：作业4_12345678。</font>其中12345678需要替换成你的学号。"
   ]
  },
  {
   "cell_type": "code",
   "execution_count": null,
   "metadata": {
    "collapsed": true
   },
   "outputs": [],
   "source": []
  }
 ],
 "metadata": {
  "kernelspec": {
   "display_name": "Python 3",
   "language": "python",
   "name": "python3"
  },
  "language_info": {
   "codemirror_mode": {
    "name": "ipython",
    "version": 3
   },
   "file_extension": ".py",
   "mimetype": "text/x-python",
   "name": "python",
   "nbconvert_exporter": "python",
   "pygments_lexer": "ipython3",
   "version": "3.6.2"
  }
 },
 "nbformat": 4,
 "nbformat_minor": 2
}
