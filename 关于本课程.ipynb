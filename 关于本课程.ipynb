{
 "cells": [
  {
   "cell_type": "markdown",
   "metadata": {},
   "source": [
    "<table border=\"0\" width=\"100%\"><tr><td><p align=\"left\"><img src=\"Images/logo.png\" align=\"left\" width=\"300\"></p></td><td><font size=\"5\"><B>Python程序设计与应用</B></font></td></tr></table>"
   ]
  },
  {
   "cell_type": "markdown",
   "metadata": {},
   "source": [
    "# <div align=center>关于本课程</div>"
   ]
  },
  {
   "attachments": {},
   "cell_type": "markdown",
   "metadata": {},
   "source": [
    "# 1. 计算机公共基础课程：\n",
    "* **第一学期**：学计算机基础（解决计算机操作的问题）\n",
    "* **第二学期**：程序设计（解决计算机应用的问题）"
   ]
  },
  {
   "attachments": {},
   "cell_type": "markdown",
   "metadata": {},
   "source": [
    "# 2. 课程考核\n",
    "### 期末考试(70%)：\n",
    "* **考核内容：** 教学内容中需要理解和掌握的内容；考察学生的自主学习能力；考察学生的程序设计应用能力\n",
    "* **考核方式：** <font color=red>笔试（闭卷）</font>，由课程组统一组织命题。\n",
    "* **占比分值：** 70分\n",
    "\n",
    "### 平时成绩(30%)：\n",
    "\n",
    "|考试形式|说明|考察方式|分值|\n",
    "|----|:--|----|--|\n",
    "|教学过程|包括：考勤、讨论、回答问题、课堂作业、在线测试|方式由任课老师自主决定|5分|\n",
    "|课堂测试|不少于3次的课堂随机测试和1次期中考试|方式由任课老师自主决定|15分|\n",
    "|课后作业|全学期不少于5次|方式由任课老师自主决定|10分|"
   ]
  },
  {
   "cell_type": "markdown",
   "metadata": {},
   "source": [
    "# 3. 联系方式\n",
    "### 谢志龙\n",
    "### 作业邮箱：xzl_swufe@163.com\n",
    "### QQ群："
   ]
  }
 ],
 "metadata": {
  "kernelspec": {
   "display_name": "Python 3",
   "language": "python",
   "name": "python3"
  },
  "language_info": {
   "codemirror_mode": {
    "name": "ipython",
    "version": 3
   },
   "file_extension": ".py",
   "mimetype": "text/x-python",
   "name": "python",
   "nbconvert_exporter": "python",
   "pygments_lexer": "ipython3",
   "version": "3.6.2"
  }
 },
 "nbformat": 4,
 "nbformat_minor": 2
}
