{
 "cells": [
  {
   "cell_type": "markdown",
   "metadata": {
    "collapsed": true
   },
   "source": [
    "<table border=0 width=\"100%\"><tr><td><p align=\"left\"><img src=\"Images/logo.png\" align=\"left\" width=300></p></td><td><font size=5><B>Python程序设计与应用</B></font></td></tr></table>"
   ]
  },
  {
   "cell_type": "markdown",
   "metadata": {},
   "source": [
    "# <div align='center'>第二部分 Python基础</div>"
   ]
  },
  {
   "cell_type": "markdown",
   "metadata": {},
   "source": [
    "## 知识点\n",
    "- 数据类型的概念。\n",
    "- 常量、变量、函数（或方法）、运算符、表达式的概念。\n",
    "- 数据输入、输出、赋值的方法、类型和作用。"
   ]
  },
  {
   "cell_type": "markdown",
   "metadata": {},
   "source": [
    "## 预习\n",
    "* 第二章：Python程序实列解析\n",
    "* 第三章：基本数据类型"
   ]
  },
  {
   "cell_type": "markdown",
   "metadata": {},
   "source": [
    "## 作业\n",
    "(1) 复习第二章：程序设计基本方法。<br>"
   ]
  },
  {
   "cell_type": "markdown",
   "metadata": {},
   "source": [
    "## 1. 表达式"
   ]
  },
  {
   "cell_type": "code",
   "execution_count": null,
   "metadata": {
    "collapsed": true
   },
   "outputs": [],
   "source": [
    "2 + 2"
   ]
  },
  {
   "cell_type": "markdown",
   "metadata": {},
   "source": [
    "上面Cell中的 2 + 2 在Python中，称为表达式，它是语言中最基本的编程结构。\n",
    "\n",
    "**表达式**包含“值”（例如2）和“操作符”（例如+），并且总是可以求值（也就是归约）为单个值。\n",
    "\n",
    "Python 表达式中也可以使用大量其他操作符。例如，下表列出了Python 的所有数学操作符。\n",
    "\n",
    "|操作符|操作|例子|求值为|\n",
    "|---|:--|--|---|\n",
    "|**|指数|2 ** 3|8|\n",
    "|%|取模/取余数|22 % 8|6|\n",
    "|//|整除/商数取整|22 // 8|2|\n",
    "|/|除法|22 / 8|2.75|\n",
    "|-|减法|5 - 2|3|\n",
    "|+|加法|2 + 2|4|\n",
    "数学操作符的操作顺序（也称为“**优先级**”）与数学中类似。\\*\\*操作符首先求值，接下来是\\*、/、//和%操作符，从左到右。+和-操作符最后求值，也是从左到右。\n",
    "一般来说都会用**括号**来改变通常的优先级。"
   ]
  },
  {
   "cell_type": "code",
   "execution_count": null,
   "metadata": {
    "collapsed": true
   },
   "outputs": [],
   "source": [
    "2 + 3 * 6"
   ]
  },
  {
   "cell_type": "code",
   "execution_count": null,
   "metadata": {
    "collapsed": true
   },
   "outputs": [],
   "source": [
    "(2 + 3) * 6"
   ]
  },
  {
   "cell_type": "code",
   "execution_count": null,
   "metadata": {
    "collapsed": true
   },
   "outputs": [],
   "source": [
    "48565878 * 578453"
   ]
  },
  {
   "cell_type": "code",
   "execution_count": null,
   "metadata": {
    "collapsed": true
   },
   "outputs": [],
   "source": [
    "2 ** 8"
   ]
  },
  {
   "cell_type": "code",
   "execution_count": null,
   "metadata": {
    "collapsed": true
   },
   "outputs": [],
   "source": [
    "23 / 7"
   ]
  },
  {
   "cell_type": "code",
   "execution_count": null,
   "metadata": {
    "collapsed": true
   },
   "outputs": [],
   "source": [
    "23 // 7"
   ]
  },
  {
   "cell_type": "code",
   "execution_count": null,
   "metadata": {
    "collapsed": true
   },
   "outputs": [],
   "source": [
    "23 % 7"
   ]
  },
  {
   "cell_type": "code",
   "execution_count": null,
   "metadata": {
    "collapsed": true
   },
   "outputs": [],
   "source": [
    "(5 - 1) * ((7 + 1) / (3 - 1))"
   ]
  },
  {
   "cell_type": "markdown",
   "metadata": {},
   "source": [
    "在编写程序过程中，如果你输入错误的 Python指令，Python 也不能理解，就会显示出错误信息(**Bug**)，像下面这样："
   ]
  },
  {
   "cell_type": "code",
   "execution_count": null,
   "metadata": {
    "collapsed": true
   },
   "outputs": [],
   "source": [
    "10 + "
   ]
  },
  {
   "cell_type": "code",
   "execution_count": null,
   "metadata": {
    "collapsed": true
   },
   "outputs": [],
   "source": [
    "10 + 5 + * 20"
   ]
  },
  {
   "cell_type": "markdown",
   "metadata": {},
   "source": [
    "### 课堂练习：\n",
    "请写出员工10932和10933的应纳税额的计算表达式：<br>\n",
    "<img src='Images/salary.png'><br>\n",
    "应纳税所得额计算方法：\n",
    "**<center>应纳税所得额=正常收入 - 5000元免征额 - 五险一金 - 专项附加扣除 - 其他扣除</center>**"
   ]
  },
  {
   "cell_type": "markdown",
   "metadata": {},
   "source": [
    "## 2. 常见数字类型\n",
    "表达式是值和操作符的组合，它们可以通过求值成为单个值。“数据类型”是一类值，**每个值都只属于一种数据类型。**不同数据类型的数据可以进行的运算是不同的。\n",
    "\n",
    "常见的数据类型有：\n",
    "\n",
    "|数字类型|例子|\n",
    "|:----|:--|\n",
    "|整型|-2, -1, 0, 1, 2, 3, 4, 5|\n",
    "|浮点型|-1.25, -1.0, -0.5, 0.0, 0.5, 1.0, 1.25|\n",
    "\n",
    "** 整数类型没有取值范围的限制。**"
   ]
  },
  {
   "cell_type": "code",
   "execution_count": null,
   "metadata": {
    "collapsed": true
   },
   "outputs": [],
   "source": [
    "2 ** 500"
   ]
  },
  {
   "cell_type": "code",
   "execution_count": null,
   "metadata": {
    "collapsed": true,
    "scrolled": true
   },
   "outputs": [],
   "source": [
    "2 ** (2 ** 15)"
   ]
  },
  {
   "cell_type": "markdown",
   "metadata": {},
   "source": [
    "** 浮点数类型**\n",
    "* 带有小数点及小数的数字。\n",
    "* Python语言中浮点数的数值范围存在限制，小数精度也存在限制。这种限制与在不同计算机系统有关。"
   ]
  },
  {
   "cell_type": "code",
   "execution_count": 19,
   "metadata": {},
   "outputs": [
    {
     "data": {
      "text/plain": [
       "sys.float_info(max=1.7976931348623157e+308, max_exp=1024, max_10_exp=308, min=2.2250738585072014e-308, min_exp=-1021, min_10_exp=-307, dig=15, mant_dig=53, epsilon=2.220446049250313e-16, radix=2, rounds=1)"
      ]
     },
     "execution_count": 19,
     "metadata": {},
     "output_type": "execute_result"
    }
   ],
   "source": [
    "import sys\n",
    "sys.float_info"
   ]
  },
  {
   "cell_type": "markdown",
   "metadata": {},
   "source": [
    "浮点数示例：\n",
    "* 0.0, -77., -2.17 \n",
    "* 96e4, 4.3e-3, 9.6E5  （科学计数法）\n",
    "* 科学计数法使用字母“e”或者“E”作为幂的符号，以10为基数。科学计数法含义如下：\n",
    " ```Python\n",
    " <a>e<b> = a * 10b\n",
    " ```"
   ]
  },
  {
   "cell_type": "code",
   "execution_count": 21,
   "metadata": {},
   "outputs": [
    {
     "data": {
      "text/plain": [
       "960000.0"
      ]
     },
     "execution_count": 21,
     "metadata": {},
     "output_type": "execute_result"
    }
   ],
   "source": [
    "96e4"
   ]
  },
  {
   "cell_type": "markdown",
   "metadata": {},
   "source": [
    "### 扩展阅读：\n",
    "在Python中，整数共有4中进制表示：十进制、二进制、八进制和十六进制。例如：\n",
    "* 1010, 99, -217 \n",
    "* 0x9a, -0X89   (0x, 0X开头表示16进制数) \n",
    "* 0b010, -0B101  (0b, 0B开头表示2进制数) \n",
    "* 0o123, -0O456  (0o, 0O开头表示8进制数)"
   ]
  },
  {
   "cell_type": "code",
   "execution_count": null,
   "metadata": {
    "collapsed": true
   },
   "outputs": [],
   "source": [
    "0b101 + 5"
   ]
  },
  {
   "cell_type": "markdown",
   "metadata": {},
   "source": [
    "*** 不同数字类型之间可以进行混合运算，运算后生成结果为<font color=red>最宽类型</font>。<br> ***\n",
    "** 整数宽度小于浮点数**<br><br>\n",
    "**  数字类型之间相互运算所生成的结果是“更宽”的类型，基本规则是：**\n",
    "* 整数之间运算，如果数学意义上的结果是小数，结果是浮点数；\n",
    "* 整数之间运算，如果数学意义上的结果是整数，结果是整数；\n",
    "* 整数和浮点数混合运算，输出结果是浮点数；"
   ]
  },
  {
   "cell_type": "code",
   "execution_count": 22,
   "metadata": {},
   "outputs": [
    {
     "data": {
      "text/plain": [
       "225.0"
      ]
     },
     "execution_count": 22,
     "metadata": {},
     "output_type": "execute_result"
    }
   ],
   "source": [
    "100 + 125.0"
   ]
  },
  {
   "cell_type": "markdown",
   "metadata": {},
   "source": [
    "Python解释器提供了一些内置函数，在这些内置函数之中，有6个函数与数值运算相关：<br>\n",
    "<img src='Images/digitFuncList.png' width=\"70%\"><br>"
   ]
  },
  {
   "cell_type": "code",
   "execution_count": 23,
   "metadata": {},
   "outputs": [
    {
     "data": {
      "text/plain": [
       "100"
      ]
     },
     "execution_count": 23,
     "metadata": {},
     "output_type": "execute_result"
    }
   ],
   "source": [
    "abs(-100)"
   ]
  },
  {
   "cell_type": "code",
   "execution_count": 24,
   "metadata": {},
   "outputs": [
    {
     "data": {
      "text/plain": [
       "(4, 1)"
      ]
     },
     "execution_count": 24,
     "metadata": {},
     "output_type": "execute_result"
    }
   ],
   "source": [
    "divmod(9,2)"
   ]
  },
  {
   "cell_type": "code",
   "execution_count": 26,
   "metadata": {},
   "outputs": [
    {
     "data": {
      "text/plain": [
       "500"
      ]
     },
     "execution_count": 26,
     "metadata": {},
     "output_type": "execute_result"
    }
   ],
   "source": [
    "max(12, 500, 2.0, 108.0)"
   ]
  },
  {
   "cell_type": "markdown",
   "metadata": {},
   "source": [
    "** 数字类型的转换**<br>\n",
    "数值运算操作符可以***隐式地***转换输出结果的数字类型：例如，两个整数采用运算符“/”的除法将可能输出浮点数结果。<br><br>\n",
    "此外，通过内置的数字类型转换函数可以显式地在数字类型之间进行转换：\n",
    "* int(x)，将x转换为整数，x可以是浮点数或字符串\n",
    "* float(x)，将x转换为浮点数，x可以是整数或字符串"
   ]
  },
  {
   "cell_type": "code",
   "execution_count": 27,
   "metadata": {
    "scrolled": true
   },
   "outputs": [
    {
     "data": {
      "text/plain": [
       "4"
      ]
     },
     "execution_count": 27,
     "metadata": {},
     "output_type": "execute_result"
    }
   ],
   "source": [
    "int(4.5) #直接去掉小数部分"
   ]
  },
  {
   "cell_type": "code",
   "execution_count": 29,
   "metadata": {
    "scrolled": false
   },
   "outputs": [
    {
     "data": {
      "text/plain": [
       "3000.0"
      ]
     },
     "execution_count": 29,
     "metadata": {},
     "output_type": "execute_result"
    }
   ],
   "source": [
    "float(3000) # 增加小数部分"
   ]
  },
  {
   "cell_type": "markdown",
   "metadata": {},
   "source": [
    "### 课堂练习：\n",
    "请将下列数学表达式用Python程序写出来，并运算结果：\n",
    "* $\\frac{2^{3} + 10 - 5 \\times 3}{7}$\n",
    "* $(2 + 5^{2})\\times (16 mod 7)/7$"
   ]
  },
  {
   "cell_type": "markdown",
   "metadata": {},
   "source": [
    "## 3.变量"
   ]
  },
  {
   "cell_type": "markdown",
   "metadata": {
    "collapsed": true
   },
   "source": [
    "在计算个人所得税时，先计算出应纳税所得额，再利用应纳税所得额获得税率及速算扣除数，最后利用应纳税所得额、税率和速算扣除数计算个人所得税。在程序设计中，有很多类似于应纳税所得额这样的中间值。你可以将中间值保存在一个位置，以备将来使用，这个位置就是**变量**。\n",
    "## 3.1 赋值语句\n",
    "用“赋值语句”将值保存在变量中。**赋值语句包含一个变量名、一个等号（称为赋值操作符），以及要存储的值**。如果输入赋值语句**spam = 42**，那么名为spam的变量将保存一个整型值42。可以将变量看成一个带标签的盒子（类似于Excel中的单元格），值放在其中，如下图所示：\n",
    "<img src='Images\\spamVar.png' width=20%>"
   ]
  },
  {
   "cell_type": "code",
   "execution_count": 1,
   "metadata": {
    "collapsed": true
   },
   "outputs": [],
   "source": [
    "spam = 42"
   ]
  },
  {
   "cell_type": "code",
   "execution_count": 2,
   "metadata": {},
   "outputs": [
    {
     "data": {
      "text/plain": [
       "42"
      ]
     },
     "execution_count": 2,
     "metadata": {},
     "output_type": "execute_result"
    }
   ],
   "source": [
    "spam"
   ]
  },
  {
   "cell_type": "code",
   "execution_count": 3,
   "metadata": {},
   "outputs": [
    {
     "ename": "SyntaxError",
     "evalue": "can't assign to literal (<ipython-input-3-57d673ef3e55>, line 1)",
     "output_type": "error",
     "traceback": [
      "\u001b[1;36m  File \u001b[1;32m\"<ipython-input-3-57d673ef3e55>\"\u001b[1;36m, line \u001b[1;32m1\u001b[0m\n\u001b[1;33m    40 = 42 #赋值语句的等号左边必须是变量\u001b[0m\n\u001b[1;37m                           ^\u001b[0m\n\u001b[1;31mSyntaxError\u001b[0m\u001b[1;31m:\u001b[0m can't assign to literal\n"
     ]
    }
   ],
   "source": [
    "42 = 10 #赋值语句的等号左边必须是变量"
   ]
  },
  {
   "cell_type": "code",
   "execution_count": 4,
   "metadata": {},
   "outputs": [
    {
     "data": {
      "text/plain": [
       "40"
      ]
     },
     "execution_count": 4,
     "metadata": {},
     "output_type": "execute_result"
    }
   ],
   "source": [
    "spam = 40\n",
    "spam # 赋了新值后，原来的值就被覆盖了"
   ]
  },
  {
   "cell_type": "code",
   "execution_count": 5,
   "metadata": {},
   "outputs": [
    {
     "data": {
      "text/plain": [
       "50"
      ]
     },
     "execution_count": 5,
     "metadata": {},
     "output_type": "execute_result"
    }
   ],
   "source": [
    "eggs = 10\n",
    "spam = spam + eggs\n",
    "spam"
   ]
  },
  {
   "cell_type": "markdown",
   "metadata": {},
   "source": [
    "## 3.2 变量名\n",
    "可以给变量取任何名字，只要它遵守以下3条规则：\n",
    "(1) 只能是一个词。\n",
    "(2) 只能包含字母、数字和下划线。\n",
    "(3) 不能以数字开头。\n",
    "\n",
    "### 下面的变量名，哪些是有效的，哪些是无效的？\n",
    "balance, current-balance, current balance, currentBalance, current_balance, \\_spam, SPAM, 4account, account4, 100, total_$um, 'swufe'\n",
    "\n",
    "---\n",
    "**<font color=red>变量名是区分大小写的</font>**。这意味着，swufe、 SWUFE、Swufe 和sWuFe 是4个不同的变量。变量用小写字母开头是Python的惯例（不是必须，但是建议这样做）。\n",
    "\n",
    "一般在给变量命名时，为了标识变量中值的含义，会使用一些有意义的单词组合，例如利用taxIncome来存储计算得到的应纳税所得额会比使用abc好些。taxIncome这样的命名方式叫做**驼峰形式**，还可以使用Python官方建议的**PEP8**代码风格，即tax_income。\n"
   ]
  },
  {
   "cell_type": "code",
   "execution_count": null,
   "metadata": {
    "collapsed": true
   },
   "outputs": [],
   "source": []
  }
 ],
 "metadata": {
  "kernelspec": {
   "display_name": "Python 3",
   "language": "python",
   "name": "python3"
  },
  "language_info": {
   "codemirror_mode": {
    "name": "ipython",
    "version": 3
   },
   "file_extension": ".py",
   "mimetype": "text/x-python",
   "name": "python",
   "nbconvert_exporter": "python",
   "pygments_lexer": "ipython3",
   "version": "3.6.2"
  }
 },
 "nbformat": 4,
 "nbformat_minor": 2
}
