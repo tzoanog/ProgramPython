{
 "cells": [
  {
   "cell_type": "markdown",
   "metadata": {},
   "source": [
    "<table border=0 width=\"100%\"><tr><td><p align=\"left\"><img src=\"Images/logo.png\" align=\"left\" width=300></p></td><td><font size=5><B>Python程序设计与应用</B></font></td></tr></table>"
   ]
  },
  {
   "cell_type": "markdown",
   "metadata": {},
   "source": [
    "# <div align='center'>第六部分 字典数据类型</div> "
   ]
  },
  {
   "cell_type": "markdown",
   "metadata": {},
   "source": [
    "## 知识点\n",
    "* 字典数据类型\n",
    "* 字典类型的操作"
   ]
  },
  {
   "cell_type": "markdown",
   "metadata": {},
   "source": [
    "## 预习\n",
    "* 第六章：组合数据类型"
   ]
  },
  {
   "attachments": {},
   "cell_type": "markdown",
   "metadata": {},
   "source": [
    "# 1. 字典数据类型\n",
    "字典数据(dictionary)类型提供了一种灵活的访问和组织数据的方式。像列表一样，“字典”是许多值的集合。但不像列表的下标，***字典的索引可以使用许多不同数据类型***，不只是整数。字典的索引被称为“键”，键及其关联的值称为“***键-值***”对。\n",
    "\n",
    "Python语言中的字典可以通过大括号(**{}**)建立，建立模式如下：\n",
    "\n",
    "<center> **{<键1>:<值1>, <键2>:<值2>, … , <键n>:<值n>} ** </center>\n",
    "\n",
    "其中，键和值通过冒号连接，不同键值对通过逗号隔开。\n",
    "\n",
    "例如，把下表中的一条雇员数据存储在字典employee中：\n",
    "\n",
    "|编号|姓名|部门|电子邮箱|电话号码|身份证号码|\n",
    "|---|---|---|---|---|---|\n",
    "|10932|张珊|管理|zhans@163.com|18612345678|520125197907167551|\n",
    "|10933|李思|软件|lisi@163.com|18612345679|510110195512176250|\n",
    "|10934|王武|财务|wangwu@example.com|18612345680|510102196510255826|"
   ]
  },
  {
   "cell_type": "code",
   "execution_count": 2,
   "metadata": {},
   "outputs": [],
   "source": [
    "employee = {\"编号\":\"10932\",\"姓名\":\"张珊\",\"部门\":\"管理\",\"电子邮箱\":\"zhans@163.com\",\"电话号码\":\"18612345678\",\"身份证号码\":\"520125197907167551\"}"
   ]
  },
  {
   "cell_type": "markdown",
   "metadata": {},
   "source": [
    "在这个字典中，编号、姓名、部门、电子邮箱、电话号码、身份证号码称为“**键**”，10932、张珊、管理、zhans@163.com、18612345678、520125197907167551称为这些键分别对应的“**值**”。\n",
    "\n",
    "键通常是字符串，但它还可以是Python中其他任意的**不可变类型**：布尔型、整型、浮点型、元组、字符串，以及其他一些不可变的类型。字典本身是可变的，因此可以增加、删除或修改其中的键值对。字典的键必须保证互不相同。"
   ]
  },
  {
   "cell_type": "code",
   "execution_count": 3,
   "metadata": {
    "collapsed": true
   },
   "outputs": [],
   "source": [
    "tmpDic = {True:100, 108:(\"西南财大\",\"电子科大\"),3.14:\"Pi\"}"
   ]
  },
  {
   "cell_type": "markdown",
   "metadata": {},
   "source": [
    "上面这个字典没有任何实际意义，但是，***请指出它的键分别有哪些？值分别有哪些？***"
   ]
  },
  {
   "attachments": {},
   "cell_type": "markdown",
   "metadata": {},
   "source": [
    "字典中的表项是不排序的。字典打印出来的顺序与创建之初的顺序不同，这不是错误。字典是集合类型的延续，各个元素并没有顺序之分。如果一样，纯属巧合:)"
   ]
  },
  {
   "cell_type": "code",
   "execution_count": 5,
   "metadata": {
    "scrolled": true
   },
   "outputs": [
    {
     "name": "stdout",
     "output_type": "stream",
     "text": [
      "{'编号': '10932', '姓名': '张珊', '部门': '管理', '电子邮箱': 'zhans@163.com', '电话号码': '18612345678', '身份证号码': '520125197907167551'}\n"
     ]
    }
   ],
   "source": [
    "print(employee)"
   ]
  },
  {
   "attachments": {},
   "cell_type": "markdown",
   "metadata": {},
   "source": [
    "* **访问字典值**：\n",
    "\n",
    "字典最主要的用法是查找与特定键相对应的值，这通过索引符号来实现。 \n",
    "\n",
    "一般来说，字典中键值对的访问模式如下，采用中括号格式：\n",
    "       \n",
    "<center>**<值> = <字典变量>[<键>] **</center>\n",
    "       \n",
    "字典中对某个键值的修改可以通过中括号的访问和赋值实现："
   ]
  },
  {
   "cell_type": "code",
   "execution_count": 8,
   "metadata": {},
   "outputs": [
    {
     "data": {
      "text/plain": [
       "'张珊'"
      ]
     },
     "execution_count": 8,
     "metadata": {},
     "output_type": "execute_result"
    }
   ],
   "source": [
    "employee['姓名']"
   ]
  },
  {
   "cell_type": "code",
   "execution_count": 10,
   "metadata": {
    "collapsed": true
   },
   "outputs": [],
   "source": [
    "employee['部门'] = '人事'"
   ]
  },
  {
   "cell_type": "code",
   "execution_count": 11,
   "metadata": {},
   "outputs": [
    {
     "name": "stdout",
     "output_type": "stream",
     "text": [
      "{'编号': '10932', '姓名': '张珊', '部门': '人事', '电子邮箱': 'zhans@163.com', '电话号码': '18612345678', '身份证号码': '520125197907167551'}\n"
     ]
    }
   ],
   "source": [
    "print(employee)"
   ]
  },
  {
   "cell_type": "markdown",
   "metadata": {},
   "source": [
    "尝试访问字典中不存在的键，将导致KeyError 出错信息。这很像列表的“越界”IndexError 出错信息。"
   ]
  },
  {
   "cell_type": "code",
   "execution_count": 12,
   "metadata": {},
   "outputs": [
    {
     "ename": "KeyError",
     "evalue": "'salary'",
     "output_type": "error",
     "traceback": [
      "\u001b[1;31m---------------------------------------------------------------------------\u001b[0m",
      "\u001b[1;31mKeyError\u001b[0m                                  Traceback (most recent call last)",
      "\u001b[1;32m<ipython-input-12-deb5ebadbaa4>\u001b[0m in \u001b[0;36m<module>\u001b[1;34m()\u001b[0m\n\u001b[1;32m----> 1\u001b[1;33m \u001b[0memployee\u001b[0m\u001b[1;33m[\u001b[0m\u001b[1;34m'salary'\u001b[0m\u001b[1;33m]\u001b[0m\u001b[1;33m\u001b[0m\u001b[0m\n\u001b[0m",
      "\u001b[1;31mKeyError\u001b[0m: 'salary'"
     ]
    }
   ],
   "source": [
    "employee['salary']"
   ]
  },
  {
   "cell_type": "markdown",
   "metadata": {},
   "source": [
    "因为字典是不排序的，所以不能像列表那样切片。"
   ]
  },
  {
   "cell_type": "code",
   "execution_count": 7,
   "metadata": {},
   "outputs": [
    {
     "ename": "TypeError",
     "evalue": "unhashable type: 'slice'",
     "output_type": "error",
     "traceback": [
      "\u001b[1;31m---------------------------------------------------------------------------\u001b[0m",
      "\u001b[1;31mTypeError\u001b[0m                                 Traceback (most recent call last)",
      "\u001b[1;32m<ipython-input-7-89fab597fde0>\u001b[0m in \u001b[0;36m<module>\u001b[1;34m()\u001b[0m\n\u001b[1;32m----> 1\u001b[1;33m \u001b[0memployee\u001b[0m\u001b[1;33m[\u001b[0m\u001b[1;34m'编号'\u001b[0m\u001b[1;33m:\u001b[0m\u001b[1;34m'电话号码'\u001b[0m\u001b[1;33m]\u001b[0m\u001b[1;33m\u001b[0m\u001b[0m\n\u001b[0m",
      "\u001b[1;31mTypeError\u001b[0m: unhashable type: 'slice'"
     ]
    }
   ],
   "source": [
    "employee['编号':'电话号码']"
   ]
  },
  {
   "attachments": {},
   "cell_type": "markdown",
   "metadata": {},
   "source": [
    "* **添加键值对**\n",
    "\n",
    "通过中括号可以增加新的元素，例如雇员信息中，发现少了性别，可以通过下面的方式添加:"
   ]
  },
  {
   "cell_type": "code",
   "execution_count": 13,
   "metadata": {},
   "outputs": [
    {
     "data": {
      "text/plain": [
       "{'姓名': '张珊',\n",
       " '电子邮箱': 'zhans@163.com',\n",
       " '电话号码': '18612345678',\n",
       " '编号': '10932',\n",
       " '身份证号码': '520125197907167551',\n",
       " '部门': '人事'}"
      ]
     },
     "execution_count": 13,
     "metadata": {},
     "output_type": "execute_result"
    }
   ],
   "source": [
    "employee"
   ]
  },
  {
   "cell_type": "code",
   "execution_count": 14,
   "metadata": {
    "collapsed": true
   },
   "outputs": [],
   "source": [
    "employee['性别'] ='女'"
   ]
  },
  {
   "cell_type": "code",
   "execution_count": 15,
   "metadata": {},
   "outputs": [
    {
     "data": {
      "text/plain": [
       "{'姓名': '张珊',\n",
       " '性别': '女',\n",
       " '电子邮箱': 'zhans@163.com',\n",
       " '电话号码': '18612345678',\n",
       " '编号': '10932',\n",
       " '身份证号码': '520125197907167551',\n",
       " '部门': '人事'}"
      ]
     },
     "execution_count": 15,
     "metadata": {},
     "output_type": "execute_result"
    }
   ],
   "source": [
    "employee"
   ]
  },
  {
   "attachments": {},
   "cell_type": "markdown",
   "metadata": {},
   "source": [
    "* **删除键值对**\n",
    "\n",
    "通过del删除字典中某一个键值对:"
   ]
  },
  {
   "cell_type": "code",
   "execution_count": 17,
   "metadata": {},
   "outputs": [],
   "source": [
    "del employee['性别']"
   ]
  },
  {
   "cell_type": "code",
   "execution_count": 18,
   "metadata": {},
   "outputs": [
    {
     "data": {
      "text/plain": [
       "{'姓名': '张珊',\n",
       " '电子邮箱': 'zhans@163.com',\n",
       " '电话号码': '18612345678',\n",
       " '编号': '10932',\n",
       " '身份证号码': '520125197907167551',\n",
       " '部门': '人事'}"
      ]
     },
     "execution_count": 18,
     "metadata": {},
     "output_type": "execute_result"
    }
   ],
   "source": [
    "employee"
   ]
  },
  {
   "attachments": {},
   "cell_type": "markdown",
   "metadata": {},
   "source": [
    "# 2. 字典类型的操作\n",
    "\n",
    "|函数和方法|描述|\n",
    "|-----|:-----|\n",
    "|<d>.keys()|返回所有的键信息|\n",
    "|<d>.values()|返回所有的值信息||\n",
    "|<d>.items()|返回所有的键值对|\n",
    "|<d>.get(<key>,<default>)|键存在则返回相应值，否则返回默认值|\n",
    "|<d>.pop(<key>,<default>)|键存在则返回相应值，同时删除键值对，否则返回默认值|\n",
    "|<d>.popitem()|随机从字典中取出一个键值对，以元组(key, value)形式返回|\n",
    "|<d>.clear()|删除所有的键值对|\n",
    "|del <d>[<key>]|删除字典中某一个键值对|\n",
    "|<key> in <d>|如果键在字典中返回True，否则返回False|"
   ]
  },
  {
   "cell_type": "markdown",
   "metadata": {},
   "source": [
    "## 2.1 keys()、values()和items()方法\n",
    "有3 个字典方法，它们将返回类似列表的值，分别对应于字典的键、值和键-值对：keys()、values()和items()。这些方法返回的值不是真正的列表，它们不能被修改，没有append()方法。但这些数据类型（分别是dict_keys、dict_values 和dict_items）可以用于for 循环。"
   ]
  },
  {
   "cell_type": "code",
   "execution_count": 19,
   "metadata": {},
   "outputs": [
    {
     "name": "stdout",
     "output_type": "stream",
     "text": [
      "10932\n",
      "张珊\n",
      "人事\n",
      "zhans@163.com\n",
      "18612345678\n",
      "520125197907167551\n"
     ]
    }
   ],
   "source": [
    "for v in employee.values():\n",
    "    print(v)"
   ]
  },
  {
   "cell_type": "code",
   "execution_count": 20,
   "metadata": {},
   "outputs": [
    {
     "name": "stdout",
     "output_type": "stream",
     "text": [
      "编号\n",
      "姓名\n",
      "部门\n",
      "电子邮箱\n",
      "电话号码\n",
      "身份证号码\n"
     ]
    }
   ],
   "source": [
    "for k in employee.keys():\n",
    "    print(k)"
   ]
  },
  {
   "cell_type": "code",
   "execution_count": 21,
   "metadata": {},
   "outputs": [
    {
     "name": "stdout",
     "output_type": "stream",
     "text": [
      "('编号', '10932')\n",
      "('姓名', '张珊')\n",
      "('部门', '人事')\n",
      "('电子邮箱', 'zhans@163.com')\n",
      "('电话号码', '18612345678')\n",
      "('身份证号码', '520125197907167551')\n"
     ]
    }
   ],
   "source": [
    "for i in employee.items():\n",
    "    print(i)"
   ]
  },
  {
   "cell_type": "markdown",
   "metadata": {},
   "source": [
    "利用keys()、values()和items()方法，循环分别可以迭代键、值或键-值对。请注意，items()方法返回的dict_items 值中，包含的是键和值的元组。\n",
    "\n",
    "如果希望通过这些方法得到一个真正的列表，就把类似列表的返回值传递给 list函数。"
   ]
  },
  {
   "cell_type": "code",
   "execution_count": 22,
   "metadata": {},
   "outputs": [
    {
     "data": {
      "text/plain": [
       "dict_keys(['编号', '姓名', '部门', '电子邮箱', '电话号码', '身份证号码'])"
      ]
     },
     "execution_count": 22,
     "metadata": {},
     "output_type": "execute_result"
    }
   ],
   "source": [
    "employee.keys()"
   ]
  },
  {
   "cell_type": "code",
   "execution_count": 23,
   "metadata": {},
   "outputs": [
    {
     "data": {
      "text/plain": [
       "['编号', '姓名', '部门', '电子邮箱', '电话号码', '身份证号码']"
      ]
     },
     "execution_count": 23,
     "metadata": {},
     "output_type": "execute_result"
    }
   ],
   "source": [
    "list(employee.keys())"
   ]
  },
  {
   "cell_type": "markdown",
   "metadata": {},
   "source": [
    "也可以利用多重赋值的技巧，在for 循环中将键和值赋给不同的变量。"
   ]
  },
  {
   "cell_type": "code",
   "execution_count": 24,
   "metadata": {},
   "outputs": [
    {
     "name": "stdout",
     "output_type": "stream",
     "text": [
      "key:编号  Value:10932\n",
      "key:姓名  Value:张珊\n",
      "key:部门  Value:人事\n",
      "key:电子邮箱  Value:zhans@163.com\n",
      "key:电话号码  Value:18612345678\n",
      "key:身份证号码  Value:520125197907167551\n"
     ]
    }
   ],
   "source": [
    "for k, v in employee.items():\n",
    "    print(\"key:\" + k + \"  Value:\" + v)"
   ]
  },
  {
   "cell_type": "markdown",
   "metadata": {},
   "source": [
    "## 2.2 检查字典中是否存在键或值\n",
    "\n",
    "前面提到，in 和not in 操作符可以检查值是否存在于列表中。也可以利用这些操作符，检查某个键或值是否存在于字典中。"
   ]
  },
  {
   "cell_type": "code",
   "execution_count": 25,
   "metadata": {},
   "outputs": [
    {
     "data": {
      "text/plain": [
       "True"
      ]
     },
     "execution_count": 25,
     "metadata": {},
     "output_type": "execute_result"
    }
   ],
   "source": [
    "'姓名' in employee"
   ]
  },
  {
   "cell_type": "code",
   "execution_count": 26,
   "metadata": {},
   "outputs": [
    {
     "data": {
      "text/plain": [
       "False"
      ]
     },
     "execution_count": 26,
     "metadata": {},
     "output_type": "execute_result"
    }
   ],
   "source": [
    "'张珊' in employee"
   ]
  },
  {
   "cell_type": "code",
   "execution_count": 27,
   "metadata": {},
   "outputs": [
    {
     "data": {
      "text/plain": [
       "True"
      ]
     },
     "execution_count": 27,
     "metadata": {},
     "output_type": "execute_result"
    }
   ],
   "source": [
    "'张珊' in employee.values()"
   ]
  },
  {
   "cell_type": "code",
   "execution_count": 28,
   "metadata": {},
   "outputs": [
    {
     "data": {
      "text/plain": [
       "True"
      ]
     },
     "execution_count": 28,
     "metadata": {},
     "output_type": "execute_result"
    }
   ],
   "source": [
    "'部门' in employee.keys()"
   ]
  },
  {
   "cell_type": "code",
   "execution_count": 29,
   "metadata": {},
   "outputs": [
    {
     "data": {
      "text/plain": [
       "True"
      ]
     },
     "execution_count": 29,
     "metadata": {},
     "output_type": "execute_result"
    }
   ],
   "source": [
    "'性别' not in employee"
   ]
  },
  {
   "cell_type": "markdown",
   "metadata": {},
   "source": [
    "## 2.3 get()方法\n",
    "\n",
    "在访问一个键的值之前，检查该键是否存在于字典中，这很麻烦。好在，字典有一个get()方法，它有两个参数：要取得其值的键，以及如果该键不存在时，返回的备用值。"
   ]
  },
  {
   "cell_type": "code",
   "execution_count": 31,
   "metadata": {},
   "outputs": [
    {
     "ename": "KeyError",
     "evalue": "'salary'",
     "output_type": "error",
     "traceback": [
      "\u001b[1;31m---------------------------------------------------------------------------\u001b[0m",
      "\u001b[1;31mKeyError\u001b[0m                                  Traceback (most recent call last)",
      "\u001b[1;32m<ipython-input-31-2bccb474a0ea>\u001b[0m in \u001b[0;36m<module>\u001b[1;34m()\u001b[0m\n\u001b[1;32m----> 1\u001b[1;33m \u001b[0mcurEmployeeSalary\u001b[0m \u001b[1;33m=\u001b[0m \u001b[0memployee\u001b[0m\u001b[1;33m[\u001b[0m\u001b[1;34m'salary'\u001b[0m\u001b[1;33m]\u001b[0m\u001b[1;33m\u001b[0m\u001b[0m\n\u001b[0m",
      "\u001b[1;31mKeyError\u001b[0m: 'salary'"
     ]
    }
   ],
   "source": [
    "curEmployeeSalary = employee['salary']"
   ]
  },
  {
   "cell_type": "code",
   "execution_count": 32,
   "metadata": {},
   "outputs": [
    {
     "name": "stdout",
     "output_type": "stream",
     "text": [
      "0\n"
     ]
    }
   ],
   "source": [
    "if 'salary' in employee:\n",
    "    curEmployeeSalary = employee['salary']\n",
    "else:\n",
    "    curEmployeeSalary = 0\n",
    "\n",
    "print(curEmployeeSalary)"
   ]
  },
  {
   "cell_type": "code",
   "execution_count": 33,
   "metadata": {},
   "outputs": [
    {
     "name": "stdout",
     "output_type": "stream",
     "text": [
      "0\n"
     ]
    }
   ],
   "source": [
    "curEmployeeSalary = employee.get('salary',0)\n",
    "print(curEmployeeSalary)"
   ]
  },
  {
   "cell_type": "markdown",
   "metadata": {},
   "source": [
    "## 2.4 setdefault()方法\n",
    "\n",
    "常常需要为字典中某个键设置一个默认值，当该键没有任何值时使用它。代码看起来像这样："
   ]
  },
  {
   "cell_type": "code",
   "execution_count": 34,
   "metadata": {},
   "outputs": [
    {
     "data": {
      "text/plain": [
       "{'姓名': '张珊',\n",
       " '电子邮箱': 'zhans@163.com',\n",
       " '电话号码': '18612345678',\n",
       " '编号': '10932',\n",
       " '身份证号码': '520125197907167551',\n",
       " '部门': '人事'}"
      ]
     },
     "execution_count": 34,
     "metadata": {},
     "output_type": "execute_result"
    }
   ],
   "source": [
    "employee"
   ]
  },
  {
   "cell_type": "code",
   "execution_count": 35,
   "metadata": {
    "collapsed": true
   },
   "outputs": [],
   "source": [
    "if 'salary' not in employee:\n",
    "    employee['salary'] = 0\n"
   ]
  },
  {
   "cell_type": "code",
   "execution_count": 36,
   "metadata": {},
   "outputs": [
    {
     "data": {
      "text/plain": [
       "{'salary': 0,\n",
       " '姓名': '张珊',\n",
       " '电子邮箱': 'zhans@163.com',\n",
       " '电话号码': '18612345678',\n",
       " '编号': '10932',\n",
       " '身份证号码': '520125197907167551',\n",
       " '部门': '人事'}"
      ]
     },
     "execution_count": 36,
     "metadata": {},
     "output_type": "execute_result"
    }
   ],
   "source": [
    "employee"
   ]
  },
  {
   "cell_type": "markdown",
   "metadata": {},
   "source": [
    "setdefault()方法提供了一种方式，在一行中完成这件事。传递给该方法的第一个参数，是要检查的键。第二个参数，是如果该键不存在时要设置的值。"
   ]
  },
  {
   "cell_type": "code",
   "execution_count": 37,
   "metadata": {
    "collapsed": true
   },
   "outputs": [],
   "source": [
    "del employee['salary']"
   ]
  },
  {
   "cell_type": "code",
   "execution_count": 38,
   "metadata": {},
   "outputs": [
    {
     "data": {
      "text/plain": [
       "{'姓名': '张珊',\n",
       " '电子邮箱': 'zhans@163.com',\n",
       " '电话号码': '18612345678',\n",
       " '编号': '10932',\n",
       " '身份证号码': '520125197907167551',\n",
       " '部门': '人事'}"
      ]
     },
     "execution_count": 38,
     "metadata": {},
     "output_type": "execute_result"
    }
   ],
   "source": [
    "employee"
   ]
  },
  {
   "cell_type": "code",
   "execution_count": 39,
   "metadata": {},
   "outputs": [
    {
     "data": {
      "text/plain": [
       "0"
      ]
     },
     "execution_count": 39,
     "metadata": {},
     "output_type": "execute_result"
    }
   ],
   "source": [
    "employee.setdefault('salary', 0)"
   ]
  },
  {
   "cell_type": "code",
   "execution_count": 40,
   "metadata": {},
   "outputs": [
    {
     "data": {
      "text/plain": [
       "{'salary': 0,\n",
       " '姓名': '张珊',\n",
       " '电子邮箱': 'zhans@163.com',\n",
       " '电话号码': '18612345678',\n",
       " '编号': '10932',\n",
       " '身份证号码': '520125197907167551',\n",
       " '部门': '人事'}"
      ]
     },
     "execution_count": 40,
     "metadata": {},
     "output_type": "execute_result"
    }
   ],
   "source": [
    "employee"
   ]
  },
  {
   "cell_type": "markdown",
   "metadata": {},
   "source": [
    "如果该键确实存在，方法就会返回键的值。"
   ]
  },
  {
   "cell_type": "code",
   "execution_count": 41,
   "metadata": {
    "collapsed": true
   },
   "outputs": [],
   "source": [
    "department = employee.setdefault('部门', '管理')"
   ]
  },
  {
   "cell_type": "code",
   "execution_count": 42,
   "metadata": {},
   "outputs": [
    {
     "data": {
      "text/plain": [
       "'人事'"
      ]
     },
     "execution_count": 42,
     "metadata": {},
     "output_type": "execute_result"
    }
   ],
   "source": [
    "department"
   ]
  },
  {
   "cell_type": "markdown",
   "metadata": {},
   "source": [
    "**字典小实例：**\n",
    "\n",
    "setdefault()方法是一个很好的快捷方式，可以确保一个键存在。下面有一个小程序，计算一个字符串中每个字符出现的次数。"
   ]
  },
  {
   "cell_type": "code",
   "execution_count": 44,
   "metadata": {},
   "outputs": [
    {
     "name": "stdout",
     "output_type": "stream",
     "text": [
      "{'我': 2, '爱': 1, '程': 1, '序': 1, '设': 1, '计': 1, '，': 2, '要': 1, '好': 2, '学': 1, '习': 1, '天': 2, '向': 1, '上': 1, '。': 1}\n"
     ]
    }
   ],
   "source": [
    "message = \"我爱程序设计，我要好好学习，天天向上。\"\n",
    "count = {}\n",
    "for character in message:\n",
    "    count.setdefault(character, 0)\n",
    "    count[character] = count[character] + 1\n",
    "    \n",
    "print(count)"
   ]
  },
  {
   "cell_type": "markdown",
   "metadata": {},
   "source": [
    "## 2.5 使用update()合并字典\n",
    "\n",
    "使用update() 可以将一个字典的键值对复制到另一个字典中去。"
   ]
  },
  {
   "cell_type": "code",
   "execution_count": 52,
   "metadata": {},
   "outputs": [],
   "source": [
    "empInfo = {\"编号\":\"10932\",\"姓名\":\"张珊\",\"部门\":\"管理\",\"电子邮箱\":\"zhans@163.com\",\"电话号码\":\"18612345678\",\"身份证号码\":\"520125197907167551\"}\n",
    "empIncome = {\"编号\":\"10932\",\"电话号码\":\"18687654321\",\"基本工资\":15000.00,\"奖金\":4000.00,\"住房补助\":2300.00,\"五险一金\":980.00,\"其他扣款\":300.00 ,\"专项附加扣除\":1000.00}"
   ]
  },
  {
   "cell_type": "code",
   "execution_count": 53,
   "metadata": {},
   "outputs": [
    {
     "data": {
      "text/plain": [
       "{'姓名': '张珊',\n",
       " '电子邮箱': 'zhans@163.com',\n",
       " '电话号码': '18612345678',\n",
       " '编号': '10932',\n",
       " '身份证号码': '520125197907167551',\n",
       " '部门': '管理'}"
      ]
     },
     "execution_count": 53,
     "metadata": {},
     "output_type": "execute_result"
    }
   ],
   "source": [
    "empInfo"
   ]
  },
  {
   "cell_type": "code",
   "execution_count": 54,
   "metadata": {},
   "outputs": [
    {
     "data": {
      "text/plain": [
       "{'专项附加扣除': 1000.0,\n",
       " '五险一金': 980.0,\n",
       " '住房补助': 2300.0,\n",
       " '其他扣款': 300.0,\n",
       " '基本工资': 15000.0,\n",
       " '奖金': 4000.0,\n",
       " '电话号码': '18687654321',\n",
       " '编号': '10932'}"
      ]
     },
     "execution_count": 54,
     "metadata": {},
     "output_type": "execute_result"
    }
   ],
   "source": [
    "empIncome"
   ]
  },
  {
   "cell_type": "code",
   "execution_count": 55,
   "metadata": {
    "collapsed": true
   },
   "outputs": [],
   "source": [
    "empInfo.update(empIncome)"
   ]
  },
  {
   "cell_type": "code",
   "execution_count": 56,
   "metadata": {},
   "outputs": [
    {
     "data": {
      "text/plain": [
       "{'专项附加扣除': 1000.0,\n",
       " '五险一金': 980.0,\n",
       " '住房补助': 2300.0,\n",
       " '其他扣款': 300.0,\n",
       " '基本工资': 15000.0,\n",
       " '奖金': 4000.0,\n",
       " '姓名': '张珊',\n",
       " '电子邮箱': 'zhans@163.com',\n",
       " '电话号码': '18687654321',\n",
       " '编号': '10932',\n",
       " '身份证号码': '520125197907167551',\n",
       " '部门': '管理'}"
      ]
     },
     "execution_count": 56,
     "metadata": {},
     "output_type": "execute_result"
    }
   ],
   "source": [
    "empInfo"
   ]
  },
  {
   "cell_type": "markdown",
   "metadata": {},
   "source": [
    "其中，\n",
    "\n",
    "* 在字典empInfo和empIncome中都存在的键\"编号\"和\"电话号码\"，使用empIncome中的值替换；\n",
    "* 只在字典empInfo中的键对应的值维持原值；\n",
    "* 只在字典empIncome中的键对应的键值对被添加到empInfo字典中。"
   ]
  },
  {
   "cell_type": "markdown",
   "metadata": {},
   "source": [
    "## 2.6 漂亮打印\n",
    "如果程序中导入pprint 模块，就可以使用pprint()和pformat()函数，它们将“漂亮打印”一个字典的字。如果想要字典中表项的显示比print()的输出结果更干净，这就有用了。"
   ]
  },
  {
   "cell_type": "code",
   "execution_count": 58,
   "metadata": {},
   "outputs": [
    {
     "name": "stdout",
     "output_type": "stream",
     "text": [
      "{'。': 1,\n",
      " '上': 1,\n",
      " '习': 1,\n",
      " '向': 1,\n",
      " '天': 2,\n",
      " '好': 2,\n",
      " '学': 1,\n",
      " '序': 1,\n",
      " '我': 2,\n",
      " '爱': 1,\n",
      " '程': 1,\n",
      " '要': 1,\n",
      " '计': 1,\n",
      " '设': 1,\n",
      " '，': 2}\n"
     ]
    }
   ],
   "source": [
    "import pprint\n",
    "message = \"我爱程序设计，我要好好学习，天天向上。\"\n",
    "count = {}\n",
    "for character in message:\n",
    "    count.setdefault(character, 0)\n",
    "    count[character] = count[character] + 1\n",
    "    \n",
    "pprint.pprint(count)"
   ]
  },
  {
   "cell_type": "markdown",
   "metadata": {},
   "source": [
    "# 3. 字典综合实例：人事统计\n",
    "现有表格数据如下\n",
    "\n",
    "|编号|姓名|部门|电子邮箱|电话号码|身份证号码|\n",
    "|---|----|----|:----|----|----|\n",
    "|10932|张珊|管理|zhans@163.com|18612345678|520125197907167551|\n",
    "|10933|李思|软件|lisi@163.com|18612345679|510110195512176250|\n",
    "|10934|王武|财务|wangwu@example.com|18612345680|510102196510255826|\n",
    "|10935|赵柳|财务|zhaoliu@163.com|18612345681|510115195810287715|\n",
    "|10936|钱棋|人事|qianqi@example.com|18612345682|510103196707165650|\n",
    "|10941|张明|管理|zhangming@example.com|18612345683|510105198112166015|\n",
    "|10942|赵敏|人事|zhaomin@163.com|18612345684|510105198505225815|\n",
    "|10945|王红|培训|wanghong@example.com|18612345685|510221196208516555|\n",
    "|10946|李萧|培训|lixiao@example.com|18612345686|510221196601510810|\n",
    "|10947|孙科|软件|sunke@163.com|18612345687|510105198507025519|\n",
    "|10948|刘利|软件|liuli@example.com|18612345688|510227197510280527|\n",
    "\n",
    "对下列表格进行统计：\n",
    "* 各部门人数\n",
    "* 使用163电子邮箱人数\n",
    "* 性别为男的员工人数\n",
    "\n",
    "表格中的数据已经存在employeeList列表中："
   ]
  },
  {
   "cell_type": "code",
   "execution_count": 59,
   "metadata": {
    "collapsed": true
   },
   "outputs": [],
   "source": [
    "employeeList = [['10932','张珊','管理','zhans@163.com','18612345678','520125197907167551'],\n",
    "['10933','李思','软件','lisi@163.com','18612345679','510110195512176250'],\n",
    "['10934','王武','财务','wangwu@example.com','18612345680','510102196510255826'],\n",
    "['10935','赵柳','财务','zhaoliu@163.com','18612345681','510115195810287715'],\n",
    "['10936','钱棋','人事','qianqi@example.com','18612345682','510103196707165650'],\n",
    "['10941','张明','管理','zhangming@example.com','18612345683','510105198112166015'],\n",
    "['10942','赵敏','人事','zhaomin@163.com','18612345684','510105198505225815'],\n",
    "['10945','王红','培训','wanghong@example.com','18612345685','510221196208516555'],\n",
    "['10946','李萧','培训','lixiao@example.com','18612345686','510221196601510810'],\n",
    "['10947','孙科','软件','sunke@163.com','18612345687','510105198507025519'],\n",
    "['10948','刘利','软件','liuli@example.com','18612345688','510227197510280527']]"
   ]
  },
  {
   "cell_type": "markdown",
   "metadata": {},
   "source": [
    "*** PS. 掌握了如何用程序操作文件后，就不再需要这样读取数据了，可以操作成千上万的数据了，文件操作将在下一部分介绍，期待吧！！！ ***"
   ]
  },
  {
   "cell_type": "markdown",
   "metadata": {},
   "source": [
    "将employeeList中的数据存储到字典中："
   ]
  },
  {
   "cell_type": "code",
   "execution_count": null,
   "metadata": {
    "collapsed": true
   },
   "outputs": [],
   "source": []
  },
  {
   "cell_type": "markdown",
   "metadata": {},
   "source": [
    "统计各部门人数："
   ]
  },
  {
   "cell_type": "code",
   "execution_count": null,
   "metadata": {
    "collapsed": true
   },
   "outputs": [],
   "source": []
  },
  {
   "cell_type": "markdown",
   "metadata": {},
   "source": [
    "统计使用163电子邮箱人数："
   ]
  },
  {
   "cell_type": "code",
   "execution_count": null,
   "metadata": {
    "collapsed": true
   },
   "outputs": [],
   "source": []
  },
  {
   "cell_type": "markdown",
   "metadata": {},
   "source": [
    "性别为男的员工人数:"
   ]
  },
  {
   "cell_type": "code",
   "execution_count": null,
   "metadata": {
    "collapsed": true
   },
   "outputs": [],
   "source": []
  },
  {
   "attachments": {},
   "cell_type": "markdown",
   "metadata": {},
   "source": [
    "# 4. 字典实例2：斐波拉切数列\n",
    "\n",
    "斐波那契数列（Fibonacci sequence），又称黄金分割数列、因数学家列昂纳多·斐波那契（Leonardoda Fibonacci）。以兔子繁殖为例子而引入，故又称为“兔子数列”，指的是这样一个数列：1、1、2、3、5、8、13、21、34、……\n",
    "\n",
    "在数学上，斐波纳契数列以如下被以递推的方法定义：F(1)=1，F(2)=1, F(n)=F(n-1)+F(n-2)（n>=3，n∈N*）\n",
    "\n",
    "这个数列从第3项开始，每一项都等于前两项之和。"
   ]
  },
  {
   "cell_type": "markdown",
   "metadata": {},
   "source": [
    "* **使用递归的方式实现：**"
   ]
  },
  {
   "cell_type": "code",
   "execution_count": 61,
   "metadata": {
    "collapsed": true
   },
   "outputs": [],
   "source": [
    "def fibo(i):\n",
    "    if i == 0:\n",
    "        return 0\n",
    "    elif i == 1:\n",
    "        return 1\n",
    "    else:\n",
    "        return fibo(i-1) + fibo(i-2)"
   ]
  },
  {
   "cell_type": "code",
   "execution_count": 63,
   "metadata": {},
   "outputs": [
    {
     "name": "stdout",
     "output_type": "stream",
     "text": [
      "0 1 1 2 3 5 8 13 21 34 "
     ]
    }
   ],
   "source": [
    "for i in range(10):\n",
    "    print(fibo(i), end=' ')"
   ]
  },
  {
   "cell_type": "markdown",
   "metadata": {},
   "source": [
    "试试打印出前50项（运行下面的代码前，做好心理准备:)"
   ]
  },
  {
   "cell_type": "code",
   "execution_count": null,
   "metadata": {},
   "outputs": [],
   "source": [
    "for i in range(50):\n",
    "    print(fibo(i), end=' ')"
   ]
  },
  {
   "cell_type": "markdown",
   "metadata": {},
   "source": [
    "<u>如此之慢的原因是什么？</u>\n",
    "<font color='white'>每次在计算第i项值时，都需要递归调用直到fibo(0)，也就是说像fibo(0),fibo(1),fibo(2),fibo(3)被计算了无数次，如果我们能在第一次计算出来后就存储下来，以供后面使用，会不会快些？<font>"
   ]
  },
  {
   "cell_type": "markdown",
   "metadata": {},
   "source": [
    "让我们使用字典改进一下："
   ]
  },
  {
   "cell_type": "code",
   "execution_count": 67,
   "metadata": {
    "collapsed": true
   },
   "outputs": [],
   "source": [
    "alreadKnow = {0: 0, 1: 1}\n",
    "\n",
    "def fibByDic(n):\n",
    "    if n not in alreadKnow:\n",
    "        new_value = fib(n-1) + fib(n-2)\n",
    "        alreadKnow[n] = new_value\n",
    "    return alreadKnow[n]"
   ]
  },
  {
   "cell_type": "code",
   "execution_count": 68,
   "metadata": {},
   "outputs": [
    {
     "name": "stdout",
     "output_type": "stream",
     "text": [
      "0 1 1 2 3 5 8 13 21 34 55 89 144 233 377 610 987 1597 2584 4181 6765 10946 17711 28657 46368 75025 121393 196418 317811 514229 832040 1346269 2178309 3524578 5702887 9227465 14930352 24157817 39088169 63245986 102334155 165580141 267914296 433494437 701408733 1134903170 1836311903 2971215073 4807526976 7778742049 "
     ]
    }
   ],
   "source": [
    "for i in range(50):\n",
    "    print(fibByDic(i), end=' ')"
   ]
  },
  {
   "cell_type": "markdown",
   "metadata": {},
   "source": [
    "和简单的递归相比较，速度是否快到让你怀疑人生？所以，有的时候<b><font size=7 color=red>算法很重要</font><b>。程序设计可以让你的工作由几天节约至几个小时，好的算法可能可以让你的程序运行时间从几个小时节约至几秒钟。"
   ]
  },
  {
   "attachments": {},
   "cell_type": "markdown",
   "metadata": {},
   "source": [
    "# 5. jieba库的使用\n",
    "\n",
    "jieba是Python中一个重要的第三方中文分词函数库："
   ]
  },
  {
   "cell_type": "code",
   "execution_count": 72,
   "metadata": {},
   "outputs": [
    {
     "name": "stderr",
     "output_type": "stream",
     "text": [
      "Building prefix dict from the default dictionary ...\n",
      "Dumping model to file cache C:\\Users\\xiezh\\AppData\\Local\\Temp\\jieba.cache\n",
      "Loading model cost 0.724 seconds.\n",
      "Prefix dict has been built succesfully.\n"
     ]
    },
    {
     "data": {
      "text/plain": [
       "['中国', '是', '一个', '伟大', '的', '国家']"
      ]
     },
     "execution_count": 72,
     "metadata": {},
     "output_type": "execute_result"
    }
   ],
   "source": [
    "import jieba\n",
    "jieba.lcut(\"中国是一个伟大的国家\")"
   ]
  },
  {
   "attachments": {},
   "cell_type": "markdown",
   "metadata": {},
   "source": [
    "jieba库是第三方库，不是安装包自带，需要通过pip指令安装：\n",
    "```Python\n",
    "pip install jieba   \n",
    "# 或者 \n",
    "pip3 install jieba\n",
    "```"
   ]
  },
  {
   "attachments": {},
   "cell_type": "markdown",
   "metadata": {},
   "source": [
    "jieba库的解析方法：\n",
    "\n",
    "|函数|描述|\n",
    "|---|:---|\n",
    "|jieba.cut(s)|精确模式，返回一个可迭代的数据类型|\n",
    "|jieba.cut(s, cut_all=True)|全模式，输出文本s中所有可能单词|\n",
    "|jieba.cut_for_search(s)|搜索引擎模式，适合搜索引擎建立索引的分词结果|\n",
    "|jieba.lcut(s)|精确模式，返回一个列表类型，建议使用|\n",
    "|jieba.lcut(s, cut_all=True)|全模式，返回一个列表类型，建议使用|\n",
    "|jieba.add_word(w)|向分词词典中增加新词w|"
   ]
  },
  {
   "cell_type": "code",
   "execution_count": 74,
   "metadata": {},
   "outputs": [
    {
     "data": {
      "text/plain": [
       "['中华人民共和国', '是', '一个', '伟大', '的', '国家']"
      ]
     },
     "execution_count": 74,
     "metadata": {},
     "output_type": "execute_result"
    }
   ],
   "source": [
    "import jieba\n",
    "jieba.lcut(\"中华人民共和国是一个伟大的国家\")"
   ]
  },
  {
   "cell_type": "code",
   "execution_count": 75,
   "metadata": {},
   "outputs": [
    {
     "data": {
      "text/plain": [
       "['中华',\n",
       " '中华人民',\n",
       " '中华人民共和国',\n",
       " '华人',\n",
       " '人民',\n",
       " '人民共和国',\n",
       " '共和',\n",
       " '共和国',\n",
       " '国是',\n",
       " '一个',\n",
       " '伟大',\n",
       " '的',\n",
       " '国家']"
      ]
     },
     "execution_count": 75,
     "metadata": {},
     "output_type": "execute_result"
    }
   ],
   "source": [
    "jieba.lcut(\"中华人民共和国是一个伟大的国家\", cut_all=True)"
   ]
  },
  {
   "cell_type": "code",
   "execution_count": 76,
   "metadata": {},
   "outputs": [
    {
     "data": {
      "text/plain": [
       "['中华', '华人', '人民', '共和', '共和国', '中华人民共和国', '是', '一个', '伟大', '的', '国家']"
      ]
     },
     "execution_count": 76,
     "metadata": {},
     "output_type": "execute_result"
    }
   ],
   "source": [
    "jieba.lcut_for_search(\"中华人民共和国是一个伟大的国家\")"
   ]
  },
  {
   "cell_type": "markdown",
   "metadata": {},
   "source": [
    "中文切词有时并不是那么容易，比如："
   ]
  },
  {
   "cell_type": "code",
   "execution_count": 77,
   "metadata": {},
   "outputs": [
    {
     "data": {
      "text/plain": [
       "['南京市', '长江大桥']"
      ]
     },
     "execution_count": 77,
     "metadata": {},
     "output_type": "execute_result"
    }
   ],
   "source": [
    "jieba.lcut('南京市长江大桥')"
   ]
  },
  {
   "cell_type": "markdown",
   "metadata": {},
   "source": [
    "其实，我想说的是：\"南京市长\"，\"江大桥\"。这个怎么办？课外了解一下。"
   ]
  },
  {
   "attachments": {},
   "cell_type": "markdown",
   "metadata": {},
   "source": [
    "## 用jieba做文本词频统计"
   ]
  },
  {
   "attachments": {},
   "cell_type": "markdown",
   "metadata": {},
   "source": [
    "### 《Hamlet》英文词频统计\n"
   ]
  },
  {
   "cell_type": "code",
   "execution_count": 79,
   "metadata": {},
   "outputs": [
    {
     "name": "stdout",
     "output_type": "stream",
     "text": [
      "the        1138\n",
      "and         965\n",
      "to          754\n",
      "of          669\n",
      "you         550\n",
      "i           542\n",
      "a           542\n",
      "my          514\n",
      "hamlet      462\n",
      "in          436\n"
     ]
    }
   ],
   "source": [
    "def getText():\n",
    "    txt = open(\"Documents/hamlet.txt\", \"r\").read()\n",
    "    txt = txt.lower()\n",
    "    for ch in '!\"#$%&()*+,-./:;<=>?@[\\\\]^_‘{|}~':\n",
    "        txt = txt.replace(ch, \" \")   #将文本中特殊字符替换为空格\n",
    "    return txt\n",
    "\n",
    "hamletTxt = getText()\n",
    "words  = hamletTxt.split()\n",
    "counts = {}\n",
    "for word in words:\n",
    "    counts[word] = counts.get(word,0) + 1\n",
    "items = list(counts.items())\n",
    "items.sort(key=lambda x:x[1], reverse=True) \n",
    "for i in range(10):\n",
    "    word, count = items[i]\n",
    "    print (\"{0:<10}{1:>5}\".format(word, count))\n"
   ]
  },
  {
   "attachments": {},
   "cell_type": "markdown",
   "metadata": {},
   "source": [
    "观察输出结果可以看到，高频单词大多数是冠词、代词、连接词等语法型词汇，并不能代表文章的含义。进一步，可以采用集合类型构建一个排除词汇库excludes，在输出结果中排除这个词汇库中内容。"
   ]
  },
  {
   "cell_type": "code",
   "execution_count": 82,
   "metadata": {},
   "outputs": [
    {
     "name": "stdout",
     "output_type": "stream",
     "text": [
      "to          754\n",
      "hamlet      462\n",
      "it          416\n",
      "that        391\n",
      "is          340\n",
      "not         314\n",
      "lord        309\n",
      "his         296\n",
      "this        295\n",
      "but         269\n"
     ]
    }
   ],
   "source": [
    "excludes = {\"the\",\"and\",\"of\",\"you\",\"a\",\"i\",\"my\",\"in\"}\n",
    "\n",
    "def getText():\n",
    "    txt = open(\"Documents/hamlet.txt\", \"r\").read()\n",
    "    txt = txt.lower()\n",
    "    for ch in '!\"#$%&()*+,-./:;<=>?@[\\\\]^_‘{|}~':\n",
    "        txt = txt.replace(ch, \" \")   #将文本中特殊字符替换为空格\n",
    "    return txt\n",
    "\n",
    "hamletTxt = getText()\n",
    "words  = hamletTxt.split()\n",
    "counts = {}\n",
    "for word in words:\n",
    "    counts[word] = counts.get(word,0) + 1\n",
    "for word in excludes:\n",
    "    del(counts[word])\n",
    "items = list(counts.items())\n",
    "items.sort(key=lambda x:x[1], reverse=True) \n",
    "for i in range(10):\n",
    "    word, count = items[i]\n",
    "    print (\"{0:<10}{1:>5}\".format(word, count))"
   ]
  },
  {
   "attachments": {},
   "cell_type": "markdown",
   "metadata": {},
   "source": [
    "### 《三国演义》人物出场统计 "
   ]
  },
  {
   "cell_type": "code",
   "execution_count": 84,
   "metadata": {},
   "outputs": [
    {
     "name": "stdout",
     "output_type": "stream",
     "text": [
      "曹操          953\n",
      "孔明          836\n",
      "将军          772\n",
      "却说          656\n",
      "玄德          585\n",
      "关公          510\n",
      "丞相          491\n",
      "二人          469\n",
      "不可          440\n",
      "荆州          425\n",
      "玄德曰         390\n",
      "孔明曰         390\n",
      "不能          384\n",
      "如此          378\n",
      "张飞          358\n"
     ]
    }
   ],
   "source": [
    "import jieba\n",
    "txt = open(\"Documents/三国演义.txt\", \"r\", encoding='utf-8').read()\n",
    "words  = jieba.lcut(txt)\n",
    "counts = {}\n",
    "for word in words:\n",
    "    if len(word) == 1:  #排除单个字符的分词结果\n",
    "        continue\n",
    "    else:\n",
    "        counts[word] = counts.get(word,0) + 1\n",
    "items = list(counts.items())\n",
    "items.sort(key=lambda x:x[1], reverse=True) \n",
    "for i in range(15):\n",
    "    word, count = items[i]\n",
    "    print (\"{0:<10}{1:>5}\".format(word, count))"
   ]
  },
  {
   "attachments": {},
   "cell_type": "markdown",
   "metadata": {},
   "source": [
    "观察输出结果，同一个人物会有不同的名字，这种情况需要整合处理。同时，与英文词频统计类似，需要排除一些人名无关词汇，如“却说”、“将军”等。"
   ]
  },
  {
   "cell_type": "code",
   "execution_count": 87,
   "metadata": {},
   "outputs": [
    {
     "name": "stdout",
     "output_type": "stream",
     "text": [
      "曹操         1451\n",
      "孔明         1383\n",
      "刘备         1252\n",
      "关羽          784\n",
      "张飞          358\n"
     ]
    }
   ],
   "source": [
    "import jieba\n",
    "excludes = {\"将军\",\"却说\",\"荆州\",\"二人\",\"不可\",\"不能\",\"如此\"}\n",
    "\n",
    "txt = open(\"Documents/三国演义.txt\", \"r\", encoding='utf-8').read()\n",
    "words  = jieba.lcut(txt)\n",
    "counts = {}\n",
    "\n",
    "for word in words:\n",
    "    if len(word) == 1:\n",
    "        continue\n",
    "    elif word == \"诸葛亮\" or word == \"孔明曰\":\n",
    "        rword = \"孔明\"\n",
    "    elif word == \"关公\" or word == \"云长\":\n",
    "        rword = \"关羽\"\n",
    "    elif word == \"玄德\" or word == \"玄德曰\":\n",
    "        rword = \"刘备\"\n",
    "    elif word == \"孟德\" or word == \"丞相\":\n",
    "        rword = \"曹操\"\n",
    "    else:\n",
    "        rword = word\n",
    "    counts[rword] = counts.get(rword,0) + 1\n",
    "    \n",
    "for word in excludes:\n",
    "    del(counts[word])\n",
    "items = list(counts.items())\n",
    "items.sort(key=lambda x:x[1], reverse=True) \n",
    "for i in range(5):\n",
    "    word, count = items[i]\n",
    "    print (\"{0:<10}{1:>5}\".format(word, count))\n"
   ]
  },
  {
   "attachments": {},
   "cell_type": "markdown",
   "metadata": {},
   "source": [
    "请继续完善程序，排除更多无关词汇干扰，总结出场最多的20个人物都有哪些。这里，给出参考答案。\n",
    "\n",
    "曹操（1451）、孔明（1383）、刘备（1252）、关羽（784）、张飞（358）、\n",
    "吕布（300）、赵云（278）、孙权（264）、司马懿（221）、周瑜（217）、\n",
    "袁绍（191）、马超（185）、魏延（180）、黄忠（168）、姜维（151）、\n",
    "马岱（127）、庞德（122）、孟获（122）、刘表（120）、夏侯惇（116）"
   ]
  },
  {
   "cell_type": "markdown",
   "metadata": {},
   "source": [
    "# 6.小结\n",
    "列表和字典是这样的值，它们可以包含多个值，包括其他列表和字典。字典是有用的，因为你可以把一些项（键）映射到另一些项（值），它不像列表，只包含一系列有序的值。\n",
    "\n",
    "字典中的值是通过方括号访问的，像列表一样。字典不是只能使用整数下标，而是可以用各种数据类型作为键：整型、浮点型、字符串或元组。\n",
    "\n",
    "通过将程序中的值组织成数据结构，你可以创建真实世界事物的模型。例如一个简单的人事结构。"
   ]
  },
  {
   "cell_type": "markdown",
   "metadata": {},
   "source": [
    "## 练习\n",
    "**(1)** 空字典的代码是怎样的？<br>\n",
    "\n",
    "**(2)** 一个字典包含键'fow'和值42，看起来是怎样的？<br>\n",
    "\n",
    "**(3)** 字典和列表的主要区别是什么？<br>\n",
    "\n",
    "**(4)** 如果emp是{'name':'张三', age': 30}，你试图访问emp['gender']，会发生什么？\n",
    "\n",
    "**(5)** 如果一个字典保存在变量中，表达式'cat' in pets 和'cat' in pets.values()之间的区别是什么？\n",
    "\n",
    "**(6)** 列表和元组之间的区别是什么？<br>\n",
    "\n",
    "**(7)** 如果元组中只有一个整数值42，如何输入该元组？<br>"
   ]
  },
  {
   "cell_type": "markdown",
   "metadata": {},
   "source": [
    "# 作业：《绝地求生》游戏设计\n",
    "\n",
    "假设你在设计《绝地求生》的游戏。用于对玩家物品清单建模的数据结构是一个字典。其中键是字符串，描述清单中的物品，值是一个整型值，说明玩家有多少该物品。例如，字典值{'绷带': 10, '急救包': 1, '医疗箱': 3, '止痛药': 8, '能量饮料': 3}意味着玩家有10个绷带、1个急救包、3个医疗箱，8瓶止痛药和3瓶能量饮料等。\n",
    "\n",
    "写一个名为**displayInventory()**的函数，它接受任何可能的物品清单，并显示如下："
   ]
  },
  {
   "cell_type": "markdown",
   "metadata": {},
   "source": [
    "<img src=\"Images/homework61.png\" width=90%>"
   ]
  },
  {
   "cell_type": "markdown",
   "metadata": {},
   "source": [
    "假设游戏玩家可以一次性捡到一个“盒子”(游戏特有说法，可以上网查查看)里所有的物资，这个功能在游戏里是没有的，但是作为游戏总设计师的你决定加上这个功能。盒子使用列表表示，例如['绷带','医疗箱','绷带','绷带' ,'肾上腺素注射器', '能量饮料','肾上腺素注射器']，表示盒子里有3个绷带，1个医疗箱，2个肾上腺素注射器和1瓶能量饮料。\n",
    "\n",
    "写一个名为**addToInventory(inventory, boxItems)**的函数，其中inventory 参数是一个字典，表示玩家的物品清单（像前面一样），boxItems参数是一个列表，addToInventory()函数应该返回一个字典，表示更新过的物品清单。请注意，列表可以包含多个同样的项。你的代码看起来可能像这样："
   ]
  },
  {
   "cell_type": "markdown",
   "metadata": {},
   "source": [
    "<img src=\"Images/homework62.png\" width=90%>"
   ]
  },
  {
   "cell_type": "markdown",
   "metadata": {},
   "source": [
    "将2个截图作为第5次作业的附件，发送到xzl_swufe@163.com。<br><br>\n",
    "<b><font color=red>邮件标题必须类似于：作业6_12345678。</font>其中12345678需要替换成你的学号。<br><br><b><font color=red>邮件标题必须类似于：作业6_12345678。</font>其中12345678需要替换成你的学号。<br><br><b><font color=red>邮件标题必须类似于：作业6_12345678。</font>其中12345678需要替换成你的学号。"
   ]
  },
  {
   "cell_type": "code",
   "execution_count": null,
   "metadata": {
    "collapsed": true
   },
   "outputs": [],
   "source": []
  }
 ],
 "metadata": {
  "kernelspec": {
   "display_name": "Python 3",
   "language": "python",
   "name": "python3"
  },
  "language_info": {
   "codemirror_mode": {
    "name": "ipython",
    "version": 3
   },
   "file_extension": ".py",
   "mimetype": "text/x-python",
   "name": "python",
   "nbconvert_exporter": "python",
   "pygments_lexer": "ipython3",
   "version": "3.6.2"
  }
 },
 "nbformat": 4,
 "nbformat_minor": 2
}
